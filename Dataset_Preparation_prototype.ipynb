{
 "cells": [
  {
   "cell_type": "markdown",
   "metadata": {},
   "source": [
    "# Preperation of Datasets\n",
    "In this notebook, we extract the ratings from the filenames, and create csv files that we can work with later on.\n",
    "\n",
    "\n",
    "## Importing and downloading Libraries"
   ]
  },
  {
   "cell_type": "code",
   "execution_count": 150,
   "metadata": {},
   "outputs": [
    {
     "name": "stderr",
     "output_type": "stream",
     "text": [
      "[nltk_data] Downloading package punkt to /home/codespace/nltk_data...\n",
      "[nltk_data]   Package punkt is already up-to-date!\n",
      "[nltk_data] Downloading package stopwords to\n",
      "[nltk_data]     /home/codespace/nltk_data...\n",
      "[nltk_data]   Package stopwords is already up-to-date!\n",
      "[nltk_data] Downloading package wordnet to\n",
      "[nltk_data]     /home/codespace/nltk_data...\n",
      "[nltk_data]   Package wordnet is already up-to-date!\n"
     ]
    }
   ],
   "source": [
    "import os\n",
    "import glob\n",
    "import pandas as pd\n",
    "from numpy import *\n",
    "\n",
    "import re\n",
    "\n",
    "import contractions\n",
    "import nltk\n",
    "import numpy as np\n",
    "import pandas as pd\n",
    "import matplotlib.pyplot as plt\n",
    "from imblearn.over_sampling import RandomOverSampler\n",
    "from collections import Counter\n",
    "from numpy import *\n",
    "import seaborn as sns\n",
    "from collections import Counter\n",
    "from nltk.corpus import stopwords\n",
    "from nltk.stem import WordNetLemmatizer\n",
    "from nltk.tokenize import TweetTokenizer\n",
    "from sklearn.model_selection import train_test_split\n",
    "from sklearn.feature_extraction.text import CountVectorizer, TfidfVectorizer\n",
    "from wordcloud import WordCloud, STOPWORDS\n",
    "\n",
    "\n",
    "# Download necessary NLTK data\n",
    "nltk.download('punkt')\n",
    "nltk.download('stopwords')\n",
    "nltk.download('wordnet')\n",
    "\n",
    "import warnings\n",
    "warnings.filterwarnings('ignore')"
   ]
  },
  {
   "cell_type": "markdown",
   "metadata": {},
   "source": [
    "## Loading in dataset"
   ]
  },
  {
   "cell_type": "code",
   "execution_count": 151,
   "metadata": {},
   "outputs": [],
   "source": [
    "pos_file_path = 'data/Raw/pos/*.txt'  \n",
    "neg_file_path = 'data/Raw/neg/*.txt'\n",
    "\n",
    "def get_data(file_path):\n",
    "    files = glob.glob(file_path)\n",
    "    df = pd.DataFrame(columns=['FileName', 'Content'])\n",
    "    for file in files:\n",
    "        # Extract file name\n",
    "        file_name = os.path.basename(file)\n",
    "        # Read in file content\n",
    "        with open(file, 'r', encoding='utf-8') as file_open:\n",
    "            content = file_open.read()\n",
    "        file_to_add = pd.DataFrame({'FileName': [file_name], 'Content': [content]})\n",
    "        df = pd.concat([df, file_to_add], ignore_index=True)\n",
    "    return df"
   ]
  },
  {
   "cell_type": "code",
   "execution_count": 152,
   "metadata": {},
   "outputs": [],
   "source": [
    "pos_unclean_df = get_data(pos_file_path)\n",
    "neg_unclean_df = get_data(neg_file_path)"
   ]
  },
  {
   "cell_type": "code",
   "execution_count": 153,
   "metadata": {},
   "outputs": [
    {
     "data": {
      "text/html": [
       "<div>\n",
       "<style scoped>\n",
       "    .dataframe tbody tr th:only-of-type {\n",
       "        vertical-align: middle;\n",
       "    }\n",
       "\n",
       "    .dataframe tbody tr th {\n",
       "        vertical-align: top;\n",
       "    }\n",
       "\n",
       "    .dataframe thead th {\n",
       "        text-align: right;\n",
       "    }\n",
       "</style>\n",
       "<table border=\"1\" class=\"dataframe\">\n",
       "  <thead>\n",
       "    <tr style=\"text-align: right;\">\n",
       "      <th></th>\n",
       "      <th>FileName</th>\n",
       "      <th>Content</th>\n",
       "    </tr>\n",
       "  </thead>\n",
       "  <tbody>\n",
       "    <tr>\n",
       "      <th>0</th>\n",
       "      <td>7497_7.txt</td>\n",
       "      <td>This documentary has been aired on both RTE an...</td>\n",
       "    </tr>\n",
       "    <tr>\n",
       "      <th>1</th>\n",
       "      <td>19196_10.txt</td>\n",
       "      <td>This 8 minute gem is not only timeless, but it...</td>\n",
       "    </tr>\n",
       "    <tr>\n",
       "      <th>2</th>\n",
       "      <td>22496_10.txt</td>\n",
       "      <td>I thought this movie was fun. I have never rea...</td>\n",
       "    </tr>\n",
       "    <tr>\n",
       "      <th>3</th>\n",
       "      <td>8306_8.txt</td>\n",
       "      <td>This was the second of three films that Irving...</td>\n",
       "    </tr>\n",
       "    <tr>\n",
       "      <th>4</th>\n",
       "      <td>946_9.txt</td>\n",
       "      <td>I found 'Still Crazy' to be marvelously entert...</td>\n",
       "    </tr>\n",
       "  </tbody>\n",
       "</table>\n",
       "</div>"
      ],
      "text/plain": [
       "       FileName                                            Content\n",
       "0    7497_7.txt  This documentary has been aired on both RTE an...\n",
       "1  19196_10.txt  This 8 minute gem is not only timeless, but it...\n",
       "2  22496_10.txt  I thought this movie was fun. I have never rea...\n",
       "3    8306_8.txt  This was the second of three films that Irving...\n",
       "4     946_9.txt  I found 'Still Crazy' to be marvelously entert..."
      ]
     },
     "execution_count": 153,
     "metadata": {},
     "output_type": "execute_result"
    }
   ],
   "source": [
    "pos_unclean_df.head()"
   ]
  },
  {
   "cell_type": "code",
   "execution_count": 154,
   "metadata": {},
   "outputs": [
    {
     "data": {
      "text/html": [
       "<div>\n",
       "<style scoped>\n",
       "    .dataframe tbody tr th:only-of-type {\n",
       "        vertical-align: middle;\n",
       "    }\n",
       "\n",
       "    .dataframe tbody tr th {\n",
       "        vertical-align: top;\n",
       "    }\n",
       "\n",
       "    .dataframe thead th {\n",
       "        text-align: right;\n",
       "    }\n",
       "</style>\n",
       "<table border=\"1\" class=\"dataframe\">\n",
       "  <thead>\n",
       "    <tr style=\"text-align: right;\">\n",
       "      <th></th>\n",
       "      <th>FileName</th>\n",
       "      <th>Content</th>\n",
       "    </tr>\n",
       "  </thead>\n",
       "  <tbody>\n",
       "    <tr>\n",
       "      <th>0</th>\n",
       "      <td>14741_2.txt</td>\n",
       "      <td>Seriously! You've just got to see this movie t...</td>\n",
       "    </tr>\n",
       "    <tr>\n",
       "      <th>1</th>\n",
       "      <td>22227_3.txt</td>\n",
       "      <td>Set in the near future a dark stranger walks i...</td>\n",
       "    </tr>\n",
       "    <tr>\n",
       "      <th>2</th>\n",
       "      <td>8486_4.txt</td>\n",
       "      <td>The Brothers Quay are directors, judging by co...</td>\n",
       "    </tr>\n",
       "    <tr>\n",
       "      <th>3</th>\n",
       "      <td>20539_2.txt</td>\n",
       "      <td>I lived next door to the author in 1980 when h...</td>\n",
       "    </tr>\n",
       "    <tr>\n",
       "      <th>4</th>\n",
       "      <td>9476_1.txt</td>\n",
       "      <td>I just saw this Movie on a local TV Station (T...</td>\n",
       "    </tr>\n",
       "  </tbody>\n",
       "</table>\n",
       "</div>"
      ],
      "text/plain": [
       "      FileName                                            Content\n",
       "0  14741_2.txt  Seriously! You've just got to see this movie t...\n",
       "1  22227_3.txt  Set in the near future a dark stranger walks i...\n",
       "2   8486_4.txt  The Brothers Quay are directors, judging by co...\n",
       "3  20539_2.txt  I lived next door to the author in 1980 when h...\n",
       "4   9476_1.txt  I just saw this Movie on a local TV Station (T..."
      ]
     },
     "execution_count": 154,
     "metadata": {},
     "output_type": "execute_result"
    }
   ],
   "source": [
    "neg_unclean_df.head()"
   ]
  },
  {
   "cell_type": "code",
   "execution_count": 155,
   "metadata": {},
   "outputs": [],
   "source": [
    "def extract_rating_from_filename(filename):\n",
    "    parts = filename.split(\"_\")\n",
    "    rating = parts[1].split(\".\")[0]\n",
    "    return int(rating)"
   ]
  },
  {
   "cell_type": "code",
   "execution_count": 156,
   "metadata": {},
   "outputs": [
    {
     "data": {
      "text/html": [
       "<div>\n",
       "<style scoped>\n",
       "    .dataframe tbody tr th:only-of-type {\n",
       "        vertical-align: middle;\n",
       "    }\n",
       "\n",
       "    .dataframe tbody tr th {\n",
       "        vertical-align: top;\n",
       "    }\n",
       "\n",
       "    .dataframe thead th {\n",
       "        text-align: right;\n",
       "    }\n",
       "</style>\n",
       "<table border=\"1\" class=\"dataframe\">\n",
       "  <thead>\n",
       "    <tr style=\"text-align: right;\">\n",
       "      <th></th>\n",
       "      <th>FileName</th>\n",
       "      <th>Content</th>\n",
       "      <th>rating</th>\n",
       "    </tr>\n",
       "  </thead>\n",
       "  <tbody>\n",
       "    <tr>\n",
       "      <th>0</th>\n",
       "      <td>7497_7.txt</td>\n",
       "      <td>This documentary has been aired on both RTE an...</td>\n",
       "      <td>7</td>\n",
       "    </tr>\n",
       "    <tr>\n",
       "      <th>1</th>\n",
       "      <td>19196_10.txt</td>\n",
       "      <td>This 8 minute gem is not only timeless, but it...</td>\n",
       "      <td>10</td>\n",
       "    </tr>\n",
       "    <tr>\n",
       "      <th>2</th>\n",
       "      <td>22496_10.txt</td>\n",
       "      <td>I thought this movie was fun. I have never rea...</td>\n",
       "      <td>10</td>\n",
       "    </tr>\n",
       "    <tr>\n",
       "      <th>3</th>\n",
       "      <td>8306_8.txt</td>\n",
       "      <td>This was the second of three films that Irving...</td>\n",
       "      <td>8</td>\n",
       "    </tr>\n",
       "    <tr>\n",
       "      <th>4</th>\n",
       "      <td>946_9.txt</td>\n",
       "      <td>I found 'Still Crazy' to be marvelously entert...</td>\n",
       "      <td>9</td>\n",
       "    </tr>\n",
       "  </tbody>\n",
       "</table>\n",
       "</div>"
      ],
      "text/plain": [
       "       FileName                                            Content  rating\n",
       "0    7497_7.txt  This documentary has been aired on both RTE an...       7\n",
       "1  19196_10.txt  This 8 minute gem is not only timeless, but it...      10\n",
       "2  22496_10.txt  I thought this movie was fun. I have never rea...      10\n",
       "3    8306_8.txt  This was the second of three films that Irving...       8\n",
       "4     946_9.txt  I found 'Still Crazy' to be marvelously entert...       9"
      ]
     },
     "execution_count": 156,
     "metadata": {},
     "output_type": "execute_result"
    }
   ],
   "source": [
    "pos_unclean_df['rating'] = pos_unclean_df['FileName'].apply(lambda z: extract_rating_from_filename(z))\n",
    "pos_unclean_df.head()"
   ]
  },
  {
   "cell_type": "code",
   "execution_count": 157,
   "metadata": {},
   "outputs": [
    {
     "name": "stdout",
     "output_type": "stream",
     "text": [
      "[ 7 10  8  9]\n"
     ]
    }
   ],
   "source": [
    "# Check unique positive ratings\n",
    "pos_ratings = pos_unclean_df['rating'].unique()\n",
    "print(pos_ratings)"
   ]
  },
  {
   "cell_type": "code",
   "execution_count": 158,
   "metadata": {},
   "outputs": [
    {
     "data": {
      "text/html": [
       "<div>\n",
       "<style scoped>\n",
       "    .dataframe tbody tr th:only-of-type {\n",
       "        vertical-align: middle;\n",
       "    }\n",
       "\n",
       "    .dataframe tbody tr th {\n",
       "        vertical-align: top;\n",
       "    }\n",
       "\n",
       "    .dataframe thead th {\n",
       "        text-align: right;\n",
       "    }\n",
       "</style>\n",
       "<table border=\"1\" class=\"dataframe\">\n",
       "  <thead>\n",
       "    <tr style=\"text-align: right;\">\n",
       "      <th></th>\n",
       "      <th>FileName</th>\n",
       "      <th>Content</th>\n",
       "      <th>rating</th>\n",
       "    </tr>\n",
       "  </thead>\n",
       "  <tbody>\n",
       "    <tr>\n",
       "      <th>0</th>\n",
       "      <td>14741_2.txt</td>\n",
       "      <td>Seriously! You've just got to see this movie t...</td>\n",
       "      <td>2</td>\n",
       "    </tr>\n",
       "    <tr>\n",
       "      <th>1</th>\n",
       "      <td>22227_3.txt</td>\n",
       "      <td>Set in the near future a dark stranger walks i...</td>\n",
       "      <td>3</td>\n",
       "    </tr>\n",
       "    <tr>\n",
       "      <th>2</th>\n",
       "      <td>8486_4.txt</td>\n",
       "      <td>The Brothers Quay are directors, judging by co...</td>\n",
       "      <td>4</td>\n",
       "    </tr>\n",
       "    <tr>\n",
       "      <th>3</th>\n",
       "      <td>20539_2.txt</td>\n",
       "      <td>I lived next door to the author in 1980 when h...</td>\n",
       "      <td>2</td>\n",
       "    </tr>\n",
       "    <tr>\n",
       "      <th>4</th>\n",
       "      <td>9476_1.txt</td>\n",
       "      <td>I just saw this Movie on a local TV Station (T...</td>\n",
       "      <td>1</td>\n",
       "    </tr>\n",
       "  </tbody>\n",
       "</table>\n",
       "</div>"
      ],
      "text/plain": [
       "      FileName                                            Content  rating\n",
       "0  14741_2.txt  Seriously! You've just got to see this movie t...       2\n",
       "1  22227_3.txt  Set in the near future a dark stranger walks i...       3\n",
       "2   8486_4.txt  The Brothers Quay are directors, judging by co...       4\n",
       "3  20539_2.txt  I lived next door to the author in 1980 when h...       2\n",
       "4   9476_1.txt  I just saw this Movie on a local TV Station (T...       1"
      ]
     },
     "execution_count": 158,
     "metadata": {},
     "output_type": "execute_result"
    }
   ],
   "source": [
    "neg_unclean_df['rating'] = neg_unclean_df['FileName'].apply(lambda z: extract_rating_from_filename(z))\n",
    "neg_unclean_df.head()"
   ]
  },
  {
   "cell_type": "code",
   "execution_count": 159,
   "metadata": {},
   "outputs": [
    {
     "name": "stdout",
     "output_type": "stream",
     "text": [
      "[2 3 4 1]\n"
     ]
    }
   ],
   "source": [
    "# Check unique negative ratings\n",
    "neg_ratings = neg_unclean_df['rating'].unique()\n",
    "print(neg_ratings)"
   ]
  },
  {
   "cell_type": "code",
   "execution_count": 160,
   "metadata": {},
   "outputs": [
    {
     "data": {
      "text/html": [
       "<div>\n",
       "<style scoped>\n",
       "    .dataframe tbody tr th:only-of-type {\n",
       "        vertical-align: middle;\n",
       "    }\n",
       "\n",
       "    .dataframe tbody tr th {\n",
       "        vertical-align: top;\n",
       "    }\n",
       "\n",
       "    .dataframe thead th {\n",
       "        text-align: right;\n",
       "    }\n",
       "</style>\n",
       "<table border=\"1\" class=\"dataframe\">\n",
       "  <thead>\n",
       "    <tr style=\"text-align: right;\">\n",
       "      <th></th>\n",
       "      <th>FileName</th>\n",
       "      <th>Content</th>\n",
       "      <th>rating</th>\n",
       "    </tr>\n",
       "  </thead>\n",
       "  <tbody>\n",
       "    <tr>\n",
       "      <th>0</th>\n",
       "      <td>7497_7.txt</td>\n",
       "      <td>This documentary has been aired on both RTE an...</td>\n",
       "      <td>7</td>\n",
       "    </tr>\n",
       "    <tr>\n",
       "      <th>1</th>\n",
       "      <td>19196_10.txt</td>\n",
       "      <td>This 8 minute gem is not only timeless, but it...</td>\n",
       "      <td>10</td>\n",
       "    </tr>\n",
       "    <tr>\n",
       "      <th>2</th>\n",
       "      <td>22496_10.txt</td>\n",
       "      <td>I thought this movie was fun. I have never rea...</td>\n",
       "      <td>10</td>\n",
       "    </tr>\n",
       "    <tr>\n",
       "      <th>3</th>\n",
       "      <td>8306_8.txt</td>\n",
       "      <td>This was the second of three films that Irving...</td>\n",
       "      <td>8</td>\n",
       "    </tr>\n",
       "    <tr>\n",
       "      <th>4</th>\n",
       "      <td>946_9.txt</td>\n",
       "      <td>I found 'Still Crazy' to be marvelously entert...</td>\n",
       "      <td>9</td>\n",
       "    </tr>\n",
       "    <tr>\n",
       "      <th>5</th>\n",
       "      <td>21822_8.txt</td>\n",
       "      <td>An interesting and involved film about a \"life...</td>\n",
       "      <td>8</td>\n",
       "    </tr>\n",
       "    <tr>\n",
       "      <th>6</th>\n",
       "      <td>19223_10.txt</td>\n",
       "      <td>Nazarin is some kind of saint,he wants to live...</td>\n",
       "      <td>10</td>\n",
       "    </tr>\n",
       "    <tr>\n",
       "      <th>7</th>\n",
       "      <td>12847_10.txt</td>\n",
       "      <td>This is an excellent movie. Phoolan had no rol...</td>\n",
       "      <td>10</td>\n",
       "    </tr>\n",
       "    <tr>\n",
       "      <th>8</th>\n",
       "      <td>9200_10.txt</td>\n",
       "      <td>This film is one of the best shorts I've ever ...</td>\n",
       "      <td>10</td>\n",
       "    </tr>\n",
       "    <tr>\n",
       "      <th>9</th>\n",
       "      <td>10352_8.txt</td>\n",
       "      <td>Today if someone mentions the name Victor McLa...</td>\n",
       "      <td>8</td>\n",
       "    </tr>\n",
       "  </tbody>\n",
       "</table>\n",
       "</div>"
      ],
      "text/plain": [
       "       FileName                                            Content  rating\n",
       "0    7497_7.txt  This documentary has been aired on both RTE an...       7\n",
       "1  19196_10.txt  This 8 minute gem is not only timeless, but it...      10\n",
       "2  22496_10.txt  I thought this movie was fun. I have never rea...      10\n",
       "3    8306_8.txt  This was the second of three films that Irving...       8\n",
       "4     946_9.txt  I found 'Still Crazy' to be marvelously entert...       9\n",
       "5   21822_8.txt  An interesting and involved film about a \"life...       8\n",
       "6  19223_10.txt  Nazarin is some kind of saint,he wants to live...      10\n",
       "7  12847_10.txt  This is an excellent movie. Phoolan had no rol...      10\n",
       "8   9200_10.txt  This film is one of the best shorts I've ever ...      10\n",
       "9   10352_8.txt  Today if someone mentions the name Victor McLa...       8"
      ]
     },
     "execution_count": 160,
     "metadata": {},
     "output_type": "execute_result"
    }
   ],
   "source": [
    "pos_unclean_df.head(10)"
   ]
  },
  {
   "cell_type": "code",
   "execution_count": 161,
   "metadata": {},
   "outputs": [
    {
     "data": {
      "text/html": [
       "<div>\n",
       "<style scoped>\n",
       "    .dataframe tbody tr th:only-of-type {\n",
       "        vertical-align: middle;\n",
       "    }\n",
       "\n",
       "    .dataframe tbody tr th {\n",
       "        vertical-align: top;\n",
       "    }\n",
       "\n",
       "    .dataframe thead th {\n",
       "        text-align: right;\n",
       "    }\n",
       "</style>\n",
       "<table border=\"1\" class=\"dataframe\">\n",
       "  <thead>\n",
       "    <tr style=\"text-align: right;\">\n",
       "      <th></th>\n",
       "      <th>FileName</th>\n",
       "      <th>Content</th>\n",
       "      <th>rating</th>\n",
       "    </tr>\n",
       "  </thead>\n",
       "  <tbody>\n",
       "    <tr>\n",
       "      <th>0</th>\n",
       "      <td>14741_2.txt</td>\n",
       "      <td>Seriously! You've just got to see this movie t...</td>\n",
       "      <td>2</td>\n",
       "    </tr>\n",
       "    <tr>\n",
       "      <th>1</th>\n",
       "      <td>22227_3.txt</td>\n",
       "      <td>Set in the near future a dark stranger walks i...</td>\n",
       "      <td>3</td>\n",
       "    </tr>\n",
       "    <tr>\n",
       "      <th>2</th>\n",
       "      <td>8486_4.txt</td>\n",
       "      <td>The Brothers Quay are directors, judging by co...</td>\n",
       "      <td>4</td>\n",
       "    </tr>\n",
       "    <tr>\n",
       "      <th>3</th>\n",
       "      <td>20539_2.txt</td>\n",
       "      <td>I lived next door to the author in 1980 when h...</td>\n",
       "      <td>2</td>\n",
       "    </tr>\n",
       "    <tr>\n",
       "      <th>4</th>\n",
       "      <td>9476_1.txt</td>\n",
       "      <td>I just saw this Movie on a local TV Station (T...</td>\n",
       "      <td>1</td>\n",
       "    </tr>\n",
       "    <tr>\n",
       "      <th>5</th>\n",
       "      <td>1063_3.txt</td>\n",
       "      <td>I am a student of film, and have been for seve...</td>\n",
       "      <td>3</td>\n",
       "    </tr>\n",
       "    <tr>\n",
       "      <th>6</th>\n",
       "      <td>11554_1.txt</td>\n",
       "      <td>There is absolutely nothing in this movie that...</td>\n",
       "      <td>1</td>\n",
       "    </tr>\n",
       "    <tr>\n",
       "      <th>7</th>\n",
       "      <td>10964_1.txt</td>\n",
       "      <td>Unbelievably awful film. I watched part of thi...</td>\n",
       "      <td>1</td>\n",
       "    </tr>\n",
       "    <tr>\n",
       "      <th>8</th>\n",
       "      <td>9005_4.txt</td>\n",
       "      <td>Why is it that a woman cannot be a strong char...</td>\n",
       "      <td>4</td>\n",
       "    </tr>\n",
       "    <tr>\n",
       "      <th>9</th>\n",
       "      <td>7077_3.txt</td>\n",
       "      <td>This movie isn't about football at all. It's a...</td>\n",
       "      <td>3</td>\n",
       "    </tr>\n",
       "  </tbody>\n",
       "</table>\n",
       "</div>"
      ],
      "text/plain": [
       "      FileName                                            Content  rating\n",
       "0  14741_2.txt  Seriously! You've just got to see this movie t...       2\n",
       "1  22227_3.txt  Set in the near future a dark stranger walks i...       3\n",
       "2   8486_4.txt  The Brothers Quay are directors, judging by co...       4\n",
       "3  20539_2.txt  I lived next door to the author in 1980 when h...       2\n",
       "4   9476_1.txt  I just saw this Movie on a local TV Station (T...       1\n",
       "5   1063_3.txt  I am a student of film, and have been for seve...       3\n",
       "6  11554_1.txt  There is absolutely nothing in this movie that...       1\n",
       "7  10964_1.txt  Unbelievably awful film. I watched part of thi...       1\n",
       "8   9005_4.txt  Why is it that a woman cannot be a strong char...       4\n",
       "9   7077_3.txt  This movie isn't about football at all. It's a...       3"
      ]
     },
     "execution_count": 161,
     "metadata": {},
     "output_type": "execute_result"
    }
   ],
   "source": [
    "neg_unclean_df.head(10)"
   ]
  },
  {
   "cell_type": "markdown",
   "metadata": {},
   "source": [
    "Drop FileName column for pos_unclean_df and neg_unclean_df"
   ]
  },
  {
   "cell_type": "code",
   "execution_count": 162,
   "metadata": {},
   "outputs": [
    {
     "data": {
      "text/html": [
       "<div>\n",
       "<style scoped>\n",
       "    .dataframe tbody tr th:only-of-type {\n",
       "        vertical-align: middle;\n",
       "    }\n",
       "\n",
       "    .dataframe tbody tr th {\n",
       "        vertical-align: top;\n",
       "    }\n",
       "\n",
       "    .dataframe thead th {\n",
       "        text-align: right;\n",
       "    }\n",
       "</style>\n",
       "<table border=\"1\" class=\"dataframe\">\n",
       "  <thead>\n",
       "    <tr style=\"text-align: right;\">\n",
       "      <th></th>\n",
       "      <th>Content</th>\n",
       "      <th>rating</th>\n",
       "    </tr>\n",
       "  </thead>\n",
       "  <tbody>\n",
       "    <tr>\n",
       "      <th>0</th>\n",
       "      <td>This documentary has been aired on both RTE an...</td>\n",
       "      <td>7</td>\n",
       "    </tr>\n",
       "    <tr>\n",
       "      <th>1</th>\n",
       "      <td>This 8 minute gem is not only timeless, but it...</td>\n",
       "      <td>10</td>\n",
       "    </tr>\n",
       "    <tr>\n",
       "      <th>2</th>\n",
       "      <td>I thought this movie was fun. I have never rea...</td>\n",
       "      <td>10</td>\n",
       "    </tr>\n",
       "    <tr>\n",
       "      <th>3</th>\n",
       "      <td>This was the second of three films that Irving...</td>\n",
       "      <td>8</td>\n",
       "    </tr>\n",
       "    <tr>\n",
       "      <th>4</th>\n",
       "      <td>I found 'Still Crazy' to be marvelously entert...</td>\n",
       "      <td>9</td>\n",
       "    </tr>\n",
       "  </tbody>\n",
       "</table>\n",
       "</div>"
      ],
      "text/plain": [
       "                                             Content  rating\n",
       "0  This documentary has been aired on both RTE an...       7\n",
       "1  This 8 minute gem is not only timeless, but it...      10\n",
       "2  I thought this movie was fun. I have never rea...      10\n",
       "3  This was the second of three films that Irving...       8\n",
       "4  I found 'Still Crazy' to be marvelously entert...       9"
      ]
     },
     "execution_count": 162,
     "metadata": {},
     "output_type": "execute_result"
    }
   ],
   "source": [
    "pos_unclean_df.drop(pos_unclean_df.columns[0], axis=1, inplace=True)\n",
    "pos_unclean_df.head()"
   ]
  },
  {
   "cell_type": "code",
   "execution_count": 163,
   "metadata": {},
   "outputs": [
    {
     "data": {
      "text/html": [
       "<div>\n",
       "<style scoped>\n",
       "    .dataframe tbody tr th:only-of-type {\n",
       "        vertical-align: middle;\n",
       "    }\n",
       "\n",
       "    .dataframe tbody tr th {\n",
       "        vertical-align: top;\n",
       "    }\n",
       "\n",
       "    .dataframe thead th {\n",
       "        text-align: right;\n",
       "    }\n",
       "</style>\n",
       "<table border=\"1\" class=\"dataframe\">\n",
       "  <thead>\n",
       "    <tr style=\"text-align: right;\">\n",
       "      <th></th>\n",
       "      <th>Content</th>\n",
       "      <th>rating</th>\n",
       "    </tr>\n",
       "  </thead>\n",
       "  <tbody>\n",
       "    <tr>\n",
       "      <th>0</th>\n",
       "      <td>Seriously! You've just got to see this movie t...</td>\n",
       "      <td>2</td>\n",
       "    </tr>\n",
       "    <tr>\n",
       "      <th>1</th>\n",
       "      <td>Set in the near future a dark stranger walks i...</td>\n",
       "      <td>3</td>\n",
       "    </tr>\n",
       "    <tr>\n",
       "      <th>2</th>\n",
       "      <td>The Brothers Quay are directors, judging by co...</td>\n",
       "      <td>4</td>\n",
       "    </tr>\n",
       "    <tr>\n",
       "      <th>3</th>\n",
       "      <td>I lived next door to the author in 1980 when h...</td>\n",
       "      <td>2</td>\n",
       "    </tr>\n",
       "    <tr>\n",
       "      <th>4</th>\n",
       "      <td>I just saw this Movie on a local TV Station (T...</td>\n",
       "      <td>1</td>\n",
       "    </tr>\n",
       "  </tbody>\n",
       "</table>\n",
       "</div>"
      ],
      "text/plain": [
       "                                             Content  rating\n",
       "0  Seriously! You've just got to see this movie t...       2\n",
       "1  Set in the near future a dark stranger walks i...       3\n",
       "2  The Brothers Quay are directors, judging by co...       4\n",
       "3  I lived next door to the author in 1980 when h...       2\n",
       "4  I just saw this Movie on a local TV Station (T...       1"
      ]
     },
     "execution_count": 163,
     "metadata": {},
     "output_type": "execute_result"
    }
   ],
   "source": [
    "neg_unclean_df.drop(neg_unclean_df.columns[0], axis=1, inplace=True)\n",
    "neg_unclean_df.head()"
   ]
  },
  {
   "cell_type": "code",
   "execution_count": 164,
   "metadata": {},
   "outputs": [
    {
     "data": {
      "text/plain": [
       "rating\n",
       "1    10122\n",
       "4     5331\n",
       "3     4961\n",
       "2     4586\n",
       "Name: count, dtype: int64"
      ]
     },
     "execution_count": 164,
     "metadata": {},
     "output_type": "execute_result"
    }
   ],
   "source": [
    "pos_unclean_df['rating'].value_counts()\n",
    "neg_unclean_df['rating'].value_counts()"
   ]
  },
  {
   "cell_type": "markdown",
   "metadata": {},
   "source": [
    "## Descriptive Statistics"
   ]
  },
  {
   "cell_type": "code",
   "execution_count": 165,
   "metadata": {},
   "outputs": [
    {
     "name": "stdout",
     "output_type": "stream",
     "text": [
      "<class 'pandas.core.frame.DataFrame'>\n",
      "RangeIndex: 25000 entries, 0 to 24999\n",
      "Data columns (total 2 columns):\n",
      " #   Column   Non-Null Count  Dtype \n",
      "---  ------   --------------  ----- \n",
      " 0   Content  25000 non-null  object\n",
      " 1   rating   25000 non-null  int64 \n",
      "dtypes: int64(1), object(1)\n",
      "memory usage: 390.8+ KB\n"
     ]
    }
   ],
   "source": [
    "pos_unclean_df.info()"
   ]
  },
  {
   "cell_type": "code",
   "execution_count": 166,
   "metadata": {},
   "outputs": [
    {
     "name": "stdout",
     "output_type": "stream",
     "text": [
      "<class 'pandas.core.frame.DataFrame'>\n",
      "RangeIndex: 25000 entries, 0 to 24999\n",
      "Data columns (total 2 columns):\n",
      " #   Column   Non-Null Count  Dtype \n",
      "---  ------   --------------  ----- \n",
      " 0   Content  25000 non-null  object\n",
      " 1   rating   25000 non-null  int64 \n",
      "dtypes: int64(1), object(1)\n",
      "memory usage: 390.8+ KB\n"
     ]
    }
   ],
   "source": [
    "neg_unclean_df.info()"
   ]
  },
  {
   "cell_type": "code",
   "execution_count": 167,
   "metadata": {},
   "outputs": [
    {
     "data": {
      "text/html": [
       "<div>\n",
       "<style scoped>\n",
       "    .dataframe tbody tr th:only-of-type {\n",
       "        vertical-align: middle;\n",
       "    }\n",
       "\n",
       "    .dataframe tbody tr th {\n",
       "        vertical-align: top;\n",
       "    }\n",
       "\n",
       "    .dataframe thead th {\n",
       "        text-align: right;\n",
       "    }\n",
       "</style>\n",
       "<table border=\"1\" class=\"dataframe\">\n",
       "  <thead>\n",
       "    <tr style=\"text-align: right;\">\n",
       "      <th></th>\n",
       "      <th>rating</th>\n",
       "    </tr>\n",
       "  </thead>\n",
       "  <tbody>\n",
       "    <tr>\n",
       "      <th>count</th>\n",
       "      <td>25000.00000</td>\n",
       "    </tr>\n",
       "    <tr>\n",
       "      <th>mean</th>\n",
       "      <td>8.77064</td>\n",
       "    </tr>\n",
       "    <tr>\n",
       "      <th>std</th>\n",
       "      <td>1.15738</td>\n",
       "    </tr>\n",
       "    <tr>\n",
       "      <th>min</th>\n",
       "      <td>7.00000</td>\n",
       "    </tr>\n",
       "    <tr>\n",
       "      <th>25%</th>\n",
       "      <td>8.00000</td>\n",
       "    </tr>\n",
       "    <tr>\n",
       "      <th>50%</th>\n",
       "      <td>9.00000</td>\n",
       "    </tr>\n",
       "    <tr>\n",
       "      <th>75%</th>\n",
       "      <td>10.00000</td>\n",
       "    </tr>\n",
       "    <tr>\n",
       "      <th>max</th>\n",
       "      <td>10.00000</td>\n",
       "    </tr>\n",
       "  </tbody>\n",
       "</table>\n",
       "</div>"
      ],
      "text/plain": [
       "            rating\n",
       "count  25000.00000\n",
       "mean       8.77064\n",
       "std        1.15738\n",
       "min        7.00000\n",
       "25%        8.00000\n",
       "50%        9.00000\n",
       "75%       10.00000\n",
       "max       10.00000"
      ]
     },
     "execution_count": 167,
     "metadata": {},
     "output_type": "execute_result"
    }
   ],
   "source": [
    "pos_unclean_df.describe()"
   ]
  },
  {
   "cell_type": "code",
   "execution_count": 168,
   "metadata": {},
   "outputs": [
    {
     "data": {
      "text/html": [
       "<div>\n",
       "<style scoped>\n",
       "    .dataframe tbody tr th:only-of-type {\n",
       "        vertical-align: middle;\n",
       "    }\n",
       "\n",
       "    .dataframe tbody tr th {\n",
       "        vertical-align: top;\n",
       "    }\n",
       "\n",
       "    .dataframe thead th {\n",
       "        text-align: right;\n",
       "    }\n",
       "</style>\n",
       "<table border=\"1\" class=\"dataframe\">\n",
       "  <thead>\n",
       "    <tr style=\"text-align: right;\">\n",
       "      <th></th>\n",
       "      <th>rating</th>\n",
       "    </tr>\n",
       "  </thead>\n",
       "  <tbody>\n",
       "    <tr>\n",
       "      <th>count</th>\n",
       "      <td>25000.000000</td>\n",
       "    </tr>\n",
       "    <tr>\n",
       "      <th>mean</th>\n",
       "      <td>2.220040</td>\n",
       "    </tr>\n",
       "    <tr>\n",
       "      <th>std</th>\n",
       "      <td>1.186558</td>\n",
       "    </tr>\n",
       "    <tr>\n",
       "      <th>min</th>\n",
       "      <td>1.000000</td>\n",
       "    </tr>\n",
       "    <tr>\n",
       "      <th>25%</th>\n",
       "      <td>1.000000</td>\n",
       "    </tr>\n",
       "    <tr>\n",
       "      <th>50%</th>\n",
       "      <td>2.000000</td>\n",
       "    </tr>\n",
       "    <tr>\n",
       "      <th>75%</th>\n",
       "      <td>3.000000</td>\n",
       "    </tr>\n",
       "    <tr>\n",
       "      <th>max</th>\n",
       "      <td>4.000000</td>\n",
       "    </tr>\n",
       "  </tbody>\n",
       "</table>\n",
       "</div>"
      ],
      "text/plain": [
       "             rating\n",
       "count  25000.000000\n",
       "mean       2.220040\n",
       "std        1.186558\n",
       "min        1.000000\n",
       "25%        1.000000\n",
       "50%        2.000000\n",
       "75%        3.000000\n",
       "max        4.000000"
      ]
     },
     "execution_count": 168,
     "metadata": {},
     "output_type": "execute_result"
    }
   ],
   "source": [
    "neg_unclean_df.describe()"
   ]
  },
  {
   "cell_type": "markdown",
   "metadata": {},
   "source": [
    "## Checking and removal of duplicates"
   ]
  },
  {
   "cell_type": "code",
   "execution_count": 169,
   "metadata": {},
   "outputs": [
    {
     "name": "stdout",
     "output_type": "stream",
     "text": [
      "No. of rows removed from positive dataset: 113\n",
      "No. of rows removed from negative dataset: 301\n"
     ]
    }
   ],
   "source": [
    "before_pos =  pos_unclean_df.shape[0]\n",
    "pos_unclean_df.drop_duplicates(inplace=True)\n",
    "after_pos = pos_unclean_df.shape[0]\n",
    "\n",
    "before_neg =  neg_unclean_df.shape[0]\n",
    "neg_unclean_df.drop_duplicates(inplace=True)\n",
    "after_neg = neg_unclean_df.shape[0]\n",
    "\n",
    "print(\"No. of rows removed from positive dataset:\", before_pos - after_pos)\n",
    "print(\"No. of rows removed from negative dataset:\", before_neg - after_neg)"
   ]
  },
  {
   "cell_type": "markdown",
   "metadata": {},
   "source": [
    "Just to be sure we do not have same text for different ratings, we will check for duplicates in the 'Content' column only"
   ]
  },
  {
   "cell_type": "code",
   "execution_count": 170,
   "metadata": {},
   "outputs": [
    {
     "data": {
      "text/html": [
       "<div>\n",
       "<style scoped>\n",
       "    .dataframe tbody tr th:only-of-type {\n",
       "        vertical-align: middle;\n",
       "    }\n",
       "\n",
       "    .dataframe tbody tr th {\n",
       "        vertical-align: top;\n",
       "    }\n",
       "\n",
       "    .dataframe thead th {\n",
       "        text-align: right;\n",
       "    }\n",
       "</style>\n",
       "<table border=\"1\" class=\"dataframe\">\n",
       "  <thead>\n",
       "    <tr style=\"text-align: right;\">\n",
       "      <th></th>\n",
       "      <th>Content</th>\n",
       "      <th>rating</th>\n",
       "    </tr>\n",
       "  </thead>\n",
       "  <tbody>\n",
       "    <tr>\n",
       "      <th>4802</th>\n",
       "      <td>The whole shorthand for supposedly being more ...</td>\n",
       "      <td>10</td>\n",
       "    </tr>\n",
       "    <tr>\n",
       "      <th>9541</th>\n",
       "      <td>The whole shorthand for supposedly being more ...</td>\n",
       "      <td>8</td>\n",
       "    </tr>\n",
       "    <tr>\n",
       "      <th>11234</th>\n",
       "      <td>The movie was very good. I'm an avid mystery f...</td>\n",
       "      <td>7</td>\n",
       "    </tr>\n",
       "    <tr>\n",
       "      <th>18301</th>\n",
       "      <td>Another well done moral ambiguity pieces where...</td>\n",
       "      <td>7</td>\n",
       "    </tr>\n",
       "    <tr>\n",
       "      <th>19788</th>\n",
       "      <td>Another well done moral ambiguity pieces where...</td>\n",
       "      <td>8</td>\n",
       "    </tr>\n",
       "    <tr>\n",
       "      <th>22502</th>\n",
       "      <td>The movie was very good. I'm an avid mystery f...</td>\n",
       "      <td>10</td>\n",
       "    </tr>\n",
       "  </tbody>\n",
       "</table>\n",
       "</div>"
      ],
      "text/plain": [
       "                                                 Content  rating\n",
       "4802   The whole shorthand for supposedly being more ...      10\n",
       "9541   The whole shorthand for supposedly being more ...       8\n",
       "11234  The movie was very good. I'm an avid mystery f...       7\n",
       "18301  Another well done moral ambiguity pieces where...       7\n",
       "19788  Another well done moral ambiguity pieces where...       8\n",
       "22502  The movie was very good. I'm an avid mystery f...      10"
      ]
     },
     "execution_count": 170,
     "metadata": {},
     "output_type": "execute_result"
    }
   ],
   "source": [
    "pos_unclean_df[pos_unclean_df.duplicated(subset=['Content'], keep = False)]"
   ]
  },
  {
   "cell_type": "code",
   "execution_count": 171,
   "metadata": {},
   "outputs": [
    {
     "data": {
      "text/html": [
       "<div>\n",
       "<style scoped>\n",
       "    .dataframe tbody tr th:only-of-type {\n",
       "        vertical-align: middle;\n",
       "    }\n",
       "\n",
       "    .dataframe tbody tr th {\n",
       "        vertical-align: top;\n",
       "    }\n",
       "\n",
       "    .dataframe thead th {\n",
       "        text-align: right;\n",
       "    }\n",
       "</style>\n",
       "<table border=\"1\" class=\"dataframe\">\n",
       "  <thead>\n",
       "    <tr style=\"text-align: right;\">\n",
       "      <th></th>\n",
       "      <th>Content</th>\n",
       "      <th>rating</th>\n",
       "    </tr>\n",
       "  </thead>\n",
       "  <tbody>\n",
       "    <tr>\n",
       "      <th>3728</th>\n",
       "      <td>Sondra Locke stinks in this film, but then she...</td>\n",
       "      <td>4</td>\n",
       "    </tr>\n",
       "    <tr>\n",
       "      <th>4854</th>\n",
       "      <td>Sondra Locke stinks in this film, but then she...</td>\n",
       "      <td>3</td>\n",
       "    </tr>\n",
       "  </tbody>\n",
       "</table>\n",
       "</div>"
      ],
      "text/plain": [
       "                                                Content  rating\n",
       "3728  Sondra Locke stinks in this film, but then she...       4\n",
       "4854  Sondra Locke stinks in this film, but then she...       3"
      ]
     },
     "execution_count": 171,
     "metadata": {},
     "output_type": "execute_result"
    }
   ],
   "source": [
    "neg_unclean_df[neg_unclean_df.duplicated(subset=['Content'], keep = False)]"
   ]
  },
  {
   "cell_type": "markdown",
   "metadata": {},
   "source": [
    "Dropping columns based on duplicates in the 'Content' column"
   ]
  },
  {
   "cell_type": "code",
   "execution_count": 172,
   "metadata": {},
   "outputs": [
    {
     "name": "stdout",
     "output_type": "stream",
     "text": [
      "No. of rows removed from positive dataset: 3\n",
      "No. of rows removed from negative dataset: 1\n"
     ]
    }
   ],
   "source": [
    "before_pos =  pos_unclean_df.shape[0]\n",
    "pos_unclean_df.drop_duplicates(inplace=True, subset=['Content'])\n",
    "after_pos = pos_unclean_df.shape[0]\n",
    "\n",
    "before_neg =  neg_unclean_df.shape[0]\n",
    "neg_unclean_df.drop_duplicates(inplace=True, subset=['Content'])\n",
    "after_neg = neg_unclean_df.shape[0]\n",
    "\n",
    "print(\"No. of rows removed from positive dataset:\", before_pos - after_pos)\n",
    "print(\"No. of rows removed from negative dataset:\", before_neg - after_neg)"
   ]
  },
  {
   "cell_type": "markdown",
   "metadata": {},
   "source": [
    "## Text pre-processing function bank"
   ]
  },
  {
   "cell_type": "code",
   "execution_count": 173,
   "metadata": {},
   "outputs": [],
   "source": [
    "HTML_TAG_PATTERN = re.compile(r'<[^>]+>', re.IGNORECASE)\n",
    "\n",
    "def remove_html(data):\n",
    "    data = HTML_TAG_PATTERN.sub('', data)\n",
    "    return data\n",
    "\n",
    "\n",
    "def remove_url(data):\n",
    "    url_clean= re.compile(r\"https://\\S+|www\\.\\S+\")\n",
    "    data=url_clean.sub(r'',data)\n",
    "    return data\n",
    "\n",
    "\n",
    "def remove_emoji(data):\n",
    "    emoji_pattern = re.compile(\"[\"\n",
    "                               u\"\\U0001F600-\\U0001F64F\"  # emoticons\n",
    "                               u\"\\U0001F300-\\U0001F5FF\"  # symbols & pictographs\n",
    "                               u\"\\U0001F680-\\U0001F6FF\"  # transport & map symbols\n",
    "                               u\"\\U0001F1E0-\\U0001F1FF\"  # flags (iOS)\n",
    "                               u\"\\U00002702-\\U000027B0\"  # additional symbols\n",
    "                               u\"\\U000024C2-\\U0001F251\"  # additional symbols\n",
    "                               u\"\\U0001F900-\\U0001F9FF\"  # supplementary symbols and pictographs\n",
    "                               u\"\\U0001FA00-\\U0001FA6F\"  # chess symbols, extended pictographs\n",
    "                               u\"\\U0001FA70-\\U0001FAFF\"  # more extended pictographs\n",
    "                               u\"\\U00002600-\\U000026FF\"  # miscellaneous symbols\n",
    "                               u\"\\U00002700-\\U000027BF\"  # dingbats\n",
    "                               u\"\\U0001F700-\\U0001F77F\"  # alchemical symbols\n",
    "                               u\"\\U0001F780-\\U0001F7FF\"  # Geometric Shapes Extended\n",
    "                               u\"\\U0001F800-\\U0001F8FF\"  # Supplemental Arrows-C\n",
    "                               u\"\\U0001F900-\\U0001F9FF\"  # Supplemental Symbols and Pictographs\n",
    "                               u\"\\U0001FA70-\\U0001FAFF\"  # Symbols and Pictographs Extended-A\n",
    "                               u\"\\U000E0020-\\U000E007F\"  # Tag characters for emoji\n",
    "                               \"]+\", flags=re.UNICODE)\n",
    "    data = emoji_pattern.sub(r'', data)\n",
    "    return data\n",
    "\n",
    "\n",
    "def lowercase(text):\n",
    "  word_list = str(text).split(' ')\n",
    "  return ' '.join([word.lower() for word in word_list])\n",
    "\n",
    "\n",
    "def remove_punctuation(text):\n",
    "    punctuation_pattern = re.compile(r'[^\\w\\s]')\n",
    "    clean_text = punctuation_pattern.sub('', text)\n",
    "    return clean_text"
   ]
  },
  {
   "cell_type": "markdown",
   "metadata": {},
   "source": [
    "## Cleaning the positive dataset"
   ]
  },
  {
   "cell_type": "code",
   "execution_count": 174,
   "metadata": {},
   "outputs": [],
   "source": [
    "pos_unclean_df['Cleaned_Content'] = pos_unclean_df['Content'].apply(lambda z: remove_html(z))\n",
    "pos_unclean_df['Cleaned_Content'] = pos_unclean_df['Content'].apply(lambda z: remove_url(z))\n",
    "pos_unclean_df['Cleaned_Content'] = pos_unclean_df['Content'].apply(lambda z: remove_emoji(z))\n",
    "pos_unclean_df['Cleaned_Content'] = pos_unclean_df['Content'].apply(lambda z: lowercase(z))\n",
    "\n",
    "# Remove contractions\n",
    "pos_unclean_df['Cleaned_Content'] = pos_unclean_df['Cleaned_Content'].apply(contractions.fix)\n",
    "pos_unclean_df['Cleaned_Content'] = pos_unclean_df['Cleaned_Content'].apply(lambda z: remove_punctuation(z))"
   ]
  },
  {
   "cell_type": "code",
   "execution_count": 175,
   "metadata": {},
   "outputs": [
    {
     "name": "stdout",
     "output_type": "stream",
     "text": [
      "Uncleaned vs Cleaned version of positive dataset:\n"
     ]
    },
    {
     "data": {
      "text/html": [
       "<div>\n",
       "<style scoped>\n",
       "    .dataframe tbody tr th:only-of-type {\n",
       "        vertical-align: middle;\n",
       "    }\n",
       "\n",
       "    .dataframe tbody tr th {\n",
       "        vertical-align: top;\n",
       "    }\n",
       "\n",
       "    .dataframe thead th {\n",
       "        text-align: right;\n",
       "    }\n",
       "</style>\n",
       "<table border=\"1\" class=\"dataframe\">\n",
       "  <thead>\n",
       "    <tr style=\"text-align: right;\">\n",
       "      <th></th>\n",
       "      <th>Content</th>\n",
       "      <th>rating</th>\n",
       "      <th>Cleaned_Content</th>\n",
       "    </tr>\n",
       "  </thead>\n",
       "  <tbody>\n",
       "    <tr>\n",
       "      <th>0</th>\n",
       "      <td>This documentary has been aired on both RTE an...</td>\n",
       "      <td>7</td>\n",
       "      <td>this documentary has been aired on both rte an...</td>\n",
       "    </tr>\n",
       "    <tr>\n",
       "      <th>1</th>\n",
       "      <td>This 8 minute gem is not only timeless, but it...</td>\n",
       "      <td>10</td>\n",
       "      <td>this 8 minute gem is not only timeless but it ...</td>\n",
       "    </tr>\n",
       "    <tr>\n",
       "      <th>2</th>\n",
       "      <td>I thought this movie was fun. I have never rea...</td>\n",
       "      <td>10</td>\n",
       "      <td>i thought this movie was fun i have never real...</td>\n",
       "    </tr>\n",
       "    <tr>\n",
       "      <th>3</th>\n",
       "      <td>This was the second of three films that Irving...</td>\n",
       "      <td>8</td>\n",
       "      <td>this was the second of three films that irving...</td>\n",
       "    </tr>\n",
       "    <tr>\n",
       "      <th>4</th>\n",
       "      <td>I found 'Still Crazy' to be marvelously entert...</td>\n",
       "      <td>9</td>\n",
       "      <td>i found still crazy to be marvelously entertai...</td>\n",
       "    </tr>\n",
       "    <tr>\n",
       "      <th>5</th>\n",
       "      <td>An interesting and involved film about a \"life...</td>\n",
       "      <td>8</td>\n",
       "      <td>an interesting and involved film about a lifer...</td>\n",
       "    </tr>\n",
       "    <tr>\n",
       "      <th>6</th>\n",
       "      <td>Nazarin is some kind of saint,he wants to live...</td>\n",
       "      <td>10</td>\n",
       "      <td>nazarin is some kind of sainthe wants to live ...</td>\n",
       "    </tr>\n",
       "    <tr>\n",
       "      <th>7</th>\n",
       "      <td>This is an excellent movie. Phoolan had no rol...</td>\n",
       "      <td>10</td>\n",
       "      <td>this is an excellent movie phoolan had no role...</td>\n",
       "    </tr>\n",
       "    <tr>\n",
       "      <th>8</th>\n",
       "      <td>This film is one of the best shorts I've ever ...</td>\n",
       "      <td>10</td>\n",
       "      <td>this film is one of the best shorts i have eve...</td>\n",
       "    </tr>\n",
       "    <tr>\n",
       "      <th>9</th>\n",
       "      <td>Today if someone mentions the name Victor McLa...</td>\n",
       "      <td>8</td>\n",
       "      <td>today if someone mentions the name victor mcla...</td>\n",
       "    </tr>\n",
       "    <tr>\n",
       "      <th>10</th>\n",
       "      <td>Out of these Pokemon films (which are in order...</td>\n",
       "      <td>7</td>\n",
       "      <td>out of these pokemon films which are in order ...</td>\n",
       "    </tr>\n",
       "    <tr>\n",
       "      <th>11</th>\n",
       "      <td>Bromwell High is nothing short of brilliant. E...</td>\n",
       "      <td>9</td>\n",
       "      <td>bromwell high is nothing short of brilliant ex...</td>\n",
       "    </tr>\n",
       "    <tr>\n",
       "      <th>12</th>\n",
       "      <td>There is no denying that this is a bad movie. ...</td>\n",
       "      <td>10</td>\n",
       "      <td>there is no denying that this is a bad movie t...</td>\n",
       "    </tr>\n",
       "    <tr>\n",
       "      <th>13</th>\n",
       "      <td>&lt;br /&gt;&lt;br /&gt;The kind of movie that demands too...</td>\n",
       "      <td>10</td>\n",
       "      <td>br br the kind of movie that demands too much ...</td>\n",
       "    </tr>\n",
       "    <tr>\n",
       "      <th>14</th>\n",
       "      <td>Saw this Saturday night at the Provincetown Fi...</td>\n",
       "      <td>9</td>\n",
       "      <td>saw this saturday night at the provincetown fi...</td>\n",
       "    </tr>\n",
       "    <tr>\n",
       "      <th>15</th>\n",
       "      <td>Well, for starters, this actually was THE most...</td>\n",
       "      <td>8</td>\n",
       "      <td>well for starters this actually was the most e...</td>\n",
       "    </tr>\n",
       "    <tr>\n",
       "      <th>16</th>\n",
       "      <td>The story of Sweeney Todd evokes memories of t...</td>\n",
       "      <td>10</td>\n",
       "      <td>the story of sweeney todd evokes memories of t...</td>\n",
       "    </tr>\n",
       "    <tr>\n",
       "      <th>17</th>\n",
       "      <td>Perhaps not the absolute greatest entry in the...</td>\n",
       "      <td>7</td>\n",
       "      <td>perhaps not the absolute greatest entry in the...</td>\n",
       "    </tr>\n",
       "    <tr>\n",
       "      <th>18</th>\n",
       "      <td>If you're looking for a kung-fu action movie, ...</td>\n",
       "      <td>9</td>\n",
       "      <td>if you are looking for a kungfu action movie l...</td>\n",
       "    </tr>\n",
       "    <tr>\n",
       "      <th>19</th>\n",
       "      <td>Nothing like this was seen on TV at that time ...</td>\n",
       "      <td>7</td>\n",
       "      <td>nothing like this was seen on tv at that time ...</td>\n",
       "    </tr>\n",
       "  </tbody>\n",
       "</table>\n",
       "</div>"
      ],
      "text/plain": [
       "                                              Content  rating  \\\n",
       "0   This documentary has been aired on both RTE an...       7   \n",
       "1   This 8 minute gem is not only timeless, but it...      10   \n",
       "2   I thought this movie was fun. I have never rea...      10   \n",
       "3   This was the second of three films that Irving...       8   \n",
       "4   I found 'Still Crazy' to be marvelously entert...       9   \n",
       "5   An interesting and involved film about a \"life...       8   \n",
       "6   Nazarin is some kind of saint,he wants to live...      10   \n",
       "7   This is an excellent movie. Phoolan had no rol...      10   \n",
       "8   This film is one of the best shorts I've ever ...      10   \n",
       "9   Today if someone mentions the name Victor McLa...       8   \n",
       "10  Out of these Pokemon films (which are in order...       7   \n",
       "11  Bromwell High is nothing short of brilliant. E...       9   \n",
       "12  There is no denying that this is a bad movie. ...      10   \n",
       "13  <br /><br />The kind of movie that demands too...      10   \n",
       "14  Saw this Saturday night at the Provincetown Fi...       9   \n",
       "15  Well, for starters, this actually was THE most...       8   \n",
       "16  The story of Sweeney Todd evokes memories of t...      10   \n",
       "17  Perhaps not the absolute greatest entry in the...       7   \n",
       "18  If you're looking for a kung-fu action movie, ...       9   \n",
       "19  Nothing like this was seen on TV at that time ...       7   \n",
       "\n",
       "                                      Cleaned_Content  \n",
       "0   this documentary has been aired on both rte an...  \n",
       "1   this 8 minute gem is not only timeless but it ...  \n",
       "2   i thought this movie was fun i have never real...  \n",
       "3   this was the second of three films that irving...  \n",
       "4   i found still crazy to be marvelously entertai...  \n",
       "5   an interesting and involved film about a lifer...  \n",
       "6   nazarin is some kind of sainthe wants to live ...  \n",
       "7   this is an excellent movie phoolan had no role...  \n",
       "8   this film is one of the best shorts i have eve...  \n",
       "9   today if someone mentions the name victor mcla...  \n",
       "10  out of these pokemon films which are in order ...  \n",
       "11  bromwell high is nothing short of brilliant ex...  \n",
       "12  there is no denying that this is a bad movie t...  \n",
       "13  br br the kind of movie that demands too much ...  \n",
       "14  saw this saturday night at the provincetown fi...  \n",
       "15  well for starters this actually was the most e...  \n",
       "16  the story of sweeney todd evokes memories of t...  \n",
       "17  perhaps not the absolute greatest entry in the...  \n",
       "18  if you are looking for a kungfu action movie l...  \n",
       "19  nothing like this was seen on tv at that time ...  "
      ]
     },
     "execution_count": 175,
     "metadata": {},
     "output_type": "execute_result"
    }
   ],
   "source": [
    "pos_cleaned_df = pos_unclean_df\n",
    "print(\"Uncleaned vs Cleaned version of positive dataset:\")\n",
    "pos_cleaned_df.head(20)"
   ]
  },
  {
   "cell_type": "markdown",
   "metadata": {},
   "source": [
    "## Cleaning the negative dataset"
   ]
  },
  {
   "cell_type": "code",
   "execution_count": 176,
   "metadata": {},
   "outputs": [],
   "source": [
    "neg_unclean_df['Cleaned_Content'] = neg_unclean_df['Content'].apply(lambda z: remove_html(z))\n",
    "neg_unclean_df['Cleaned_Content'] = neg_unclean_df['Content'].apply(lambda z: remove_url(z))\n",
    "neg_unclean_df['Cleaned_Content'] = neg_unclean_df['Content'].apply(lambda z: remove_emoji(z))\n",
    "neg_unclean_df['Cleaned_Content'] = neg_unclean_df['Content'].apply(lambda z: lowercase(z))\n",
    "\n",
    "# Remove contractions\n",
    "neg_unclean_df['Cleaned_Content'] = neg_unclean_df['Cleaned_Content'].apply(contractions.fix)\n",
    "neg_unclean_df['Cleaned_Content'] = neg_unclean_df['Cleaned_Content'].apply(lambda z: remove_punctuation(z))"
   ]
  },
  {
   "cell_type": "code",
   "execution_count": 177,
   "metadata": {},
   "outputs": [
    {
     "name": "stdout",
     "output_type": "stream",
     "text": [
      "Uncleaned vs Cleaned version of negative dataset:\n"
     ]
    },
    {
     "data": {
      "text/html": [
       "<div>\n",
       "<style scoped>\n",
       "    .dataframe tbody tr th:only-of-type {\n",
       "        vertical-align: middle;\n",
       "    }\n",
       "\n",
       "    .dataframe tbody tr th {\n",
       "        vertical-align: top;\n",
       "    }\n",
       "\n",
       "    .dataframe thead th {\n",
       "        text-align: right;\n",
       "    }\n",
       "</style>\n",
       "<table border=\"1\" class=\"dataframe\">\n",
       "  <thead>\n",
       "    <tr style=\"text-align: right;\">\n",
       "      <th></th>\n",
       "      <th>Content</th>\n",
       "      <th>rating</th>\n",
       "      <th>Cleaned_Content</th>\n",
       "    </tr>\n",
       "  </thead>\n",
       "  <tbody>\n",
       "    <tr>\n",
       "      <th>0</th>\n",
       "      <td>Seriously! You've just got to see this movie t...</td>\n",
       "      <td>2</td>\n",
       "      <td>seriously you have just got to see this movie ...</td>\n",
       "    </tr>\n",
       "    <tr>\n",
       "      <th>1</th>\n",
       "      <td>Set in the near future a dark stranger walks i...</td>\n",
       "      <td>3</td>\n",
       "      <td>set in the near future a dark stranger walks i...</td>\n",
       "    </tr>\n",
       "    <tr>\n",
       "      <th>2</th>\n",
       "      <td>The Brothers Quay are directors, judging by co...</td>\n",
       "      <td>4</td>\n",
       "      <td>the brothers quay are directors judging by con...</td>\n",
       "    </tr>\n",
       "    <tr>\n",
       "      <th>3</th>\n",
       "      <td>I lived next door to the author in 1980 when h...</td>\n",
       "      <td>2</td>\n",
       "      <td>i lived next door to the author in 1980 when h...</td>\n",
       "    </tr>\n",
       "    <tr>\n",
       "      <th>4</th>\n",
       "      <td>I just saw this Movie on a local TV Station (T...</td>\n",
       "      <td>1</td>\n",
       "      <td>i just saw this movie on a local tv station tv...</td>\n",
       "    </tr>\n",
       "    <tr>\n",
       "      <th>5</th>\n",
       "      <td>I am a student of film, and have been for seve...</td>\n",
       "      <td>3</td>\n",
       "      <td>i am a student of film and have been for sever...</td>\n",
       "    </tr>\n",
       "    <tr>\n",
       "      <th>6</th>\n",
       "      <td>There is absolutely nothing in this movie that...</td>\n",
       "      <td>1</td>\n",
       "      <td>there is absolutely nothing in this movie that...</td>\n",
       "    </tr>\n",
       "    <tr>\n",
       "      <th>7</th>\n",
       "      <td>Unbelievably awful film. I watched part of thi...</td>\n",
       "      <td>1</td>\n",
       "      <td>unbelievably awful film i watched part of this...</td>\n",
       "    </tr>\n",
       "    <tr>\n",
       "      <th>8</th>\n",
       "      <td>Why is it that a woman cannot be a strong char...</td>\n",
       "      <td>4</td>\n",
       "      <td>why is it that a woman cannot be a strong char...</td>\n",
       "    </tr>\n",
       "    <tr>\n",
       "      <th>9</th>\n",
       "      <td>This movie isn't about football at all. It's a...</td>\n",
       "      <td>3</td>\n",
       "      <td>this movie is not about football at all it is ...</td>\n",
       "    </tr>\n",
       "    <tr>\n",
       "      <th>10</th>\n",
       "      <td>Your attitude going into Prom Night II will de...</td>\n",
       "      <td>4</td>\n",
       "      <td>your attitude going into prom night ii will de...</td>\n",
       "    </tr>\n",
       "    <tr>\n",
       "      <th>11</th>\n",
       "      <td>I caught this on Cinemax very late at night......</td>\n",
       "      <td>1</td>\n",
       "      <td>i caught this on cinemax very late at nightnot...</td>\n",
       "    </tr>\n",
       "    <tr>\n",
       "      <th>12</th>\n",
       "      <td>This is the most elementary sort of traditiona...</td>\n",
       "      <td>3</td>\n",
       "      <td>this is the most elementary sort of traditiona...</td>\n",
       "    </tr>\n",
       "    <tr>\n",
       "      <th>13</th>\n",
       "      <td>I bought the DVD to get Julia Ormond. Well, I ...</td>\n",
       "      <td>4</td>\n",
       "      <td>i bought the dvd to get julia ormond well i go...</td>\n",
       "    </tr>\n",
       "    <tr>\n",
       "      <th>14</th>\n",
       "      <td>Southern Cross, written and directed by James ...</td>\n",
       "      <td>2</td>\n",
       "      <td>southern cross written and directed by james b...</td>\n",
       "    </tr>\n",
       "    <tr>\n",
       "      <th>15</th>\n",
       "      <td>I was so excited to see the cast in this movie...</td>\n",
       "      <td>1</td>\n",
       "      <td>i was so excited to see the cast in this movie...</td>\n",
       "    </tr>\n",
       "    <tr>\n",
       "      <th>16</th>\n",
       "      <td>These writers are trying to re-create the char...</td>\n",
       "      <td>2</td>\n",
       "      <td>these writers are trying to recreate the chara...</td>\n",
       "    </tr>\n",
       "    <tr>\n",
       "      <th>17</th>\n",
       "      <td>If this book remained faithful to the book the...</td>\n",
       "      <td>3</td>\n",
       "      <td>if this book remained faithful to the book the...</td>\n",
       "    </tr>\n",
       "    <tr>\n",
       "      <th>18</th>\n",
       "      <td>If I had to pick the most depressing movie, tr...</td>\n",
       "      <td>2</td>\n",
       "      <td>if i had to pick the most depressing movie try...</td>\n",
       "    </tr>\n",
       "    <tr>\n",
       "      <th>19</th>\n",
       "      <td>This must be the most boring film I ever saw. ...</td>\n",
       "      <td>1</td>\n",
       "      <td>this must be the most boring film i ever saw t...</td>\n",
       "    </tr>\n",
       "  </tbody>\n",
       "</table>\n",
       "</div>"
      ],
      "text/plain": [
       "                                              Content  rating  \\\n",
       "0   Seriously! You've just got to see this movie t...       2   \n",
       "1   Set in the near future a dark stranger walks i...       3   \n",
       "2   The Brothers Quay are directors, judging by co...       4   \n",
       "3   I lived next door to the author in 1980 when h...       2   \n",
       "4   I just saw this Movie on a local TV Station (T...       1   \n",
       "5   I am a student of film, and have been for seve...       3   \n",
       "6   There is absolutely nothing in this movie that...       1   \n",
       "7   Unbelievably awful film. I watched part of thi...       1   \n",
       "8   Why is it that a woman cannot be a strong char...       4   \n",
       "9   This movie isn't about football at all. It's a...       3   \n",
       "10  Your attitude going into Prom Night II will de...       4   \n",
       "11  I caught this on Cinemax very late at night......       1   \n",
       "12  This is the most elementary sort of traditiona...       3   \n",
       "13  I bought the DVD to get Julia Ormond. Well, I ...       4   \n",
       "14  Southern Cross, written and directed by James ...       2   \n",
       "15  I was so excited to see the cast in this movie...       1   \n",
       "16  These writers are trying to re-create the char...       2   \n",
       "17  If this book remained faithful to the book the...       3   \n",
       "18  If I had to pick the most depressing movie, tr...       2   \n",
       "19  This must be the most boring film I ever saw. ...       1   \n",
       "\n",
       "                                      Cleaned_Content  \n",
       "0   seriously you have just got to see this movie ...  \n",
       "1   set in the near future a dark stranger walks i...  \n",
       "2   the brothers quay are directors judging by con...  \n",
       "3   i lived next door to the author in 1980 when h...  \n",
       "4   i just saw this movie on a local tv station tv...  \n",
       "5   i am a student of film and have been for sever...  \n",
       "6   there is absolutely nothing in this movie that...  \n",
       "7   unbelievably awful film i watched part of this...  \n",
       "8   why is it that a woman cannot be a strong char...  \n",
       "9   this movie is not about football at all it is ...  \n",
       "10  your attitude going into prom night ii will de...  \n",
       "11  i caught this on cinemax very late at nightnot...  \n",
       "12  this is the most elementary sort of traditiona...  \n",
       "13  i bought the dvd to get julia ormond well i go...  \n",
       "14  southern cross written and directed by james b...  \n",
       "15  i was so excited to see the cast in this movie...  \n",
       "16  these writers are trying to recreate the chara...  \n",
       "17  if this book remained faithful to the book the...  \n",
       "18  if i had to pick the most depressing movie try...  \n",
       "19  this must be the most boring film i ever saw t...  "
      ]
     },
     "execution_count": 177,
     "metadata": {},
     "output_type": "execute_result"
    }
   ],
   "source": [
    "neg_cleaned_df = neg_unclean_df\n",
    "print(\"Uncleaned vs Cleaned version of negative dataset:\")\n",
    "neg_cleaned_df.head(20)"
   ]
  },
  {
   "cell_type": "markdown",
   "metadata": {},
   "source": [
    "## Rename columns"
   ]
  },
  {
   "cell_type": "code",
   "execution_count": 178,
   "metadata": {},
   "outputs": [
    {
     "data": {
      "text/html": [
       "<div>\n",
       "<style scoped>\n",
       "    .dataframe tbody tr th:only-of-type {\n",
       "        vertical-align: middle;\n",
       "    }\n",
       "\n",
       "    .dataframe tbody tr th {\n",
       "        vertical-align: top;\n",
       "    }\n",
       "\n",
       "    .dataframe thead th {\n",
       "        text-align: right;\n",
       "    }\n",
       "</style>\n",
       "<table border=\"1\" class=\"dataframe\">\n",
       "  <thead>\n",
       "    <tr style=\"text-align: right;\">\n",
       "      <th></th>\n",
       "      <th>Text</th>\n",
       "      <th>Sentiment</th>\n",
       "    </tr>\n",
       "  </thead>\n",
       "  <tbody>\n",
       "    <tr>\n",
       "      <th>0</th>\n",
       "      <td>this documentary has been aired on both rte an...</td>\n",
       "      <td>7</td>\n",
       "    </tr>\n",
       "    <tr>\n",
       "      <th>1</th>\n",
       "      <td>this 8 minute gem is not only timeless but it ...</td>\n",
       "      <td>10</td>\n",
       "    </tr>\n",
       "    <tr>\n",
       "      <th>2</th>\n",
       "      <td>i thought this movie was fun i have never real...</td>\n",
       "      <td>10</td>\n",
       "    </tr>\n",
       "    <tr>\n",
       "      <th>3</th>\n",
       "      <td>this was the second of three films that irving...</td>\n",
       "      <td>8</td>\n",
       "    </tr>\n",
       "    <tr>\n",
       "      <th>4</th>\n",
       "      <td>i found still crazy to be marvelously entertai...</td>\n",
       "      <td>9</td>\n",
       "    </tr>\n",
       "  </tbody>\n",
       "</table>\n",
       "</div>"
      ],
      "text/plain": [
       "                                                Text  Sentiment\n",
       "0  this documentary has been aired on both rte an...          7\n",
       "1  this 8 minute gem is not only timeless but it ...         10\n",
       "2  i thought this movie was fun i have never real...         10\n",
       "3  this was the second of three films that irving...          8\n",
       "4  i found still crazy to be marvelously entertai...          9"
      ]
     },
     "execution_count": 178,
     "metadata": {},
     "output_type": "execute_result"
    }
   ],
   "source": [
    "pos_df = pos_cleaned_df[['Cleaned_Content', 'rating']].copy()\n",
    "pos_df.rename(columns = {'Cleaned_Content': 'Text', 'rating': \"Sentiment\"}, inplace=True)\n",
    "pos_df.head()"
   ]
  },
  {
   "cell_type": "code",
   "execution_count": 179,
   "metadata": {},
   "outputs": [
    {
     "data": {
      "text/html": [
       "<div>\n",
       "<style scoped>\n",
       "    .dataframe tbody tr th:only-of-type {\n",
       "        vertical-align: middle;\n",
       "    }\n",
       "\n",
       "    .dataframe tbody tr th {\n",
       "        vertical-align: top;\n",
       "    }\n",
       "\n",
       "    .dataframe thead th {\n",
       "        text-align: right;\n",
       "    }\n",
       "</style>\n",
       "<table border=\"1\" class=\"dataframe\">\n",
       "  <thead>\n",
       "    <tr style=\"text-align: right;\">\n",
       "      <th></th>\n",
       "      <th>Text</th>\n",
       "      <th>Sentiment</th>\n",
       "    </tr>\n",
       "  </thead>\n",
       "  <tbody>\n",
       "    <tr>\n",
       "      <th>0</th>\n",
       "      <td>seriously you have just got to see this movie ...</td>\n",
       "      <td>2</td>\n",
       "    </tr>\n",
       "    <tr>\n",
       "      <th>1</th>\n",
       "      <td>set in the near future a dark stranger walks i...</td>\n",
       "      <td>3</td>\n",
       "    </tr>\n",
       "    <tr>\n",
       "      <th>2</th>\n",
       "      <td>the brothers quay are directors judging by con...</td>\n",
       "      <td>4</td>\n",
       "    </tr>\n",
       "    <tr>\n",
       "      <th>3</th>\n",
       "      <td>i lived next door to the author in 1980 when h...</td>\n",
       "      <td>2</td>\n",
       "    </tr>\n",
       "    <tr>\n",
       "      <th>4</th>\n",
       "      <td>i just saw this movie on a local tv station tv...</td>\n",
       "      <td>1</td>\n",
       "    </tr>\n",
       "  </tbody>\n",
       "</table>\n",
       "</div>"
      ],
      "text/plain": [
       "                                                Text  Sentiment\n",
       "0  seriously you have just got to see this movie ...          2\n",
       "1  set in the near future a dark stranger walks i...          3\n",
       "2  the brothers quay are directors judging by con...          4\n",
       "3  i lived next door to the author in 1980 when h...          2\n",
       "4  i just saw this movie on a local tv station tv...          1"
      ]
     },
     "execution_count": 179,
     "metadata": {},
     "output_type": "execute_result"
    }
   ],
   "source": [
    "neg_df = neg_cleaned_df[['Cleaned_Content', 'rating']].copy()\n",
    "neg_df.rename(columns = {'Cleaned_Content': 'Text', 'rating': \"Sentiment\"}, inplace=True)\n",
    "neg_df.head()"
   ]
  },
  {
   "cell_type": "markdown",
   "metadata": {},
   "source": [
    "## Outlier detection and removal"
   ]
  },
  {
   "cell_type": "code",
   "execution_count": 180,
   "metadata": {},
   "outputs": [],
   "source": [
    "# create new column that shows length of words for each dataframe\n",
    "temp_pos_df = pos_df.copy()\n",
    "temp_neg_df = neg_df.copy()\n",
    "\n",
    "# function to get length of words\n",
    "def length(text):\n",
    "    return len(re.findall(r'\\w+', text))\n",
    "\n",
    "temp_pos_df['word_count'] = temp_pos_df['Text'].apply(length)\n",
    "temp_neg_df['word_count'] = temp_neg_df['Text'].apply(length)"
   ]
  },
  {
   "cell_type": "markdown",
   "metadata": {},
   "source": [
    "Spread of positive sentiments"
   ]
  },
  {
   "cell_type": "code",
   "execution_count": 181,
   "metadata": {},
   "outputs": [
    {
     "data": {
      "text/plain": [
       "Text(0.5, 1.0, 'Countplot of positive sentiments')"
      ]
     },
     "execution_count": 181,
     "metadata": {},
     "output_type": "execute_result"
    },
    {
     "data": {
      "image/png": "[encoded data removed]",
      "text/plain": [
       "<Figure size 1000x1000 with 1 Axes>"
      ]
     },
     "metadata": {},
     "output_type": "display_data"
    }
   ],
   "source": [
    "plt.figure(figsize=(10,10))\n",
    "\n",
    "ax = sns.countplot(\n",
    "    x=\"Sentiment\",\n",
    "    data=pos_df,\n",
    "    order=pos_df['Sentiment'].value_counts(ascending=True).index\n",
    ")\n",
    "\n",
    "for p, label in zip(ax.patches, pos_df['Sentiment'].value_counts(ascending=True)):\n",
    "    ax.annotate(label, (p.get_x() + 0.25, p.get_height() + 0.5))\n",
    "\n",
    "plt.title(\"Countplot of positive sentiments\")"
   ]
  },
  {
   "cell_type": "markdown",
   "metadata": {},
   "source": [
    "Spread of negative sentiments"
   ]
  },
  {
   "cell_type": "code",
   "execution_count": 182,
   "metadata": {},
   "outputs": [
    {
     "data": {
      "text/plain": [
       "Text(0.5, 1.0, 'Countplot of negative sentiments')"
      ]
     },
     "execution_count": 182,
     "metadata": {},
     "output_type": "execute_result"
    },
    {
     "data": {
      "image/png": "[encoded data removed]",
      "text/plain": [
       "<Figure size 1000x1000 with 1 Axes>"
      ]
     },
     "metadata": {},
     "output_type": "display_data"
    }
   ],
   "source": [
    "plt.figure(figsize=(10,10))\n",
    "\n",
    "ax = sns.countplot(\n",
    "    x=\"Sentiment\",\n",
    "    data=neg_df,\n",
    "    order=neg_df['Sentiment'].value_counts(ascending=True).index\n",
    ")\n",
    "\n",
    "for p, label in zip(ax.patches, neg_df['Sentiment'].value_counts(ascending=True)):\n",
    "    ax.annotate(label, (p.get_x() + 0.25, p.get_height() + 0.5))\n",
    "\n",
    "plt.title(\"Countplot of negative sentiments\")"
   ]
  },
  {
   "cell_type": "code",
   "execution_count": 183,
   "metadata": {},
   "outputs": [
    {
     "data": {
      "text/html": [
       "<div>\n",
       "<style scoped>\n",
       "    .dataframe tbody tr th:only-of-type {\n",
       "        vertical-align: middle;\n",
       "    }\n",
       "\n",
       "    .dataframe tbody tr th {\n",
       "        vertical-align: top;\n",
       "    }\n",
       "\n",
       "    .dataframe thead th {\n",
       "        text-align: right;\n",
       "    }\n",
       "</style>\n",
       "<table border=\"1\" class=\"dataframe\">\n",
       "  <thead>\n",
       "    <tr style=\"text-align: right;\">\n",
       "      <th></th>\n",
       "      <th>Text</th>\n",
       "      <th>Sentiment</th>\n",
       "      <th>word_count</th>\n",
       "      <th>positive?</th>\n",
       "    </tr>\n",
       "  </thead>\n",
       "  <tbody>\n",
       "    <tr>\n",
       "      <th>0</th>\n",
       "      <td>this documentary has been aired on both rte an...</td>\n",
       "      <td>7</td>\n",
       "      <td>141</td>\n",
       "      <td>positive</td>\n",
       "    </tr>\n",
       "    <tr>\n",
       "      <th>1</th>\n",
       "      <td>this 8 minute gem is not only timeless but it ...</td>\n",
       "      <td>10</td>\n",
       "      <td>170</td>\n",
       "      <td>positive</td>\n",
       "    </tr>\n",
       "    <tr>\n",
       "      <th>2</th>\n",
       "      <td>i thought this movie was fun i have never real...</td>\n",
       "      <td>10</td>\n",
       "      <td>153</td>\n",
       "      <td>positive</td>\n",
       "    </tr>\n",
       "    <tr>\n",
       "      <th>3</th>\n",
       "      <td>this was the second of three films that irving...</td>\n",
       "      <td>8</td>\n",
       "      <td>340</td>\n",
       "      <td>positive</td>\n",
       "    </tr>\n",
       "    <tr>\n",
       "      <th>4</th>\n",
       "      <td>i found still crazy to be marvelously entertai...</td>\n",
       "      <td>9</td>\n",
       "      <td>250</td>\n",
       "      <td>positive</td>\n",
       "    </tr>\n",
       "  </tbody>\n",
       "</table>\n",
       "</div>"
      ],
      "text/plain": [
       "                                                Text  Sentiment  word_count  \\\n",
       "0  this documentary has been aired on both rte an...          7         141   \n",
       "1  this 8 minute gem is not only timeless but it ...         10         170   \n",
       "2  i thought this movie was fun i have never real...         10         153   \n",
       "3  this was the second of three films that irving...          8         340   \n",
       "4  i found still crazy to be marvelously entertai...          9         250   \n",
       "\n",
       "  positive?  \n",
       "0  positive  \n",
       "1  positive  \n",
       "2  positive  \n",
       "3  positive  \n",
       "4  positive  "
      ]
     },
     "execution_count": 183,
     "metadata": {},
     "output_type": "execute_result"
    }
   ],
   "source": [
    "temp_pos_df['positive?'] = 'positive'\n",
    "temp_neg_df['positive?'] = 'negative'\n",
    "\n",
    "temp_combined_df = pd.concat([temp_pos_df, temp_neg_df], ignore_index=True)\n",
    "temp_combined_df.head()"
   ]
  },
  {
   "cell_type": "code",
   "execution_count": 184,
   "metadata": {},
   "outputs": [
    {
     "data": {
      "text/plain": [
       "Text(0.5, 1.0, 'Histogram of length of reviews in positive sentiments')"
      ]
     },
     "execution_count": 184,
     "metadata": {},
     "output_type": "execute_result"
    },
    {
     "data": {
      "image/png": "[encoded data removed]",
      "text/plain": [
       "<Figure size 1000x1000 with 1 Axes>"
      ]
     },
     "metadata": {},
     "output_type": "display_data"
    }
   ],
   "source": [
    "plt.figure(figsize=(10,10))\n",
    "\n",
    "ax = sns.histplot(\n",
    "    data=temp_pos_df,\n",
    "    x='word_count',\n",
    "    bins=40,\n",
    ")\n",
    "\n",
    "plt.title(\"Histogram of length of reviews in positive sentiments\")"
   ]
  },
  {
   "cell_type": "code",
   "execution_count": 185,
   "metadata": {},
   "outputs": [
    {
     "data": {
      "text/plain": [
       "Text(0.5, 1.0, 'Histogram of length of reviews in negative sentiments')"
      ]
     },
     "execution_count": 185,
     "metadata": {},
     "output_type": "execute_result"
    },
    {
     "data": {
      "image/png": "[encoded data removed]",
      "text/plain": [
       "<Figure size 1000x1000 with 1 Axes>"
      ]
     },
     "metadata": {},
     "output_type": "display_data"
    }
   ],
   "source": [
    "plt.figure(figsize=(10,10))\n",
    "\n",
    "ax = sns.histplot(\n",
    "    data=temp_neg_df,\n",
    "    x='word_count',\n",
    "    bins=40,\n",
    ")\n",
    "\n",
    "plt.title(\"Histogram of length of reviews in negative sentiments\")"
   ]
  },
  {
   "cell_type": "code",
   "execution_count": 186,
   "metadata": {},
   "outputs": [
    {
     "data": {
      "text/plain": [
       "Text(0.5, 1.0, 'Length of reviews in positive and negative sentiments')"
      ]
     },
     "execution_count": 186,
     "metadata": {},
     "output_type": "execute_result"
    },
    {
     "data": {
      "image/png": "[encoded data removed]",
      "text/plain": [
       "<Figure size 1000x1000 with 1 Axes>"
      ]
     },
     "metadata": {},
     "output_type": "display_data"
    }
   ],
   "source": [
    "plt.figure(figsize=(10,10))\n",
    "palette = ['g', 'plum']\n",
    "\n",
    "ax = sns.boxplot(\n",
    "    data=temp_combined_df,\n",
    "    y='word_count',\n",
    "    x='positive?',\n",
    "    palette=palette\n",
    ")\n",
    "plt.title(\"Length of reviews in positive and negative sentiments\")"
   ]
  },
  {
   "cell_type": "code",
   "execution_count": 187,
   "metadata": {},
   "outputs": [
    {
     "name": "stdout",
     "output_type": "stream",
     "text": [
      "Median word count of positive data: 174\n",
      "Median word count of negative data: 176\n"
     ]
    }
   ],
   "source": [
    "pos_median = temp_pos_df['word_count'].median()\n",
    "neg_median = temp_neg_df['word_count'].median()\n",
    "print(f\"Median word count of positive data: {int(pos_median)}\")\n",
    "print(f\"Median word count of negative data: {int(neg_median)}\")"
   ]
  },
  {
   "cell_type": "code",
   "execution_count": 188,
   "metadata": {},
   "outputs": [
    {
     "name": "stdout",
     "output_type": "stream",
     "text": [
      "Max word count of positive data: 2482\n",
      "Max word count of negative data: 1532\n"
     ]
    }
   ],
   "source": [
    "pos_max = temp_pos_df['word_count'].max()\n",
    "neg_max = temp_neg_df['word_count'].max()\n",
    "print(f\"Max word count of positive data: {int(pos_max)}\")\n",
    "print(f\"Max word count of negative data: {int(neg_max)}\")"
   ]
  },
  {
   "cell_type": "markdown",
   "metadata": {},
   "source": [
    "Outlier removal for positive dataset"
   ]
  },
  {
   "cell_type": "code",
   "execution_count": 189,
   "metadata": {},
   "outputs": [
    {
     "data": {
      "text/html": [
       "<div>\n",
       "<style scoped>\n",
       "    .dataframe tbody tr th:only-of-type {\n",
       "        vertical-align: middle;\n",
       "    }\n",
       "\n",
       "    .dataframe tbody tr th {\n",
       "        vertical-align: top;\n",
       "    }\n",
       "\n",
       "    .dataframe thead th {\n",
       "        text-align: right;\n",
       "    }\n",
       "</style>\n",
       "<table border=\"1\" class=\"dataframe\">\n",
       "  <thead>\n",
       "    <tr style=\"text-align: right;\">\n",
       "      <th></th>\n",
       "      <th>Text</th>\n",
       "      <th>Sentiment</th>\n",
       "      <th>word_count</th>\n",
       "      <th>positive?</th>\n",
       "    </tr>\n",
       "  </thead>\n",
       "  <tbody>\n",
       "    <tr>\n",
       "      <th>583</th>\n",
       "      <td>match 1 tag team table match bubba ray and spi...</td>\n",
       "      <td>9</td>\n",
       "      <td>2482</td>\n",
       "      <td>positive</td>\n",
       "    </tr>\n",
       "    <tr>\n",
       "      <th>9305</th>\n",
       "      <td>back in the midlate 80s an oav anime by title ...</td>\n",
       "      <td>10</td>\n",
       "      <td>2141</td>\n",
       "      <td>positive</td>\n",
       "    </tr>\n",
       "    <tr>\n",
       "      <th>9459</th>\n",
       "      <td>warning does contain spoilersbr br open your e...</td>\n",
       "      <td>10</td>\n",
       "      <td>1542</td>\n",
       "      <td>positive</td>\n",
       "    </tr>\n",
       "    <tr>\n",
       "      <th>12990</th>\n",
       "      <td>attention spoilersbr br first of all let me sa...</td>\n",
       "      <td>9</td>\n",
       "      <td>1838</td>\n",
       "      <td>positive</td>\n",
       "    </tr>\n",
       "    <tr>\n",
       "      <th>13023</th>\n",
       "      <td>spoilers  br br before i begin this let me sa...</td>\n",
       "      <td>10</td>\n",
       "      <td>1606</td>\n",
       "      <td>positive</td>\n",
       "    </tr>\n",
       "    <tr>\n",
       "      <th>14028</th>\n",
       "      <td>if anyone ever assembles a compendium on moder...</td>\n",
       "      <td>9</td>\n",
       "      <td>1740</td>\n",
       "      <td>positive</td>\n",
       "    </tr>\n",
       "    <tr>\n",
       "      <th>14961</th>\n",
       "      <td>some spoilers includedbr br although many comm...</td>\n",
       "      <td>7</td>\n",
       "      <td>2124</td>\n",
       "      <td>positive</td>\n",
       "    </tr>\n",
       "    <tr>\n",
       "      <th>15782</th>\n",
       "      <td>there is a sign on the lost highway that saysb...</td>\n",
       "      <td>10</td>\n",
       "      <td>2298</td>\n",
       "      <td>positive</td>\n",
       "    </tr>\n",
       "    <tr>\n",
       "      <th>20418</th>\n",
       "      <td>by now you have probably heard a bit about the...</td>\n",
       "      <td>10</td>\n",
       "      <td>1754</td>\n",
       "      <td>positive</td>\n",
       "    </tr>\n",
       "    <tr>\n",
       "      <th>22993</th>\n",
       "      <td>titanic directed by james cameron presents a f...</td>\n",
       "      <td>9</td>\n",
       "      <td>1839</td>\n",
       "      <td>positive</td>\n",
       "    </tr>\n",
       "  </tbody>\n",
       "</table>\n",
       "</div>"
      ],
      "text/plain": [
       "                                                    Text  Sentiment  \\\n",
       "583    match 1 tag team table match bubba ray and spi...          9   \n",
       "9305   back in the midlate 80s an oav anime by title ...         10   \n",
       "9459   warning does contain spoilersbr br open your e...         10   \n",
       "12990  attention spoilersbr br first of all let me sa...          9   \n",
       "13023   spoilers  br br before i begin this let me sa...         10   \n",
       "14028  if anyone ever assembles a compendium on moder...          9   \n",
       "14961  some spoilers includedbr br although many comm...          7   \n",
       "15782  there is a sign on the lost highway that saysb...         10   \n",
       "20418  by now you have probably heard a bit about the...         10   \n",
       "22993  titanic directed by james cameron presents a f...          9   \n",
       "\n",
       "       word_count positive?  \n",
       "583          2482  positive  \n",
       "9305         2141  positive  \n",
       "9459         1542  positive  \n",
       "12990        1838  positive  \n",
       "13023        1606  positive  \n",
       "14028        1740  positive  \n",
       "14961        2124  positive  \n",
       "15782        2298  positive  \n",
       "20418        1754  positive  \n",
       "22993        1839  positive  "
      ]
     },
     "execution_count": 189,
     "metadata": {},
     "output_type": "execute_result"
    }
   ],
   "source": [
    "num_above_max = temp_pos_df[temp_pos_df['word_count'] >= neg_max]\n",
    "num_above_max"
   ]
  },
  {
   "cell_type": "code",
   "execution_count": 190,
   "metadata": {},
   "outputs": [],
   "source": [
    "temp_pos_df = temp_pos_df[temp_pos_df['word_count'] < neg_max]\n",
    "# re initialise\n",
    "pos_df = temp_pos_df[['Text', 'Sentiment']]"
   ]
  },
  {
   "cell_type": "markdown",
   "metadata": {},
   "source": [
    "## Splitting into train and test"
   ]
  },
  {
   "cell_type": "code",
   "execution_count": 191,
   "metadata": {},
   "outputs": [],
   "source": [
    "# Bring all positive rating values down to range of 5-8 (to ensure continuous range of ratings)\n",
    "pos_df['Sentiment'] = pos_df['Sentiment'] - 2\n",
    "\n",
    "# Merging data into one dataset\n",
    "data = pd.concat([pos_df, neg_df], ignore_index=True)"
   ]
  },
  {
   "cell_type": "code",
   "execution_count": 192,
   "metadata": {},
   "outputs": [
    {
     "data": {
      "text/html": [
       "<div>\n",
       "<style scoped>\n",
       "    .dataframe tbody tr th:only-of-type {\n",
       "        vertical-align: middle;\n",
       "    }\n",
       "\n",
       "    .dataframe tbody tr th {\n",
       "        vertical-align: top;\n",
       "    }\n",
       "\n",
       "    .dataframe thead th {\n",
       "        text-align: right;\n",
       "    }\n",
       "</style>\n",
       "<table border=\"1\" class=\"dataframe\">\n",
       "  <thead>\n",
       "    <tr style=\"text-align: right;\">\n",
       "      <th></th>\n",
       "      <th>Text</th>\n",
       "      <th>Sentiment</th>\n",
       "    </tr>\n",
       "  </thead>\n",
       "  <tbody>\n",
       "    <tr>\n",
       "      <th>0</th>\n",
       "      <td>this documentary has been aired on both rte an...</td>\n",
       "      <td>5</td>\n",
       "    </tr>\n",
       "    <tr>\n",
       "      <th>1</th>\n",
       "      <td>this 8 minute gem is not only timeless but it ...</td>\n",
       "      <td>8</td>\n",
       "    </tr>\n",
       "    <tr>\n",
       "      <th>2</th>\n",
       "      <td>i thought this movie was fun i have never real...</td>\n",
       "      <td>8</td>\n",
       "    </tr>\n",
       "    <tr>\n",
       "      <th>3</th>\n",
       "      <td>this was the second of three films that irving...</td>\n",
       "      <td>6</td>\n",
       "    </tr>\n",
       "    <tr>\n",
       "      <th>4</th>\n",
       "      <td>i found still crazy to be marvelously entertai...</td>\n",
       "      <td>7</td>\n",
       "    </tr>\n",
       "  </tbody>\n",
       "</table>\n",
       "</div>"
      ],
      "text/plain": [
       "                                                Text  Sentiment\n",
       "0  this documentary has been aired on both rte an...          5\n",
       "1  this 8 minute gem is not only timeless but it ...          8\n",
       "2  i thought this movie was fun i have never real...          8\n",
       "3  this was the second of three films that irving...          6\n",
       "4  i found still crazy to be marvelously entertai...          7"
      ]
     },
     "execution_count": 192,
     "metadata": {},
     "output_type": "execute_result"
    }
   ],
   "source": [
    "data.head()"
   ]
  },
  {
   "cell_type": "code",
   "execution_count": 193,
   "metadata": {},
   "outputs": [
    {
     "data": {
      "text/plain": [
       "(49572, 2)"
      ]
     },
     "execution_count": 193,
     "metadata": {},
     "output_type": "execute_result"
    }
   ],
   "source": [
    "data.shape"
   ]
  },
  {
   "cell_type": "code",
   "execution_count": 194,
   "metadata": {},
   "outputs": [
    {
     "data": {
      "text/plain": [
       "<matplotlib.legend.Legend at 0x7fa49e99bf40>"
      ]
     },
     "execution_count": 194,
     "metadata": {},
     "output_type": "execute_result"
    },
    {
     "data": {
      "image/png": "[encoded data removed]",
      "text/plain": [
       "<Figure size 640x480 with 1 Axes>"
      ]
     },
     "metadata": {},
     "output_type": "display_data"
    }
   ],
   "source": [
    "from sklearn.model_selection import train_test_split\n",
    "\n",
    "X = data['Text']\n",
    "y = data['Sentiment']\n",
    "X_train, X_test, y_train, y_test = train_test_split(X, y, test_size=0.2, random_state=200, stratify=y)\n",
    "train_split = pd.concat([pd.DataFrame(X_train), pd.DataFrame(y_train)], ignore_index=True, axis=1)\n",
    "train_split = train_split.rename(columns={0: 'Text', 1: 'Sentiment'}) \n",
    "\n",
    "test_split = pd.concat([pd.DataFrame(X_test), pd.DataFrame(y_test)], ignore_index=True, axis=1)\n",
    "test_split = test_split.rename(columns={0: 'Text', 1: 'Sentiment'}) \n",
    "\n",
    "plt.hist(train_split['Sentiment'], bins=8)\n",
    "plt.hist(test_split['Sentiment'], bins=8)\n",
    "plt.xlabel('Sentiment')\n",
    "plt.ylabel('Count')\n",
    "plt.legend(['Train split', 'Test split'])"
   ]
  },
  {
   "cell_type": "code",
   "execution_count": 195,
   "metadata": {},
   "outputs": [
    {
     "data": {
      "text/plain": [
       "Sentiment\n",
       "1    7981\n",
       "8    7732\n",
       "6    4672\n",
       "4    4225\n",
       "3    3922\n",
       "5    3829\n",
       "7    3666\n",
       "2    3630\n",
       "Name: count, dtype: int64"
      ]
     },
     "execution_count": 195,
     "metadata": {},
     "output_type": "execute_result"
    }
   ],
   "source": [
    "train_split['Sentiment'].value_counts()"
   ]
  },
  {
   "cell_type": "code",
   "execution_count": 196,
   "metadata": {},
   "outputs": [
    {
     "data": {
      "text/plain": [
       "Sentiment\n",
       "1    1995\n",
       "8    1933\n",
       "6    1168\n",
       "4    1057\n",
       "3     981\n",
       "5     957\n",
       "7     917\n",
       "2     907\n",
       "Name: count, dtype: int64"
      ]
     },
     "execution_count": 196,
     "metadata": {},
     "output_type": "execute_result"
    }
   ],
   "source": [
    "test_split['Sentiment'].value_counts()"
   ]
  },
  {
   "cell_type": "code",
   "execution_count": 197,
   "metadata": {},
   "outputs": [
    {
     "data": {
      "text/html": [
       "<div>\n",
       "<style scoped>\n",
       "    .dataframe tbody tr th:only-of-type {\n",
       "        vertical-align: middle;\n",
       "    }\n",
       "\n",
       "    .dataframe tbody tr th {\n",
       "        vertical-align: top;\n",
       "    }\n",
       "\n",
       "    .dataframe thead th {\n",
       "        text-align: right;\n",
       "    }\n",
       "</style>\n",
       "<table border=\"1\" class=\"dataframe\">\n",
       "  <thead>\n",
       "    <tr style=\"text-align: right;\">\n",
       "      <th></th>\n",
       "      <th>Text</th>\n",
       "      <th>Sentiment</th>\n",
       "    </tr>\n",
       "  </thead>\n",
       "  <tbody>\n",
       "    <tr>\n",
       "      <th>20921</th>\n",
       "      <td>this is one of tvs greatest miniseries it come...</td>\n",
       "      <td>8</td>\n",
       "    </tr>\n",
       "    <tr>\n",
       "      <th>1811</th>\n",
       "      <td>this movie is one of my alltime favorites i th...</td>\n",
       "      <td>6</td>\n",
       "    </tr>\n",
       "    <tr>\n",
       "      <th>3700</th>\n",
       "      <td>describing stalingrad as a war film may be a b...</td>\n",
       "      <td>8</td>\n",
       "    </tr>\n",
       "    <tr>\n",
       "      <th>5544</th>\n",
       "      <td>i had no idea what jane eyre was before i saw ...</td>\n",
       "      <td>8</td>\n",
       "    </tr>\n",
       "    <tr>\n",
       "      <th>27962</th>\n",
       "      <td>well i notice imdb has not offered any plot in...</td>\n",
       "      <td>1</td>\n",
       "    </tr>\n",
       "  </tbody>\n",
       "</table>\n",
       "</div>"
      ],
      "text/plain": [
       "                                                    Text  Sentiment\n",
       "20921  this is one of tvs greatest miniseries it come...          8\n",
       "1811   this movie is one of my alltime favorites i th...          6\n",
       "3700   describing stalingrad as a war film may be a b...          8\n",
       "5544   i had no idea what jane eyre was before i saw ...          8\n",
       "27962  well i notice imdb has not offered any plot in...          1"
      ]
     },
     "execution_count": 197,
     "metadata": {},
     "output_type": "execute_result"
    }
   ],
   "source": [
    "train_split.head()"
   ]
  },
  {
   "cell_type": "code",
   "execution_count": 198,
   "metadata": {},
   "outputs": [
    {
     "data": {
      "text/html": [
       "<div>\n",
       "<style scoped>\n",
       "    .dataframe tbody tr th:only-of-type {\n",
       "        vertical-align: middle;\n",
       "    }\n",
       "\n",
       "    .dataframe tbody tr th {\n",
       "        vertical-align: top;\n",
       "    }\n",
       "\n",
       "    .dataframe thead th {\n",
       "        text-align: right;\n",
       "    }\n",
       "</style>\n",
       "<table border=\"1\" class=\"dataframe\">\n",
       "  <thead>\n",
       "    <tr style=\"text-align: right;\">\n",
       "      <th></th>\n",
       "      <th>Text</th>\n",
       "      <th>Sentiment</th>\n",
       "    </tr>\n",
       "  </thead>\n",
       "  <tbody>\n",
       "    <tr>\n",
       "      <th>22246</th>\n",
       "      <td>frank horrigan clint eastwood is being harasse...</td>\n",
       "      <td>6</td>\n",
       "    </tr>\n",
       "    <tr>\n",
       "      <th>9862</th>\n",
       "      <td>carly jones elisha curtberth her bad boy broth...</td>\n",
       "      <td>5</td>\n",
       "    </tr>\n",
       "    <tr>\n",
       "      <th>24237</th>\n",
       "      <td>dig i would say to anyone even if you do not l...</td>\n",
       "      <td>5</td>\n",
       "    </tr>\n",
       "    <tr>\n",
       "      <th>46040</th>\n",
       "      <td>this is a great premise for a movie the overal...</td>\n",
       "      <td>4</td>\n",
       "    </tr>\n",
       "    <tr>\n",
       "      <th>46925</th>\n",
       "      <td>the underground comedy movie is possibly the w...</td>\n",
       "      <td>1</td>\n",
       "    </tr>\n",
       "  </tbody>\n",
       "</table>\n",
       "</div>"
      ],
      "text/plain": [
       "                                                    Text  Sentiment\n",
       "22246  frank horrigan clint eastwood is being harasse...          6\n",
       "9862   carly jones elisha curtberth her bad boy broth...          5\n",
       "24237  dig i would say to anyone even if you do not l...          5\n",
       "46040  this is a great premise for a movie the overal...          4\n",
       "46925  the underground comedy movie is possibly the w...          1"
      ]
     },
     "execution_count": 198,
     "metadata": {},
     "output_type": "execute_result"
    }
   ],
   "source": [
    "test_split.head()"
   ]
  },
  {
   "cell_type": "markdown",
   "metadata": {},
   "source": [
    "## Convert Files to CSVs"
   ]
  },
  {
   "cell_type": "code",
   "execution_count": 13,
   "metadata": {},
   "outputs": [],
   "source": [
    "train_split.to_csv(\"train_data.csv\")\n",
    "test_split.to_csv(\"test_data.csv\")"
   ]
  }
 ],
 "metadata": {
  "kernelspec": {
   "display_name": "base",
   "language": "python",
   "name": "python3"
  },
  "language_info": {
   "codemirror_mode": {
    "name": "ipython",
    "version": 3
   },
   "file_extension": ".py",
   "mimetype": "text/x-python",
   "name": "python",
   "nbconvert_exporter": "python",
   "pygments_lexer": "ipython3",
   "version": "3.10.13"
  }
 },
 "nbformat": 4,
 "nbformat_minor": 2
}
