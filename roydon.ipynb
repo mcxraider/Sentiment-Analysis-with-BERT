{
 "cells": [
  {
   "cell_type": "code",
   "execution_count": 17,
   "metadata": {},
   "outputs": [],
   "source": [
    "import numpy as np\n",
    "import matplotlib.pyplot as plt\n",
    "import pandas as pd\n",
    "from sklearn import metrics\n",
    "import torch\n",
    "from torch.utils.data import Dataset, DataLoader, RandomSampler, SequentialSampler\n",
    "from transformers import BertTokenizerFast\n",
    "import re"
   ]
  },
  {
   "cell_type": "code",
   "execution_count": 33,
   "metadata": {},
   "outputs": [],
   "source": [
    "# reading datasets\n",
    "pos_df = pd.read_csv(r'C:\\Users\\Roydon\\Desktop\\it1244-final-project\\data\\pos.csv', index_col=0)\n",
    "pos_df = pos_df.drop(columns=['FileName'])\n",
    "\n",
    "neg_df = pd.read_csv(r'C:\\Users\\Roydon\\Desktop\\it1244-final-project\\data\\neg.csv', index_col=0)\n",
    "neg_df = neg_df.drop(columns=['FileName'])\n",
    "\n",
    "# Bring all positive rating values down to range of 5-8 (to ensure continuous range of ratings)\n",
    "pos_df['rating'] = pos_df['rating'] - 2\n",
    "\n",
    "# Merging data into one dataset\n",
    "data = pd.concat([pos_df, neg_df], ignore_index=True)"
   ]
  },
  {
   "cell_type": "code",
   "execution_count": 34,
   "metadata": {},
   "outputs": [
    {
     "data": {
      "text/plain": [
       "<matplotlib.legend.Legend at 0x242841abec0>"
      ]
     },
     "execution_count": 34,
     "metadata": {},
     "output_type": "execute_result"
    },
    {
     "data": {
      "image/png": "[encoded data removed]",
      "text/plain": [
       "<Figure size 640x480 with 1 Axes>"
      ]
     },
     "metadata": {},
     "output_type": "display_data"
    }
   ],
   "source": [
    "from sklearn.model_selection import train_test_split\n",
    "\n",
    "X = data['Content']\n",
    "y = data['rating']\n",
    "X_train, X_test, y_train, y_test = train_test_split(X, y, test_size=0.2, random_state=200, stratify=y)\n",
    "train_split = pd.concat([pd.DataFrame(X_train), pd.DataFrame(y_train)], ignore_index=True, axis=1)\n",
    "train_split = train_split.rename(columns={0: 'Content', 1: 'rating'}) \n",
    "\n",
    "test_split = pd.concat([pd.DataFrame(X_test), pd.DataFrame(y_test)], ignore_index=True, axis=1)\n",
    "test_split = test_split.rename(columns={0: 'Content', 1: 'rating'}) \n",
    "\n",
    "plt.hist(train_split['rating'], bins=8)\n",
    "plt.hist(test_split['rating'], bins=8)\n",
    "plt.xlabel('rating')\n",
    "plt.ylabel('Count')\n",
    "plt.legend(['Train split', 'Test split'])"
   ]
  },
  {
   "cell_type": "code",
   "execution_count": 35,
   "metadata": {},
   "outputs": [],
   "source": [
    "train_split.to_csv('train.csv')\n",
    "test_split.to_csv('test.csv')"
   ]
  },
  {
   "cell_type": "code",
   "execution_count": 18,
   "metadata": {},
   "outputs": [],
   "source": [
    "# Defining some key variables that will be used later on in the training\n",
    "MAX_LEN = 200\n",
    "TRAIN_BATCH_SIZE = 8\n",
    "VALID_BATCH_SIZE = 4\n",
    "EPOCHS = 1\n",
    "LEARNING_RATE = 1e-05\n",
    "tokenizer = BertTokenizerFast.from_pretrained('bert-base-uncased')"
   ]
  },
  {
   "cell_type": "code",
   "execution_count": null,
   "metadata": {},
   "outputs": [],
   "source": [
    "class CustomDataset(Dataset):\n",
    "    ''' Custom dataset class defined to create '''\n",
    "\n",
    "    def __init__(self, dataframe, tokenizer, max_len):\n",
    "        self.tokenizer = tokenizer\n",
    "        self.data = dataframe\n",
    "        self.Content = dataframe.Content\n",
    "        self.targets = self.data.list\n",
    "        self.max_len = max_len\n",
    "\n",
    "    # __len__ and __getitem__ methods to create map-style dataset to be interfaced by torch DataLoader method\n",
    "    def __len__(self):\n",
    "        return len(self.Content)\n",
    "\n",
    "    def __getitem__(self, index):\n",
    "        # Data preprocessing code to convert to lower-cased, remove trailing whitespace, html tags and urls\n",
    "        Content = str(self.Content[index]).lower()\n",
    "        Content = re.sub(r'<[^>]+>', '', Content)  \n",
    "        Content = re.sub(r'https://\\S+|www\\.\\S+', '', Content)\n",
    "        Content = \" \".join(Content.split())\n",
    "\n",
    "        # Tokenisation of text\n",
    "        inputs = self.tokenizer.encode_plus(\n",
    "            Content,\n",
    "            None,\n",
    "            add_special_tokens=True,\n",
    "            max_length=self.max_len,\n",
    "            pad_to_max_length=True,\n",
    "            return_token_type_ids=True\n",
    "        )\n",
    "        ids = inputs['input_ids']\n",
    "        mask = inputs['attention_mask']\n",
    "        token_type_ids = inputs[\"token_type_ids\"]\n",
    "\n",
    "\n",
    "        return {\n",
    "            'ids': torch.tensor(ids, dtype=torch.long),\n",
    "            'mask': torch.tensor(mask, dtype=torch.long),\n",
    "            'token_type_ids': torch.tensor(token_type_ids, dtype=torch.long),\n",
    "            'targets': torch.tensor(self.targets[index], dtype=torch.float)\n",
    "        }"
   ]
  }
 ],
 "metadata": {
  "kernelspec": {
   "display_name": "base",
   "language": "python",
   "name": "python3"
  },
  "language_info": {
   "codemirror_mode": {
    "name": "ipython",
    "version": 3
   },
   "file_extension": ".py",
   "mimetype": "text/x-python",
   "name": "python",
   "nbconvert_exporter": "python",
   "pygments_lexer": "ipython3",
   "version": "3.12.0"
  }
 },
 "nbformat": 4,
 "nbformat_minor": 2
}
