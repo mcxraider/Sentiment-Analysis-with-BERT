{
  "nbformat": 4,
  "nbformat_minor": 0,
  "metadata": {
    "colab": {
      "provenance": []
    },
    "kernelspec": {
      "name": "python3",
      "display_name": "Python 3"
    },
    "language_info": {
      "name": "python"
    }
  },
  "cells": [
    {
      "cell_type": "code",
      "execution_count": 36,
      "metadata": {
        "id": "rJYT-tQtsCCQ"
      },
      "outputs": [],
      "source": [
        "from sklearn.ensemble import RandomForestClassifier\n",
        "from sklearn.linear_model import LogisticRegression\n",
        "from sklearn.naive_bayes import MultinomialNB, GaussianNB\n",
        "from sklearn.feature_extraction.text import CountVectorizer, TfidfVectorizer\n",
        "from sklearn.metrics import classification_report, confusion_matrix\n",
        "from sklearn.model_selection import GridSearchCV, train_test_split\n",
        "from sklearn.pipeline import Pipeline\n",
        "from sklearn.metrics import accuracy_score\n",
        "import pandas as pd\n",
        "import numpy as np\n",
        "import matplotlib.pyplot as plt"
      ]
    },
    {
      "cell_type": "code",
      "source": [
        "train = pd.read_csv('ML_train_2class.csv')\n",
        "test = pd.read_csv('ML_test_2class.csv')"
      ],
      "metadata": {
        "id": "19TpkU5ysWH1"
      },
      "execution_count": 37,
      "outputs": []
    },
    {
      "cell_type": "code",
      "source": [
        "train.head()"
      ],
      "metadata": {
        "colab": {
          "base_uri": "https://localhost:8080/",
          "height": 206
        },
        "id": "nDTwI6visXXt",
        "outputId": "ae27c553-46cf-4002-b728-54bfe863897b"
      },
      "execution_count": 38,
      "outputs": [
        {
          "output_type": "execute_result",
          "data": {
            "text/plain": [
              "                                                Text  Sentiment\n",
              "0  watched 34 movie wondered got horrible review ...          0\n",
              "1  have never understood appeal garbo always come...          0\n",
              "2  nacho vigalondo is famous spain is kind bad sh...          0\n",
              "3  eric idle robbie coltraine janet suzman should...          0\n",
              "4  great storyline message joan plowright is supe...          1"
            ],
            "text/html": [
              "\n",
              "  <div id=\"df-c5f70823-5509-4cd3-844f-0b955bda2ab5\" class=\"colab-df-container\">\n",
              "    <div>\n",
              "<style scoped>\n",
              "    .dataframe tbody tr th:only-of-type {\n",
              "        vertical-align: middle;\n",
              "    }\n",
              "\n",
              "    .dataframe tbody tr th {\n",
              "        vertical-align: top;\n",
              "    }\n",
              "\n",
              "    .dataframe thead th {\n",
              "        text-align: right;\n",
              "    }\n",
              "</style>\n",
              "<table border=\"1\" class=\"dataframe\">\n",
              "  <thead>\n",
              "    <tr style=\"text-align: right;\">\n",
              "      <th></th>\n",
              "      <th>Text</th>\n",
              "      <th>Sentiment</th>\n",
              "    </tr>\n",
              "  </thead>\n",
              "  <tbody>\n",
              "    <tr>\n",
              "      <th>0</th>\n",
              "      <td>watched 34 movie wondered got horrible review ...</td>\n",
              "      <td>0</td>\n",
              "    </tr>\n",
              "    <tr>\n",
              "      <th>1</th>\n",
              "      <td>have never understood appeal garbo always come...</td>\n",
              "      <td>0</td>\n",
              "    </tr>\n",
              "    <tr>\n",
              "      <th>2</th>\n",
              "      <td>nacho vigalondo is famous spain is kind bad sh...</td>\n",
              "      <td>0</td>\n",
              "    </tr>\n",
              "    <tr>\n",
              "      <th>3</th>\n",
              "      <td>eric idle robbie coltraine janet suzman should...</td>\n",
              "      <td>0</td>\n",
              "    </tr>\n",
              "    <tr>\n",
              "      <th>4</th>\n",
              "      <td>great storyline message joan plowright is supe...</td>\n",
              "      <td>1</td>\n",
              "    </tr>\n",
              "  </tbody>\n",
              "</table>\n",
              "</div>\n",
              "    <div class=\"colab-df-buttons\">\n",
              "\n",
              "  <div class=\"colab-df-container\">\n",
              "    <button class=\"colab-df-convert\" onclick=\"convertToInteractive('df-c5f70823-5509-4cd3-844f-0b955bda2ab5')\"\n",
              "            title=\"Convert this dataframe to an interactive table.\"\n",
              "            style=\"display:none;\">\n",
              "\n",
              "  <svg xmlns=\"http://www.w3.org/2000/svg\" height=\"24px\" viewBox=\"0 -960 960 960\">\n",
              "    <path d=\"M120-120v-720h720v720H120Zm60-500h600v-160H180v160Zm220 220h160v-160H400v160Zm0 220h160v-160H400v160ZM180-400h160v-160H180v160Zm440 0h160v-160H620v160ZM180-180h160v-160H180v160Zm440 0h160v-160H620v160Z\"/>\n",
              "  </svg>\n",
              "    </button>\n",
              "\n",
              "  <style>\n",
              "    .colab-df-container {\n",
              "      display:flex;\n",
              "      gap: 12px;\n",
              "    }\n",
              "\n",
              "    .colab-df-convert {\n",
              "      background-color: #E8F0FE;\n",
              "      border: none;\n",
              "      border-radius: 50%;\n",
              "      cursor: pointer;\n",
              "      display: none;\n",
              "      fill: #1967D2;\n",
              "      height: 32px;\n",
              "      padding: 0 0 0 0;\n",
              "      width: 32px;\n",
              "    }\n",
              "\n",
              "    .colab-df-convert:hover {\n",
              "      background-color: #E2EBFA;\n",
              "      box-shadow: 0px 1px 2px rgba(60, 64, 67, 0.3), 0px 1px 3px 1px rgba(60, 64, 67, 0.15);\n",
              "      fill: #174EA6;\n",
              "    }\n",
              "\n",
              "    .colab-df-buttons div {\n",
              "      margin-bottom: 4px;\n",
              "    }\n",
              "\n",
              "    [theme=dark] .colab-df-convert {\n",
              "      background-color: #3B4455;\n",
              "      fill: #D2E3FC;\n",
              "    }\n",
              "\n",
              "    [theme=dark] .colab-df-convert:hover {\n",
              "      background-color: #434B5C;\n",
              "      box-shadow: 0px 1px 3px 1px rgba(0, 0, 0, 0.15);\n",
              "      filter: drop-shadow(0px 1px 2px rgba(0, 0, 0, 0.3));\n",
              "      fill: #FFFFFF;\n",
              "    }\n",
              "  </style>\n",
              "\n",
              "    <script>\n",
              "      const buttonEl =\n",
              "        document.querySelector('#df-c5f70823-5509-4cd3-844f-0b955bda2ab5 button.colab-df-convert');\n",
              "      buttonEl.style.display =\n",
              "        google.colab.kernel.accessAllowed ? 'block' : 'none';\n",
              "\n",
              "      async function convertToInteractive(key) {\n",
              "        const element = document.querySelector('#df-c5f70823-5509-4cd3-844f-0b955bda2ab5');\n",
              "        const dataTable =\n",
              "          await google.colab.kernel.invokeFunction('convertToInteractive',\n",
              "                                                    [key], {});\n",
              "        if (!dataTable) return;\n",
              "\n",
              "        const docLinkHtml = 'Like what you see? Visit the ' +\n",
              "          '<a target=\"_blank\" href=https://colab.research.google.com/notebooks/data_table.ipynb>data table notebook</a>'\n",
              "          + ' to learn more about interactive tables.';\n",
              "        element.innerHTML = '';\n",
              "        dataTable['output_type'] = 'display_data';\n",
              "        await google.colab.output.renderOutput(dataTable, element);\n",
              "        const docLink = document.createElement('div');\n",
              "        docLink.innerHTML = docLinkHtml;\n",
              "        element.appendChild(docLink);\n",
              "      }\n",
              "    </script>\n",
              "  </div>\n",
              "\n",
              "\n",
              "<div id=\"df-717d31af-daad-48bf-ad4a-9fdc524425fb\">\n",
              "  <button class=\"colab-df-quickchart\" onclick=\"quickchart('df-717d31af-daad-48bf-ad4a-9fdc524425fb')\"\n",
              "            title=\"Suggest charts\"\n",
              "            style=\"display:none;\">\n",
              "\n",
              "<svg xmlns=\"http://www.w3.org/2000/svg\" height=\"24px\"viewBox=\"0 0 24 24\"\n",
              "     width=\"24px\">\n",
              "    <g>\n",
              "        <path d=\"M19 3H5c-1.1 0-2 .9-2 2v14c0 1.1.9 2 2 2h14c1.1 0 2-.9 2-2V5c0-1.1-.9-2-2-2zM9 17H7v-7h2v7zm4 0h-2V7h2v10zm4 0h-2v-4h2v4z\"/>\n",
              "    </g>\n",
              "</svg>\n",
              "  </button>\n",
              "\n",
              "<style>\n",
              "  .colab-df-quickchart {\n",
              "      --bg-color: #E8F0FE;\n",
              "      --fill-color: #1967D2;\n",
              "      --hover-bg-color: #E2EBFA;\n",
              "      --hover-fill-color: #174EA6;\n",
              "      --disabled-fill-color: #AAA;\n",
              "      --disabled-bg-color: #DDD;\n",
              "  }\n",
              "\n",
              "  [theme=dark] .colab-df-quickchart {\n",
              "      --bg-color: #3B4455;\n",
              "      --fill-color: #D2E3FC;\n",
              "      --hover-bg-color: #434B5C;\n",
              "      --hover-fill-color: #FFFFFF;\n",
              "      --disabled-bg-color: #3B4455;\n",
              "      --disabled-fill-color: #666;\n",
              "  }\n",
              "\n",
              "  .colab-df-quickchart {\n",
              "    background-color: var(--bg-color);\n",
              "    border: none;\n",
              "    border-radius: 50%;\n",
              "    cursor: pointer;\n",
              "    display: none;\n",
              "    fill: var(--fill-color);\n",
              "    height: 32px;\n",
              "    padding: 0;\n",
              "    width: 32px;\n",
              "  }\n",
              "\n",
              "  .colab-df-quickchart:hover {\n",
              "    background-color: var(--hover-bg-color);\n",
              "    box-shadow: 0 1px 2px rgba(60, 64, 67, 0.3), 0 1px 3px 1px rgba(60, 64, 67, 0.15);\n",
              "    fill: var(--button-hover-fill-color);\n",
              "  }\n",
              "\n",
              "  .colab-df-quickchart-complete:disabled,\n",
              "  .colab-df-quickchart-complete:disabled:hover {\n",
              "    background-color: var(--disabled-bg-color);\n",
              "    fill: var(--disabled-fill-color);\n",
              "    box-shadow: none;\n",
              "  }\n",
              "\n",
              "  .colab-df-spinner {\n",
              "    border: 2px solid var(--fill-color);\n",
              "    border-color: transparent;\n",
              "    border-bottom-color: var(--fill-color);\n",
              "    animation:\n",
              "      spin 1s steps(1) infinite;\n",
              "  }\n",
              "\n",
              "  @keyframes spin {\n",
              "    0% {\n",
              "      border-color: transparent;\n",
              "      border-bottom-color: var(--fill-color);\n",
              "      border-left-color: var(--fill-color);\n",
              "    }\n",
              "    20% {\n",
              "      border-color: transparent;\n",
              "      border-left-color: var(--fill-color);\n",
              "      border-top-color: var(--fill-color);\n",
              "    }\n",
              "    30% {\n",
              "      border-color: transparent;\n",
              "      border-left-color: var(--fill-color);\n",
              "      border-top-color: var(--fill-color);\n",
              "      border-right-color: var(--fill-color);\n",
              "    }\n",
              "    40% {\n",
              "      border-color: transparent;\n",
              "      border-right-color: var(--fill-color);\n",
              "      border-top-color: var(--fill-color);\n",
              "    }\n",
              "    60% {\n",
              "      border-color: transparent;\n",
              "      border-right-color: var(--fill-color);\n",
              "    }\n",
              "    80% {\n",
              "      border-color: transparent;\n",
              "      border-right-color: var(--fill-color);\n",
              "      border-bottom-color: var(--fill-color);\n",
              "    }\n",
              "    90% {\n",
              "      border-color: transparent;\n",
              "      border-bottom-color: var(--fill-color);\n",
              "    }\n",
              "  }\n",
              "</style>\n",
              "\n",
              "  <script>\n",
              "    async function quickchart(key) {\n",
              "      const quickchartButtonEl =\n",
              "        document.querySelector('#' + key + ' button');\n",
              "      quickchartButtonEl.disabled = true;  // To prevent multiple clicks.\n",
              "      quickchartButtonEl.classList.add('colab-df-spinner');\n",
              "      try {\n",
              "        const charts = await google.colab.kernel.invokeFunction(\n",
              "            'suggestCharts', [key], {});\n",
              "      } catch (error) {\n",
              "        console.error('Error during call to suggestCharts:', error);\n",
              "      }\n",
              "      quickchartButtonEl.classList.remove('colab-df-spinner');\n",
              "      quickchartButtonEl.classList.add('colab-df-quickchart-complete');\n",
              "    }\n",
              "    (() => {\n",
              "      let quickchartButtonEl =\n",
              "        document.querySelector('#df-717d31af-daad-48bf-ad4a-9fdc524425fb button');\n",
              "      quickchartButtonEl.style.display =\n",
              "        google.colab.kernel.accessAllowed ? 'block' : 'none';\n",
              "    })();\n",
              "  </script>\n",
              "</div>\n",
              "\n",
              "    </div>\n",
              "  </div>\n"
            ],
            "application/vnd.google.colaboratory.intrinsic+json": {
              "type": "dataframe",
              "variable_name": "train",
              "summary": "{\n  \"name\": \"train\",\n  \"rows\": 40000,\n  \"fields\": [\n    {\n      \"column\": \"Text\",\n      \"properties\": {\n        \"dtype\": \"string\",\n        \"num_unique_values\": 39719,\n        \"samples\": [\n          \"movie night crossing capture feeling experienced vast majority east german period 196189 lived west berlin 1967 travelled wall east berlin weekly basis excitement crossing border soviet governed country experiencing smell feel east germany is night crossing is excellent capture feeling is exciting wa arrested vopos checkpoint charlie accosted man leather coat dark glass led believe wa stasi watch movie smell cheap diesel cooking oil see outdated vehicle drab clothing public wore lacklustre produce shop window brings back memory realising lucky wa live free country 1988 toured ddr east west north south east germany changed little since 1967 trabants constantly breaking still main mode private motorised transport shop still featured nothing much tempt uniform still commonplace people ordinary people open nice gained trust watch night crossing is close truth movie will see divided germany even closer two favourite spy came cold funeral berlin\",\n          \"two quarter hour is sometimes slow moving thoughtful film interrupted vast sword battle battle darkness light is signified constant motif blazing sun is superbly demonstrated three way fight demon bandit soldier forest eclipsebr prepared following stunning sword fight lightning filled sky end picture will have scratching head puzzlement\",\n          \"commercial rat race made look juvenile enjoy since boyfriend adores movie soundtrack finally relented watched tonight make watch david lynch film sort obscure indie stuff recently forced urbania felt owed innocuous hollywood productbr did want hurt feeling saved bitching yalls yeah rat race moment great deal irritated let u start beginning rat race wa marketed family film wa little surprised discover first scene centered around porno movie hear mommy doe afro whore mean scene purpose movie cram naughtiness pg13 moviebr are still segment casino is pretty convenient character happened play within time frame slot held gold coin would have happened did would millionaire gambler sit around wait did get gold coin slot first placebr belaboring plot point is necessary movie exist will press whoopi longlost daughter are meeting first time yet throughout whole ordeal discus anything make relationship presumably complicated one could have say mother daughter vacation together business concerning longago adoption portray daughter hard driving career woman chained cell phone never need contact business did screenplay forget subplot character traitbr illustrates main weakness movie character are inconsistent interchangeable is exhausting everyone is equally zany identifying trait another thing event are plausible oh sure character quirky thing character have believable take naked gun another jerry zucker movie example frank drebin pretty exaggerated moment everything doe is theory possible world jane is also funny is different kind funny make difference character rat race defying natural law leaping onto speeding train destroys plausibility movie may have clearly are real people should care thembr another problem have rat race is moral one character obtain mode transport almost totally theft know know is silly comedy action did bother fifteen year ago saw million dollar mystery is lot lawbreaking rat race bother will delve whole airportsabotage sequence wonder screenwriter did consider reallife implication action wa scene funny 911br will skip distasteful bit concerning heart drugging one family nazi whose buildup payoff worked better episode seinfeld move complain acting rowan atkinson started annoying ended insufferable know liked comical character le three oscar winner need new agent whoopi came best did have much work loved copper perm purple lipstick though kathy bates part wa shrill mercifully brief cuba wasoh man cuba babe please fire agent following instinct chill factor is third strike glad have seen pearl harbor snow dog is time give 97 best supporting actor oscar back rightful owner edward norton primal fear actor stature business running halfnaked desert checked transvestite lucille ball impersonator even read script movie anymore are reaching bag pulling next project randombr is small point bother did grisham hooker get loot fast basically rat race amount little basic batch character type hindered arbitrary obstacle way rather underwhelming inexplicable ending give money charity kind ending is yeah is noble thing never mind probability crosspromotionlicensing whore smash mouth ever say selling putting benefit concert middle new mexico desert would honestly thing yes say is journey destination make trip worthwhile is journey without destination wa ever example wrong happy ending would bummer end movie despite nitpicking did enjoy part confess enjoying bit cow lucy stuff along character tongue piercing first thought indecipherable speech would run wall grew favoritebr far boyfriend know found rat race quite funny charmingbr\"\n        ],\n        \"semantic_type\": \"\",\n        \"description\": \"\"\n      }\n    },\n    {\n      \"column\": \"Sentiment\",\n      \"properties\": {\n        \"dtype\": \"number\",\n        \"std\": 0,\n        \"min\": 0,\n        \"max\": 1,\n        \"num_unique_values\": 2,\n        \"samples\": [\n          1,\n          0\n        ],\n        \"semantic_type\": \"\",\n        \"description\": \"\"\n      }\n    }\n  ]\n}"
            }
          },
          "metadata": {},
          "execution_count": 38
        }
      ]
    },
    {
      "cell_type": "code",
      "source": [
        "trial_train = train.copy()\n",
        "trial_train.head()"
      ],
      "metadata": {
        "colab": {
          "base_uri": "https://localhost:8080/",
          "height": 206
        },
        "id": "RAkivcI0sgu9",
        "outputId": "c49308cd-8f6b-4227-ae0b-664cba1308fd"
      },
      "execution_count": 39,
      "outputs": [
        {
          "output_type": "execute_result",
          "data": {
            "text/plain": [
              "                                                Text  Sentiment\n",
              "0  watched 34 movie wondered got horrible review ...          0\n",
              "1  have never understood appeal garbo always come...          0\n",
              "2  nacho vigalondo is famous spain is kind bad sh...          0\n",
              "3  eric idle robbie coltraine janet suzman should...          0\n",
              "4  great storyline message joan plowright is supe...          1"
            ],
            "text/html": [
              "\n",
              "  <div id=\"df-f2587dbb-2254-4952-8f8f-e1d3736165c6\" class=\"colab-df-container\">\n",
              "    <div>\n",
              "<style scoped>\n",
              "    .dataframe tbody tr th:only-of-type {\n",
              "        vertical-align: middle;\n",
              "    }\n",
              "\n",
              "    .dataframe tbody tr th {\n",
              "        vertical-align: top;\n",
              "    }\n",
              "\n",
              "    .dataframe thead th {\n",
              "        text-align: right;\n",
              "    }\n",
              "</style>\n",
              "<table border=\"1\" class=\"dataframe\">\n",
              "  <thead>\n",
              "    <tr style=\"text-align: right;\">\n",
              "      <th></th>\n",
              "      <th>Text</th>\n",
              "      <th>Sentiment</th>\n",
              "    </tr>\n",
              "  </thead>\n",
              "  <tbody>\n",
              "    <tr>\n",
              "      <th>0</th>\n",
              "      <td>watched 34 movie wondered got horrible review ...</td>\n",
              "      <td>0</td>\n",
              "    </tr>\n",
              "    <tr>\n",
              "      <th>1</th>\n",
              "      <td>have never understood appeal garbo always come...</td>\n",
              "      <td>0</td>\n",
              "    </tr>\n",
              "    <tr>\n",
              "      <th>2</th>\n",
              "      <td>nacho vigalondo is famous spain is kind bad sh...</td>\n",
              "      <td>0</td>\n",
              "    </tr>\n",
              "    <tr>\n",
              "      <th>3</th>\n",
              "      <td>eric idle robbie coltraine janet suzman should...</td>\n",
              "      <td>0</td>\n",
              "    </tr>\n",
              "    <tr>\n",
              "      <th>4</th>\n",
              "      <td>great storyline message joan plowright is supe...</td>\n",
              "      <td>1</td>\n",
              "    </tr>\n",
              "  </tbody>\n",
              "</table>\n",
              "</div>\n",
              "    <div class=\"colab-df-buttons\">\n",
              "\n",
              "  <div class=\"colab-df-container\">\n",
              "    <button class=\"colab-df-convert\" onclick=\"convertToInteractive('df-f2587dbb-2254-4952-8f8f-e1d3736165c6')\"\n",
              "            title=\"Convert this dataframe to an interactive table.\"\n",
              "            style=\"display:none;\">\n",
              "\n",
              "  <svg xmlns=\"http://www.w3.org/2000/svg\" height=\"24px\" viewBox=\"0 -960 960 960\">\n",
              "    <path d=\"M120-120v-720h720v720H120Zm60-500h600v-160H180v160Zm220 220h160v-160H400v160Zm0 220h160v-160H400v160ZM180-400h160v-160H180v160Zm440 0h160v-160H620v160ZM180-180h160v-160H180v160Zm440 0h160v-160H620v160Z\"/>\n",
              "  </svg>\n",
              "    </button>\n",
              "\n",
              "  <style>\n",
              "    .colab-df-container {\n",
              "      display:flex;\n",
              "      gap: 12px;\n",
              "    }\n",
              "\n",
              "    .colab-df-convert {\n",
              "      background-color: #E8F0FE;\n",
              "      border: none;\n",
              "      border-radius: 50%;\n",
              "      cursor: pointer;\n",
              "      display: none;\n",
              "      fill: #1967D2;\n",
              "      height: 32px;\n",
              "      padding: 0 0 0 0;\n",
              "      width: 32px;\n",
              "    }\n",
              "\n",
              "    .colab-df-convert:hover {\n",
              "      background-color: #E2EBFA;\n",
              "      box-shadow: 0px 1px 2px rgba(60, 64, 67, 0.3), 0px 1px 3px 1px rgba(60, 64, 67, 0.15);\n",
              "      fill: #174EA6;\n",
              "    }\n",
              "\n",
              "    .colab-df-buttons div {\n",
              "      margin-bottom: 4px;\n",
              "    }\n",
              "\n",
              "    [theme=dark] .colab-df-convert {\n",
              "      background-color: #3B4455;\n",
              "      fill: #D2E3FC;\n",
              "    }\n",
              "\n",
              "    [theme=dark] .colab-df-convert:hover {\n",
              "      background-color: #434B5C;\n",
              "      box-shadow: 0px 1px 3px 1px rgba(0, 0, 0, 0.15);\n",
              "      filter: drop-shadow(0px 1px 2px rgba(0, 0, 0, 0.3));\n",
              "      fill: #FFFFFF;\n",
              "    }\n",
              "  </style>\n",
              "\n",
              "    <script>\n",
              "      const buttonEl =\n",
              "        document.querySelector('#df-f2587dbb-2254-4952-8f8f-e1d3736165c6 button.colab-df-convert');\n",
              "      buttonEl.style.display =\n",
              "        google.colab.kernel.accessAllowed ? 'block' : 'none';\n",
              "\n",
              "      async function convertToInteractive(key) {\n",
              "        const element = document.querySelector('#df-f2587dbb-2254-4952-8f8f-e1d3736165c6');\n",
              "        const dataTable =\n",
              "          await google.colab.kernel.invokeFunction('convertToInteractive',\n",
              "                                                    [key], {});\n",
              "        if (!dataTable) return;\n",
              "\n",
              "        const docLinkHtml = 'Like what you see? Visit the ' +\n",
              "          '<a target=\"_blank\" href=https://colab.research.google.com/notebooks/data_table.ipynb>data table notebook</a>'\n",
              "          + ' to learn more about interactive tables.';\n",
              "        element.innerHTML = '';\n",
              "        dataTable['output_type'] = 'display_data';\n",
              "        await google.colab.output.renderOutput(dataTable, element);\n",
              "        const docLink = document.createElement('div');\n",
              "        docLink.innerHTML = docLinkHtml;\n",
              "        element.appendChild(docLink);\n",
              "      }\n",
              "    </script>\n",
              "  </div>\n",
              "\n",
              "\n",
              "<div id=\"df-d4f61395-f9e6-4f79-b513-ab47995b1156\">\n",
              "  <button class=\"colab-df-quickchart\" onclick=\"quickchart('df-d4f61395-f9e6-4f79-b513-ab47995b1156')\"\n",
              "            title=\"Suggest charts\"\n",
              "            style=\"display:none;\">\n",
              "\n",
              "<svg xmlns=\"http://www.w3.org/2000/svg\" height=\"24px\"viewBox=\"0 0 24 24\"\n",
              "     width=\"24px\">\n",
              "    <g>\n",
              "        <path d=\"M19 3H5c-1.1 0-2 .9-2 2v14c0 1.1.9 2 2 2h14c1.1 0 2-.9 2-2V5c0-1.1-.9-2-2-2zM9 17H7v-7h2v7zm4 0h-2V7h2v10zm4 0h-2v-4h2v4z\"/>\n",
              "    </g>\n",
              "</svg>\n",
              "  </button>\n",
              "\n",
              "<style>\n",
              "  .colab-df-quickchart {\n",
              "      --bg-color: #E8F0FE;\n",
              "      --fill-color: #1967D2;\n",
              "      --hover-bg-color: #E2EBFA;\n",
              "      --hover-fill-color: #174EA6;\n",
              "      --disabled-fill-color: #AAA;\n",
              "      --disabled-bg-color: #DDD;\n",
              "  }\n",
              "\n",
              "  [theme=dark] .colab-df-quickchart {\n",
              "      --bg-color: #3B4455;\n",
              "      --fill-color: #D2E3FC;\n",
              "      --hover-bg-color: #434B5C;\n",
              "      --hover-fill-color: #FFFFFF;\n",
              "      --disabled-bg-color: #3B4455;\n",
              "      --disabled-fill-color: #666;\n",
              "  }\n",
              "\n",
              "  .colab-df-quickchart {\n",
              "    background-color: var(--bg-color);\n",
              "    border: none;\n",
              "    border-radius: 50%;\n",
              "    cursor: pointer;\n",
              "    display: none;\n",
              "    fill: var(--fill-color);\n",
              "    height: 32px;\n",
              "    padding: 0;\n",
              "    width: 32px;\n",
              "  }\n",
              "\n",
              "  .colab-df-quickchart:hover {\n",
              "    background-color: var(--hover-bg-color);\n",
              "    box-shadow: 0 1px 2px rgba(60, 64, 67, 0.3), 0 1px 3px 1px rgba(60, 64, 67, 0.15);\n",
              "    fill: var(--button-hover-fill-color);\n",
              "  }\n",
              "\n",
              "  .colab-df-quickchart-complete:disabled,\n",
              "  .colab-df-quickchart-complete:disabled:hover {\n",
              "    background-color: var(--disabled-bg-color);\n",
              "    fill: var(--disabled-fill-color);\n",
              "    box-shadow: none;\n",
              "  }\n",
              "\n",
              "  .colab-df-spinner {\n",
              "    border: 2px solid var(--fill-color);\n",
              "    border-color: transparent;\n",
              "    border-bottom-color: var(--fill-color);\n",
              "    animation:\n",
              "      spin 1s steps(1) infinite;\n",
              "  }\n",
              "\n",
              "  @keyframes spin {\n",
              "    0% {\n",
              "      border-color: transparent;\n",
              "      border-bottom-color: var(--fill-color);\n",
              "      border-left-color: var(--fill-color);\n",
              "    }\n",
              "    20% {\n",
              "      border-color: transparent;\n",
              "      border-left-color: var(--fill-color);\n",
              "      border-top-color: var(--fill-color);\n",
              "    }\n",
              "    30% {\n",
              "      border-color: transparent;\n",
              "      border-left-color: var(--fill-color);\n",
              "      border-top-color: var(--fill-color);\n",
              "      border-right-color: var(--fill-color);\n",
              "    }\n",
              "    40% {\n",
              "      border-color: transparent;\n",
              "      border-right-color: var(--fill-color);\n",
              "      border-top-color: var(--fill-color);\n",
              "    }\n",
              "    60% {\n",
              "      border-color: transparent;\n",
              "      border-right-color: var(--fill-color);\n",
              "    }\n",
              "    80% {\n",
              "      border-color: transparent;\n",
              "      border-right-color: var(--fill-color);\n",
              "      border-bottom-color: var(--fill-color);\n",
              "    }\n",
              "    90% {\n",
              "      border-color: transparent;\n",
              "      border-bottom-color: var(--fill-color);\n",
              "    }\n",
              "  }\n",
              "</style>\n",
              "\n",
              "  <script>\n",
              "    async function quickchart(key) {\n",
              "      const quickchartButtonEl =\n",
              "        document.querySelector('#' + key + ' button');\n",
              "      quickchartButtonEl.disabled = true;  // To prevent multiple clicks.\n",
              "      quickchartButtonEl.classList.add('colab-df-spinner');\n",
              "      try {\n",
              "        const charts = await google.colab.kernel.invokeFunction(\n",
              "            'suggestCharts', [key], {});\n",
              "      } catch (error) {\n",
              "        console.error('Error during call to suggestCharts:', error);\n",
              "      }\n",
              "      quickchartButtonEl.classList.remove('colab-df-spinner');\n",
              "      quickchartButtonEl.classList.add('colab-df-quickchart-complete');\n",
              "    }\n",
              "    (() => {\n",
              "      let quickchartButtonEl =\n",
              "        document.querySelector('#df-d4f61395-f9e6-4f79-b513-ab47995b1156 button');\n",
              "      quickchartButtonEl.style.display =\n",
              "        google.colab.kernel.accessAllowed ? 'block' : 'none';\n",
              "    })();\n",
              "  </script>\n",
              "</div>\n",
              "\n",
              "    </div>\n",
              "  </div>\n"
            ],
            "application/vnd.google.colaboratory.intrinsic+json": {
              "type": "dataframe",
              "variable_name": "trial_train",
              "summary": "{\n  \"name\": \"trial_train\",\n  \"rows\": 40000,\n  \"fields\": [\n    {\n      \"column\": \"Text\",\n      \"properties\": {\n        \"dtype\": \"string\",\n        \"num_unique_values\": 39719,\n        \"samples\": [\n          \"movie night crossing capture feeling experienced vast majority east german period 196189 lived west berlin 1967 travelled wall east berlin weekly basis excitement crossing border soviet governed country experiencing smell feel east germany is night crossing is excellent capture feeling is exciting wa arrested vopos checkpoint charlie accosted man leather coat dark glass led believe wa stasi watch movie smell cheap diesel cooking oil see outdated vehicle drab clothing public wore lacklustre produce shop window brings back memory realising lucky wa live free country 1988 toured ddr east west north south east germany changed little since 1967 trabants constantly breaking still main mode private motorised transport shop still featured nothing much tempt uniform still commonplace people ordinary people open nice gained trust watch night crossing is close truth movie will see divided germany even closer two favourite spy came cold funeral berlin\",\n          \"two quarter hour is sometimes slow moving thoughtful film interrupted vast sword battle battle darkness light is signified constant motif blazing sun is superbly demonstrated three way fight demon bandit soldier forest eclipsebr prepared following stunning sword fight lightning filled sky end picture will have scratching head puzzlement\",\n          \"commercial rat race made look juvenile enjoy since boyfriend adores movie soundtrack finally relented watched tonight make watch david lynch film sort obscure indie stuff recently forced urbania felt owed innocuous hollywood productbr did want hurt feeling saved bitching yalls yeah rat race moment great deal irritated let u start beginning rat race wa marketed family film wa little surprised discover first scene centered around porno movie hear mommy doe afro whore mean scene purpose movie cram naughtiness pg13 moviebr are still segment casino is pretty convenient character happened play within time frame slot held gold coin would have happened did would millionaire gambler sit around wait did get gold coin slot first placebr belaboring plot point is necessary movie exist will press whoopi longlost daughter are meeting first time yet throughout whole ordeal discus anything make relationship presumably complicated one could have say mother daughter vacation together business concerning longago adoption portray daughter hard driving career woman chained cell phone never need contact business did screenplay forget subplot character traitbr illustrates main weakness movie character are inconsistent interchangeable is exhausting everyone is equally zany identifying trait another thing event are plausible oh sure character quirky thing character have believable take naked gun another jerry zucker movie example frank drebin pretty exaggerated moment everything doe is theory possible world jane is also funny is different kind funny make difference character rat race defying natural law leaping onto speeding train destroys plausibility movie may have clearly are real people should care thembr another problem have rat race is moral one character obtain mode transport almost totally theft know know is silly comedy action did bother fifteen year ago saw million dollar mystery is lot lawbreaking rat race bother will delve whole airportsabotage sequence wonder screenwriter did consider reallife implication action wa scene funny 911br will skip distasteful bit concerning heart drugging one family nazi whose buildup payoff worked better episode seinfeld move complain acting rowan atkinson started annoying ended insufferable know liked comical character le three oscar winner need new agent whoopi came best did have much work loved copper perm purple lipstick though kathy bates part wa shrill mercifully brief cuba wasoh man cuba babe please fire agent following instinct chill factor is third strike glad have seen pearl harbor snow dog is time give 97 best supporting actor oscar back rightful owner edward norton primal fear actor stature business running halfnaked desert checked transvestite lucille ball impersonator even read script movie anymore are reaching bag pulling next project randombr is small point bother did grisham hooker get loot fast basically rat race amount little basic batch character type hindered arbitrary obstacle way rather underwhelming inexplicable ending give money charity kind ending is yeah is noble thing never mind probability crosspromotionlicensing whore smash mouth ever say selling putting benefit concert middle new mexico desert would honestly thing yes say is journey destination make trip worthwhile is journey without destination wa ever example wrong happy ending would bummer end movie despite nitpicking did enjoy part confess enjoying bit cow lucy stuff along character tongue piercing first thought indecipherable speech would run wall grew favoritebr far boyfriend know found rat race quite funny charmingbr\"\n        ],\n        \"semantic_type\": \"\",\n        \"description\": \"\"\n      }\n    },\n    {\n      \"column\": \"Sentiment\",\n      \"properties\": {\n        \"dtype\": \"number\",\n        \"std\": 0,\n        \"min\": 0,\n        \"max\": 1,\n        \"num_unique_values\": 2,\n        \"samples\": [\n          1,\n          0\n        ],\n        \"semantic_type\": \"\",\n        \"description\": \"\"\n      }\n    }\n  ]\n}"
            }
          },
          "metadata": {},
          "execution_count": 39
        }
      ]
    },
    {
      "cell_type": "code",
      "source": [
        "class2_X_train = trial_train['Text']\n",
        "class2_y_train = trial_train['Sentiment']"
      ],
      "metadata": {
        "id": "PSwJtDopslYF"
      },
      "execution_count": 40,
      "outputs": []
    },
    {
      "cell_type": "code",
      "source": [
        "trial_test = test.copy()\n",
        "trial_test.head()"
      ],
      "metadata": {
        "colab": {
          "base_uri": "https://localhost:8080/",
          "height": 206
        },
        "id": "iKG9KW3RsmtE",
        "outputId": "2cea5ac6-ec5c-42e5-8262-076e06a5ea41"
      },
      "execution_count": 41,
      "outputs": [
        {
          "output_type": "execute_result",
          "data": {
            "text/plain": [
              "                                                Text  Sentiment\n",
              "0  others have already commented decline director...          0\n",
              "1  play is cleverly constructed begin porter rain...          1\n",
              "2  gettin sick movie sound entertaining oneline s...          0\n",
              "3  ruin will brief is great acting funny line att...          1\n",
              "4  knew would gave rent laugh maybe mindless fun ...          0"
            ],
            "text/html": [
              "\n",
              "  <div id=\"df-5152a894-7ad5-47ae-aab7-3234eaed5dc5\" class=\"colab-df-container\">\n",
              "    <div>\n",
              "<style scoped>\n",
              "    .dataframe tbody tr th:only-of-type {\n",
              "        vertical-align: middle;\n",
              "    }\n",
              "\n",
              "    .dataframe tbody tr th {\n",
              "        vertical-align: top;\n",
              "    }\n",
              "\n",
              "    .dataframe thead th {\n",
              "        text-align: right;\n",
              "    }\n",
              "</style>\n",
              "<table border=\"1\" class=\"dataframe\">\n",
              "  <thead>\n",
              "    <tr style=\"text-align: right;\">\n",
              "      <th></th>\n",
              "      <th>Text</th>\n",
              "      <th>Sentiment</th>\n",
              "    </tr>\n",
              "  </thead>\n",
              "  <tbody>\n",
              "    <tr>\n",
              "      <th>0</th>\n",
              "      <td>others have already commented decline director...</td>\n",
              "      <td>0</td>\n",
              "    </tr>\n",
              "    <tr>\n",
              "      <th>1</th>\n",
              "      <td>play is cleverly constructed begin porter rain...</td>\n",
              "      <td>1</td>\n",
              "    </tr>\n",
              "    <tr>\n",
              "      <th>2</th>\n",
              "      <td>gettin sick movie sound entertaining oneline s...</td>\n",
              "      <td>0</td>\n",
              "    </tr>\n",
              "    <tr>\n",
              "      <th>3</th>\n",
              "      <td>ruin will brief is great acting funny line att...</td>\n",
              "      <td>1</td>\n",
              "    </tr>\n",
              "    <tr>\n",
              "      <th>4</th>\n",
              "      <td>knew would gave rent laugh maybe mindless fun ...</td>\n",
              "      <td>0</td>\n",
              "    </tr>\n",
              "  </tbody>\n",
              "</table>\n",
              "</div>\n",
              "    <div class=\"colab-df-buttons\">\n",
              "\n",
              "  <div class=\"colab-df-container\">\n",
              "    <button class=\"colab-df-convert\" onclick=\"convertToInteractive('df-5152a894-7ad5-47ae-aab7-3234eaed5dc5')\"\n",
              "            title=\"Convert this dataframe to an interactive table.\"\n",
              "            style=\"display:none;\">\n",
              "\n",
              "  <svg xmlns=\"http://www.w3.org/2000/svg\" height=\"24px\" viewBox=\"0 -960 960 960\">\n",
              "    <path d=\"M120-120v-720h720v720H120Zm60-500h600v-160H180v160Zm220 220h160v-160H400v160Zm0 220h160v-160H400v160ZM180-400h160v-160H180v160Zm440 0h160v-160H620v160ZM180-180h160v-160H180v160Zm440 0h160v-160H620v160Z\"/>\n",
              "  </svg>\n",
              "    </button>\n",
              "\n",
              "  <style>\n",
              "    .colab-df-container {\n",
              "      display:flex;\n",
              "      gap: 12px;\n",
              "    }\n",
              "\n",
              "    .colab-df-convert {\n",
              "      background-color: #E8F0FE;\n",
              "      border: none;\n",
              "      border-radius: 50%;\n",
              "      cursor: pointer;\n",
              "      display: none;\n",
              "      fill: #1967D2;\n",
              "      height: 32px;\n",
              "      padding: 0 0 0 0;\n",
              "      width: 32px;\n",
              "    }\n",
              "\n",
              "    .colab-df-convert:hover {\n",
              "      background-color: #E2EBFA;\n",
              "      box-shadow: 0px 1px 2px rgba(60, 64, 67, 0.3), 0px 1px 3px 1px rgba(60, 64, 67, 0.15);\n",
              "      fill: #174EA6;\n",
              "    }\n",
              "\n",
              "    .colab-df-buttons div {\n",
              "      margin-bottom: 4px;\n",
              "    }\n",
              "\n",
              "    [theme=dark] .colab-df-convert {\n",
              "      background-color: #3B4455;\n",
              "      fill: #D2E3FC;\n",
              "    }\n",
              "\n",
              "    [theme=dark] .colab-df-convert:hover {\n",
              "      background-color: #434B5C;\n",
              "      box-shadow: 0px 1px 3px 1px rgba(0, 0, 0, 0.15);\n",
              "      filter: drop-shadow(0px 1px 2px rgba(0, 0, 0, 0.3));\n",
              "      fill: #FFFFFF;\n",
              "    }\n",
              "  </style>\n",
              "\n",
              "    <script>\n",
              "      const buttonEl =\n",
              "        document.querySelector('#df-5152a894-7ad5-47ae-aab7-3234eaed5dc5 button.colab-df-convert');\n",
              "      buttonEl.style.display =\n",
              "        google.colab.kernel.accessAllowed ? 'block' : 'none';\n",
              "\n",
              "      async function convertToInteractive(key) {\n",
              "        const element = document.querySelector('#df-5152a894-7ad5-47ae-aab7-3234eaed5dc5');\n",
              "        const dataTable =\n",
              "          await google.colab.kernel.invokeFunction('convertToInteractive',\n",
              "                                                    [key], {});\n",
              "        if (!dataTable) return;\n",
              "\n",
              "        const docLinkHtml = 'Like what you see? Visit the ' +\n",
              "          '<a target=\"_blank\" href=https://colab.research.google.com/notebooks/data_table.ipynb>data table notebook</a>'\n",
              "          + ' to learn more about interactive tables.';\n",
              "        element.innerHTML = '';\n",
              "        dataTable['output_type'] = 'display_data';\n",
              "        await google.colab.output.renderOutput(dataTable, element);\n",
              "        const docLink = document.createElement('div');\n",
              "        docLink.innerHTML = docLinkHtml;\n",
              "        element.appendChild(docLink);\n",
              "      }\n",
              "    </script>\n",
              "  </div>\n",
              "\n",
              "\n",
              "<div id=\"df-cd7db01f-3918-46c7-b8e1-deb991370b5c\">\n",
              "  <button class=\"colab-df-quickchart\" onclick=\"quickchart('df-cd7db01f-3918-46c7-b8e1-deb991370b5c')\"\n",
              "            title=\"Suggest charts\"\n",
              "            style=\"display:none;\">\n",
              "\n",
              "<svg xmlns=\"http://www.w3.org/2000/svg\" height=\"24px\"viewBox=\"0 0 24 24\"\n",
              "     width=\"24px\">\n",
              "    <g>\n",
              "        <path d=\"M19 3H5c-1.1 0-2 .9-2 2v14c0 1.1.9 2 2 2h14c1.1 0 2-.9 2-2V5c0-1.1-.9-2-2-2zM9 17H7v-7h2v7zm4 0h-2V7h2v10zm4 0h-2v-4h2v4z\"/>\n",
              "    </g>\n",
              "</svg>\n",
              "  </button>\n",
              "\n",
              "<style>\n",
              "  .colab-df-quickchart {\n",
              "      --bg-color: #E8F0FE;\n",
              "      --fill-color: #1967D2;\n",
              "      --hover-bg-color: #E2EBFA;\n",
              "      --hover-fill-color: #174EA6;\n",
              "      --disabled-fill-color: #AAA;\n",
              "      --disabled-bg-color: #DDD;\n",
              "  }\n",
              "\n",
              "  [theme=dark] .colab-df-quickchart {\n",
              "      --bg-color: #3B4455;\n",
              "      --fill-color: #D2E3FC;\n",
              "      --hover-bg-color: #434B5C;\n",
              "      --hover-fill-color: #FFFFFF;\n",
              "      --disabled-bg-color: #3B4455;\n",
              "      --disabled-fill-color: #666;\n",
              "  }\n",
              "\n",
              "  .colab-df-quickchart {\n",
              "    background-color: var(--bg-color);\n",
              "    border: none;\n",
              "    border-radius: 50%;\n",
              "    cursor: pointer;\n",
              "    display: none;\n",
              "    fill: var(--fill-color);\n",
              "    height: 32px;\n",
              "    padding: 0;\n",
              "    width: 32px;\n",
              "  }\n",
              "\n",
              "  .colab-df-quickchart:hover {\n",
              "    background-color: var(--hover-bg-color);\n",
              "    box-shadow: 0 1px 2px rgba(60, 64, 67, 0.3), 0 1px 3px 1px rgba(60, 64, 67, 0.15);\n",
              "    fill: var(--button-hover-fill-color);\n",
              "  }\n",
              "\n",
              "  .colab-df-quickchart-complete:disabled,\n",
              "  .colab-df-quickchart-complete:disabled:hover {\n",
              "    background-color: var(--disabled-bg-color);\n",
              "    fill: var(--disabled-fill-color);\n",
              "    box-shadow: none;\n",
              "  }\n",
              "\n",
              "  .colab-df-spinner {\n",
              "    border: 2px solid var(--fill-color);\n",
              "    border-color: transparent;\n",
              "    border-bottom-color: var(--fill-color);\n",
              "    animation:\n",
              "      spin 1s steps(1) infinite;\n",
              "  }\n",
              "\n",
              "  @keyframes spin {\n",
              "    0% {\n",
              "      border-color: transparent;\n",
              "      border-bottom-color: var(--fill-color);\n",
              "      border-left-color: var(--fill-color);\n",
              "    }\n",
              "    20% {\n",
              "      border-color: transparent;\n",
              "      border-left-color: var(--fill-color);\n",
              "      border-top-color: var(--fill-color);\n",
              "    }\n",
              "    30% {\n",
              "      border-color: transparent;\n",
              "      border-left-color: var(--fill-color);\n",
              "      border-top-color: var(--fill-color);\n",
              "      border-right-color: var(--fill-color);\n",
              "    }\n",
              "    40% {\n",
              "      border-color: transparent;\n",
              "      border-right-color: var(--fill-color);\n",
              "      border-top-color: var(--fill-color);\n",
              "    }\n",
              "    60% {\n",
              "      border-color: transparent;\n",
              "      border-right-color: var(--fill-color);\n",
              "    }\n",
              "    80% {\n",
              "      border-color: transparent;\n",
              "      border-right-color: var(--fill-color);\n",
              "      border-bottom-color: var(--fill-color);\n",
              "    }\n",
              "    90% {\n",
              "      border-color: transparent;\n",
              "      border-bottom-color: var(--fill-color);\n",
              "    }\n",
              "  }\n",
              "</style>\n",
              "\n",
              "  <script>\n",
              "    async function quickchart(key) {\n",
              "      const quickchartButtonEl =\n",
              "        document.querySelector('#' + key + ' button');\n",
              "      quickchartButtonEl.disabled = true;  // To prevent multiple clicks.\n",
              "      quickchartButtonEl.classList.add('colab-df-spinner');\n",
              "      try {\n",
              "        const charts = await google.colab.kernel.invokeFunction(\n",
              "            'suggestCharts', [key], {});\n",
              "      } catch (error) {\n",
              "        console.error('Error during call to suggestCharts:', error);\n",
              "      }\n",
              "      quickchartButtonEl.classList.remove('colab-df-spinner');\n",
              "      quickchartButtonEl.classList.add('colab-df-quickchart-complete');\n",
              "    }\n",
              "    (() => {\n",
              "      let quickchartButtonEl =\n",
              "        document.querySelector('#df-cd7db01f-3918-46c7-b8e1-deb991370b5c button');\n",
              "      quickchartButtonEl.style.display =\n",
              "        google.colab.kernel.accessAllowed ? 'block' : 'none';\n",
              "    })();\n",
              "  </script>\n",
              "</div>\n",
              "\n",
              "    </div>\n",
              "  </div>\n"
            ],
            "application/vnd.google.colaboratory.intrinsic+json": {
              "type": "dataframe",
              "variable_name": "trial_test",
              "summary": "{\n  \"name\": \"trial_test\",\n  \"rows\": 9999,\n  \"fields\": [\n    {\n      \"column\": \"Text\",\n      \"properties\": {\n        \"dtype\": \"string\",\n        \"num_unique_values\": 9983,\n        \"samples\": [\n          \"is shame deliverance is mainly known redneck rape movie dueling banjo even people have seen film cannot get mind rape scene is bad rape scene pulp fiction is certainly bad female rape scene movie people tend miss power film contains infamous buggery scenebr acting plot cinematography soundtrack deliverance lend hand is brooding charisma backcountry wa shot is beautiful is quite contrast dark subject matter actor major minor make feel like are rafting river right along thing separate film others is tangible sense dread inspires many film make feel creeped bottom line movie is classic cannot really say much\",\n          \"wa meant comedy serious drama film start lighthearted banter three woman fine move conflict woman one meet man fine are antic fine plot thickens finally becomes black started wonder whether misinterpreted first part movie continues vein end try go back original lighthearted banter is late is hard see woman would still talking one another finale is unconvincing truly lesson british filmmaker anyway make film difficult see producer ever convinced film would work box office proved real flop would never heard film weekend four year release\",\n          \"wa good film did go high expectation wa pleasantly surprised acting script scenery miranda richardson wa fantastic wa joan plowright stole show actor played part wonderfully also enjoyable film\"\n        ],\n        \"semantic_type\": \"\",\n        \"description\": \"\"\n      }\n    },\n    {\n      \"column\": \"Sentiment\",\n      \"properties\": {\n        \"dtype\": \"number\",\n        \"std\": 0,\n        \"min\": 0,\n        \"max\": 1,\n        \"num_unique_values\": 2,\n        \"samples\": [\n          1,\n          0\n        ],\n        \"semantic_type\": \"\",\n        \"description\": \"\"\n      }\n    }\n  ]\n}"
            }
          },
          "metadata": {},
          "execution_count": 41
        }
      ]
    },
    {
      "cell_type": "code",
      "source": [
        "class2_X_test = trial_test['Text']\n",
        "class2_y_test = trial_test['Sentiment']"
      ],
      "metadata": {
        "id": "zJ37L122sqgN"
      },
      "execution_count": 42,
      "outputs": []
    },
    {
      "cell_type": "markdown",
      "source": [
        "# Vectorization"
      ],
      "metadata": {
        "id": "3updXoh6srgc"
      }
    },
    {
      "cell_type": "markdown",
      "source": [
        "BOW Vectorizer"
      ],
      "metadata": {
        "id": "gAsZGa2FsvjM"
      }
    },
    {
      "cell_type": "code",
      "source": [
        "bow_vectorizer = CountVectorizer()\n",
        "bow_vectorizer.fit(class2_X_train)\n",
        "\n",
        "class2_bow_X_train = bow_vectorizer.transform(class2_X_train)\n",
        "class2_bow_X_test = bow_vectorizer.transform(class2_X_test)"
      ],
      "metadata": {
        "id": "lzk1Z5yustaF"
      },
      "execution_count": 43,
      "outputs": []
    },
    {
      "cell_type": "markdown",
      "source": [
        "TF-IDF"
      ],
      "metadata": {
        "id": "tfc2F-dpsxEV"
      }
    },
    {
      "cell_type": "code",
      "source": [
        "tfidf_vectorizer = TfidfVectorizer()\n",
        "tfidf_vectorizer.fit(class2_X_train)\n",
        "\n",
        "class2_tfidf_X_train = tfidf_vectorizer.transform(class2_X_train)\n",
        "class2_tfidf_X_test = tfidf_vectorizer.transform(class2_X_test)"
      ],
      "metadata": {
        "id": "cI27sj8Qsyy1"
      },
      "execution_count": 44,
      "outputs": []
    },
    {
      "cell_type": "markdown",
      "source": [
        "# Tuning Naive Bayes with BOW"
      ],
      "metadata": {
        "id": "SysrZLqetKS0"
      }
    },
    {
      "cell_type": "code",
      "source": [
        "param_grid = {\n",
        "    'alpha': [0.0, 0.1, 0.2, 0.3, 0.4, 0.5, 0.6, 0.7, 0.8, 0.9, 1.0],\n",
        "    'force_alpha': [True, False],\n",
        "    'fit_prior': [True, False]\n",
        "}"
      ],
      "metadata": {
        "id": "N0bDF3V6tKB9"
      },
      "execution_count": 45,
      "outputs": []
    },
    {
      "cell_type": "code",
      "source": [
        "nb_model = MultinomialNB()\n",
        "clf = GridSearchCV(nb_model, param_grid=param_grid, cv=5, verbose=4, scoring='accuracy')"
      ],
      "metadata": {
        "id": "O66B6KmOuVkc"
      },
      "execution_count": 46,
      "outputs": []
    },
    {
      "cell_type": "code",
      "source": [
        "best_clf = clf.fit(class2_bow_X_train, class2_y_train)"
      ],
      "metadata": {
        "colab": {
          "base_uri": "https://localhost:8080/"
        },
        "id": "OkYsQ5E9upCF",
        "outputId": "501d4bd3-6dda-491a-c549-85d74c192e0d"
      },
      "execution_count": 47,
      "outputs": [
        {
          "output_type": "stream",
          "name": "stdout",
          "text": [
            "Fitting 5 folds for each of 44 candidates, totalling 220 fits\n",
            "[CV 1/5] END alpha=0.0, fit_prior=True, force_alpha=True;, score=0.579 total time=   0.1s\n"
          ]
        },
        {
          "output_type": "stream",
          "name": "stderr",
          "text": [
            "/usr/local/lib/python3.10/dist-packages/sklearn/naive_bayes.py:907: RuntimeWarning: divide by zero encountered in log\n",
            "  self.feature_log_prob_ = np.log(smoothed_fc) - np.log(\n",
            "/usr/local/lib/python3.10/dist-packages/sklearn/naive_bayes.py:907: RuntimeWarning: divide by zero encountered in log\n",
            "  self.feature_log_prob_ = np.log(smoothed_fc) - np.log(\n"
          ]
        },
        {
          "output_type": "stream",
          "name": "stdout",
          "text": [
            "[CV 2/5] END alpha=0.0, fit_prior=True, force_alpha=True;, score=0.582 total time=   0.1s\n",
            "[CV 3/5] END alpha=0.0, fit_prior=True, force_alpha=True;, score=0.582 total time=   0.1s\n"
          ]
        },
        {
          "output_type": "stream",
          "name": "stderr",
          "text": [
            "/usr/local/lib/python3.10/dist-packages/sklearn/naive_bayes.py:907: RuntimeWarning: divide by zero encountered in log\n",
            "  self.feature_log_prob_ = np.log(smoothed_fc) - np.log(\n",
            "/usr/local/lib/python3.10/dist-packages/sklearn/naive_bayes.py:907: RuntimeWarning: divide by zero encountered in log\n",
            "  self.feature_log_prob_ = np.log(smoothed_fc) - np.log(\n"
          ]
        },
        {
          "output_type": "stream",
          "name": "stdout",
          "text": [
            "[CV 4/5] END alpha=0.0, fit_prior=True, force_alpha=True;, score=0.577 total time=   0.1s\n",
            "[CV 5/5] END alpha=0.0, fit_prior=True, force_alpha=True;, score=0.582 total time=   0.1s\n",
            "[CV 1/5] END alpha=0.0, fit_prior=True, force_alpha=False;, score=0.788 total time=   0.1s\n"
          ]
        },
        {
          "output_type": "stream",
          "name": "stderr",
          "text": [
            "/usr/local/lib/python3.10/dist-packages/sklearn/naive_bayes.py:907: RuntimeWarning: divide by zero encountered in log\n",
            "  self.feature_log_prob_ = np.log(smoothed_fc) - np.log(\n",
            "/usr/local/lib/python3.10/dist-packages/sklearn/naive_bayes.py:635: UserWarning: alpha too small will result in numeric errors, setting alpha = 1.0e-10. Use `force_alpha=True` to keep alpha unchanged.\n",
            "  warnings.warn(\n",
            "/usr/local/lib/python3.10/dist-packages/sklearn/naive_bayes.py:635: UserWarning: alpha too small will result in numeric errors, setting alpha = 1.0e-10. Use `force_alpha=True` to keep alpha unchanged.\n",
            "  warnings.warn(\n"
          ]
        },
        {
          "output_type": "stream",
          "name": "stdout",
          "text": [
            "[CV 2/5] END alpha=0.0, fit_prior=True, force_alpha=False;, score=0.778 total time=   0.1s\n",
            "[CV 3/5] END alpha=0.0, fit_prior=True, force_alpha=False;, score=0.779 total time=   0.1s\n",
            "[CV 4/5] END alpha=0.0, fit_prior=True, force_alpha=False;, score=0.783 total time=   0.1s\n"
          ]
        },
        {
          "output_type": "stream",
          "name": "stderr",
          "text": [
            "/usr/local/lib/python3.10/dist-packages/sklearn/naive_bayes.py:635: UserWarning: alpha too small will result in numeric errors, setting alpha = 1.0e-10. Use `force_alpha=True` to keep alpha unchanged.\n",
            "  warnings.warn(\n",
            "/usr/local/lib/python3.10/dist-packages/sklearn/naive_bayes.py:635: UserWarning: alpha too small will result in numeric errors, setting alpha = 1.0e-10. Use `force_alpha=True` to keep alpha unchanged.\n",
            "  warnings.warn(\n",
            "/usr/local/lib/python3.10/dist-packages/sklearn/naive_bayes.py:635: UserWarning: alpha too small will result in numeric errors, setting alpha = 1.0e-10. Use `force_alpha=True` to keep alpha unchanged.\n",
            "  warnings.warn(\n"
          ]
        },
        {
          "output_type": "stream",
          "name": "stdout",
          "text": [
            "[CV 5/5] END alpha=0.0, fit_prior=True, force_alpha=False;, score=0.787 total time=   0.1s\n",
            "[CV 1/5] END alpha=0.0, fit_prior=False, force_alpha=True;, score=0.579 total time=   0.1s\n",
            "[CV 2/5] END alpha=0.0, fit_prior=False, force_alpha=True;, score=0.582 total time=   0.1s\n"
          ]
        },
        {
          "output_type": "stream",
          "name": "stderr",
          "text": [
            "/usr/local/lib/python3.10/dist-packages/sklearn/naive_bayes.py:907: RuntimeWarning: divide by zero encountered in log\n",
            "  self.feature_log_prob_ = np.log(smoothed_fc) - np.log(\n",
            "/usr/local/lib/python3.10/dist-packages/sklearn/naive_bayes.py:907: RuntimeWarning: divide by zero encountered in log\n",
            "  self.feature_log_prob_ = np.log(smoothed_fc) - np.log(\n",
            "/usr/local/lib/python3.10/dist-packages/sklearn/naive_bayes.py:907: RuntimeWarning: divide by zero encountered in log\n",
            "  self.feature_log_prob_ = np.log(smoothed_fc) - np.log(\n",
            "/usr/local/lib/python3.10/dist-packages/sklearn/naive_bayes.py:907: RuntimeWarning: divide by zero encountered in log\n",
            "  self.feature_log_prob_ = np.log(smoothed_fc) - np.log(\n",
            "/usr/local/lib/python3.10/dist-packages/sklearn/naive_bayes.py:907: RuntimeWarning: divide by zero encountered in log\n",
            "  self.feature_log_prob_ = np.log(smoothed_fc) - np.log(\n"
          ]
        },
        {
          "output_type": "stream",
          "name": "stdout",
          "text": [
            "[CV 3/5] END alpha=0.0, fit_prior=False, force_alpha=True;, score=0.582 total time=   0.1s\n",
            "[CV 4/5] END alpha=0.0, fit_prior=False, force_alpha=True;, score=0.577 total time=   0.1s\n",
            "[CV 5/5] END alpha=0.0, fit_prior=False, force_alpha=True;, score=0.582 total time=   0.1s\n",
            "[CV 1/5] END alpha=0.0, fit_prior=False, force_alpha=False;, score=0.788 total time=   0.1s\n",
            "[CV 2/5] END alpha=0.0, fit_prior=False, force_alpha=False;, score=0.778 total time=   0.1s\n"
          ]
        },
        {
          "output_type": "stream",
          "name": "stderr",
          "text": [
            "/usr/local/lib/python3.10/dist-packages/sklearn/naive_bayes.py:635: UserWarning: alpha too small will result in numeric errors, setting alpha = 1.0e-10. Use `force_alpha=True` to keep alpha unchanged.\n",
            "  warnings.warn(\n",
            "/usr/local/lib/python3.10/dist-packages/sklearn/naive_bayes.py:635: UserWarning: alpha too small will result in numeric errors, setting alpha = 1.0e-10. Use `force_alpha=True` to keep alpha unchanged.\n",
            "  warnings.warn(\n",
            "/usr/local/lib/python3.10/dist-packages/sklearn/naive_bayes.py:635: UserWarning: alpha too small will result in numeric errors, setting alpha = 1.0e-10. Use `force_alpha=True` to keep alpha unchanged.\n",
            "  warnings.warn(\n"
          ]
        },
        {
          "output_type": "stream",
          "name": "stdout",
          "text": [
            "[CV 3/5] END alpha=0.0, fit_prior=False, force_alpha=False;, score=0.779 total time=   0.1s\n",
            "[CV 4/5] END alpha=0.0, fit_prior=False, force_alpha=False;, score=0.783 total time=   0.1s\n",
            "[CV 5/5] END alpha=0.0, fit_prior=False, force_alpha=False;, score=0.787 total time=   0.1s\n"
          ]
        },
        {
          "output_type": "stream",
          "name": "stderr",
          "text": [
            "/usr/local/lib/python3.10/dist-packages/sklearn/naive_bayes.py:635: UserWarning: alpha too small will result in numeric errors, setting alpha = 1.0e-10. Use `force_alpha=True` to keep alpha unchanged.\n",
            "  warnings.warn(\n",
            "/usr/local/lib/python3.10/dist-packages/sklearn/naive_bayes.py:635: UserWarning: alpha too small will result in numeric errors, setting alpha = 1.0e-10. Use `force_alpha=True` to keep alpha unchanged.\n",
            "  warnings.warn(\n"
          ]
        },
        {
          "output_type": "stream",
          "name": "stdout",
          "text": [
            "[CV 1/5] END alpha=0.1, fit_prior=True, force_alpha=True;, score=0.859 total time=   0.1s\n",
            "[CV 2/5] END alpha=0.1, fit_prior=True, force_alpha=True;, score=0.853 total time=   0.1s\n",
            "[CV 3/5] END alpha=0.1, fit_prior=True, force_alpha=True;, score=0.855 total time=   0.1s\n",
            "[CV 4/5] END alpha=0.1, fit_prior=True, force_alpha=True;, score=0.857 total time=   0.1s\n",
            "[CV 5/5] END alpha=0.1, fit_prior=True, force_alpha=True;, score=0.859 total time=   0.1s\n",
            "[CV 1/5] END alpha=0.1, fit_prior=True, force_alpha=False;, score=0.859 total time=   0.1s\n",
            "[CV 2/5] END alpha=0.1, fit_prior=True, force_alpha=False;, score=0.853 total time=   0.1s\n",
            "[CV 3/5] END alpha=0.1, fit_prior=True, force_alpha=False;, score=0.855 total time=   0.1s\n",
            "[CV 4/5] END alpha=0.1, fit_prior=True, force_alpha=False;, score=0.857 total time=   0.1s\n",
            "[CV 5/5] END alpha=0.1, fit_prior=True, force_alpha=False;, score=0.859 total time=   0.1s\n",
            "[CV 1/5] END alpha=0.1, fit_prior=False, force_alpha=True;, score=0.859 total time=   0.1s\n",
            "[CV 2/5] END alpha=0.1, fit_prior=False, force_alpha=True;, score=0.853 total time=   0.1s\n",
            "[CV 3/5] END alpha=0.1, fit_prior=False, force_alpha=True;, score=0.855 total time=   0.1s\n",
            "[CV 4/5] END alpha=0.1, fit_prior=False, force_alpha=True;, score=0.857 total time=   0.1s\n",
            "[CV 5/5] END alpha=0.1, fit_prior=False, force_alpha=True;, score=0.859 total time=   0.1s\n",
            "[CV 1/5] END alpha=0.1, fit_prior=False, force_alpha=False;, score=0.859 total time=   0.1s\n",
            "[CV 2/5] END alpha=0.1, fit_prior=False, force_alpha=False;, score=0.853 total time=   0.1s\n",
            "[CV 3/5] END alpha=0.1, fit_prior=False, force_alpha=False;, score=0.855 total time=   0.1s\n",
            "[CV 4/5] END alpha=0.1, fit_prior=False, force_alpha=False;, score=0.857 total time=   0.1s\n",
            "[CV 5/5] END alpha=0.1, fit_prior=False, force_alpha=False;, score=0.859 total time=   0.1s\n",
            "[CV 1/5] END alpha=0.2, fit_prior=True, force_alpha=True;, score=0.862 total time=   0.1s\n",
            "[CV 2/5] END alpha=0.2, fit_prior=True, force_alpha=True;, score=0.854 total time=   0.1s\n",
            "[CV 3/5] END alpha=0.2, fit_prior=True, force_alpha=True;, score=0.856 total time=   0.1s\n",
            "[CV 4/5] END alpha=0.2, fit_prior=True, force_alpha=True;, score=0.858 total time=   0.1s\n",
            "[CV 5/5] END alpha=0.2, fit_prior=True, force_alpha=True;, score=0.862 total time=   0.1s\n",
            "[CV 1/5] END alpha=0.2, fit_prior=True, force_alpha=False;, score=0.862 total time=   0.1s\n",
            "[CV 2/5] END alpha=0.2, fit_prior=True, force_alpha=False;, score=0.854 total time=   0.1s\n",
            "[CV 3/5] END alpha=0.2, fit_prior=True, force_alpha=False;, score=0.856 total time=   0.1s\n",
            "[CV 4/5] END alpha=0.2, fit_prior=True, force_alpha=False;, score=0.858 total time=   0.1s\n",
            "[CV 5/5] END alpha=0.2, fit_prior=True, force_alpha=False;, score=0.862 total time=   0.1s\n",
            "[CV 1/5] END alpha=0.2, fit_prior=False, force_alpha=True;, score=0.862 total time=   0.1s\n",
            "[CV 2/5] END alpha=0.2, fit_prior=False, force_alpha=True;, score=0.854 total time=   0.1s\n",
            "[CV 3/5] END alpha=0.2, fit_prior=False, force_alpha=True;, score=0.856 total time=   0.1s\n",
            "[CV 4/5] END alpha=0.2, fit_prior=False, force_alpha=True;, score=0.858 total time=   0.1s\n",
            "[CV 5/5] END alpha=0.2, fit_prior=False, force_alpha=True;, score=0.862 total time=   0.1s\n",
            "[CV 1/5] END alpha=0.2, fit_prior=False, force_alpha=False;, score=0.862 total time=   0.1s\n",
            "[CV 2/5] END alpha=0.2, fit_prior=False, force_alpha=False;, score=0.854 total time=   0.1s\n",
            "[CV 3/5] END alpha=0.2, fit_prior=False, force_alpha=False;, score=0.856 total time=   0.2s\n",
            "[CV 4/5] END alpha=0.2, fit_prior=False, force_alpha=False;, score=0.858 total time=   0.2s\n",
            "[CV 5/5] END alpha=0.2, fit_prior=False, force_alpha=False;, score=0.862 total time=   0.1s\n",
            "[CV 1/5] END alpha=0.3, fit_prior=True, force_alpha=True;, score=0.863 total time=   0.1s\n",
            "[CV 2/5] END alpha=0.3, fit_prior=True, force_alpha=True;, score=0.856 total time=   0.1s\n",
            "[CV 3/5] END alpha=0.3, fit_prior=True, force_alpha=True;, score=0.856 total time=   0.1s\n",
            "[CV 4/5] END alpha=0.3, fit_prior=True, force_alpha=True;, score=0.858 total time=   0.1s\n",
            "[CV 5/5] END alpha=0.3, fit_prior=True, force_alpha=True;, score=0.863 total time=   0.1s\n",
            "[CV 1/5] END alpha=0.3, fit_prior=True, force_alpha=False;, score=0.863 total time=   0.1s\n",
            "[CV 2/5] END alpha=0.3, fit_prior=True, force_alpha=False;, score=0.856 total time=   0.1s\n",
            "[CV 3/5] END alpha=0.3, fit_prior=True, force_alpha=False;, score=0.856 total time=   0.1s\n",
            "[CV 4/5] END alpha=0.3, fit_prior=True, force_alpha=False;, score=0.858 total time=   0.1s\n",
            "[CV 5/5] END alpha=0.3, fit_prior=True, force_alpha=False;, score=0.863 total time=   0.2s\n",
            "[CV 1/5] END alpha=0.3, fit_prior=False, force_alpha=True;, score=0.863 total time=   0.1s\n",
            "[CV 2/5] END alpha=0.3, fit_prior=False, force_alpha=True;, score=0.856 total time=   0.1s\n",
            "[CV 3/5] END alpha=0.3, fit_prior=False, force_alpha=True;, score=0.856 total time=   0.1s\n",
            "[CV 4/5] END alpha=0.3, fit_prior=False, force_alpha=True;, score=0.858 total time=   0.1s\n",
            "[CV 5/5] END alpha=0.3, fit_prior=False, force_alpha=True;, score=0.863 total time=   0.1s\n",
            "[CV 1/5] END alpha=0.3, fit_prior=False, force_alpha=False;, score=0.863 total time=   0.2s\n",
            "[CV 2/5] END alpha=0.3, fit_prior=False, force_alpha=False;, score=0.856 total time=   0.1s\n",
            "[CV 3/5] END alpha=0.3, fit_prior=False, force_alpha=False;, score=0.856 total time=   0.1s\n",
            "[CV 4/5] END alpha=0.3, fit_prior=False, force_alpha=False;, score=0.858 total time=   0.1s\n",
            "[CV 5/5] END alpha=0.3, fit_prior=False, force_alpha=False;, score=0.863 total time=   0.1s\n",
            "[CV 1/5] END alpha=0.4, fit_prior=True, force_alpha=True;, score=0.863 total time=   0.1s\n",
            "[CV 2/5] END alpha=0.4, fit_prior=True, force_alpha=True;, score=0.856 total time=   0.1s\n",
            "[CV 3/5] END alpha=0.4, fit_prior=True, force_alpha=True;, score=0.856 total time=   0.1s\n",
            "[CV 4/5] END alpha=0.4, fit_prior=True, force_alpha=True;, score=0.858 total time=   0.1s\n",
            "[CV 5/5] END alpha=0.4, fit_prior=True, force_alpha=True;, score=0.863 total time=   0.1s\n",
            "[CV 1/5] END alpha=0.4, fit_prior=True, force_alpha=False;, score=0.863 total time=   0.1s\n",
            "[CV 2/5] END alpha=0.4, fit_prior=True, force_alpha=False;, score=0.856 total time=   0.1s\n",
            "[CV 3/5] END alpha=0.4, fit_prior=True, force_alpha=False;, score=0.856 total time=   0.1s\n",
            "[CV 4/5] END alpha=0.4, fit_prior=True, force_alpha=False;, score=0.858 total time=   0.1s\n",
            "[CV 5/5] END alpha=0.4, fit_prior=True, force_alpha=False;, score=0.863 total time=   0.1s\n",
            "[CV 1/5] END alpha=0.4, fit_prior=False, force_alpha=True;, score=0.863 total time=   0.1s\n",
            "[CV 2/5] END alpha=0.4, fit_prior=False, force_alpha=True;, score=0.856 total time=   0.1s\n",
            "[CV 3/5] END alpha=0.4, fit_prior=False, force_alpha=True;, score=0.856 total time=   0.1s\n",
            "[CV 4/5] END alpha=0.4, fit_prior=False, force_alpha=True;, score=0.858 total time=   0.1s\n",
            "[CV 5/5] END alpha=0.4, fit_prior=False, force_alpha=True;, score=0.863 total time=   0.1s\n",
            "[CV 1/5] END alpha=0.4, fit_prior=False, force_alpha=False;, score=0.863 total time=   0.1s\n",
            "[CV 2/5] END alpha=0.4, fit_prior=False, force_alpha=False;, score=0.856 total time=   0.1s\n",
            "[CV 3/5] END alpha=0.4, fit_prior=False, force_alpha=False;, score=0.856 total time=   0.1s\n",
            "[CV 4/5] END alpha=0.4, fit_prior=False, force_alpha=False;, score=0.858 total time=   0.1s\n",
            "[CV 5/5] END alpha=0.4, fit_prior=False, force_alpha=False;, score=0.863 total time=   0.1s\n",
            "[CV 1/5] END alpha=0.5, fit_prior=True, force_alpha=True;, score=0.863 total time=   0.1s\n",
            "[CV 2/5] END alpha=0.5, fit_prior=True, force_alpha=True;, score=0.856 total time=   0.1s\n",
            "[CV 3/5] END alpha=0.5, fit_prior=True, force_alpha=True;, score=0.856 total time=   0.1s\n",
            "[CV 4/5] END alpha=0.5, fit_prior=True, force_alpha=True;, score=0.858 total time=   0.1s\n",
            "[CV 5/5] END alpha=0.5, fit_prior=True, force_alpha=True;, score=0.864 total time=   0.1s\n",
            "[CV 1/5] END alpha=0.5, fit_prior=True, force_alpha=False;, score=0.863 total time=   0.1s\n",
            "[CV 2/5] END alpha=0.5, fit_prior=True, force_alpha=False;, score=0.856 total time=   0.1s\n",
            "[CV 3/5] END alpha=0.5, fit_prior=True, force_alpha=False;, score=0.856 total time=   0.1s\n",
            "[CV 4/5] END alpha=0.5, fit_prior=True, force_alpha=False;, score=0.858 total time=   0.1s\n",
            "[CV 5/5] END alpha=0.5, fit_prior=True, force_alpha=False;, score=0.864 total time=   0.1s\n",
            "[CV 1/5] END alpha=0.5, fit_prior=False, force_alpha=True;, score=0.863 total time=   0.1s\n",
            "[CV 2/5] END alpha=0.5, fit_prior=False, force_alpha=True;, score=0.856 total time=   0.1s\n",
            "[CV 3/5] END alpha=0.5, fit_prior=False, force_alpha=True;, score=0.856 total time=   0.1s\n",
            "[CV 4/5] END alpha=0.5, fit_prior=False, force_alpha=True;, score=0.858 total time=   0.1s\n",
            "[CV 5/5] END alpha=0.5, fit_prior=False, force_alpha=True;, score=0.864 total time=   0.1s\n",
            "[CV 1/5] END alpha=0.5, fit_prior=False, force_alpha=False;, score=0.863 total time=   0.1s\n",
            "[CV 2/5] END alpha=0.5, fit_prior=False, force_alpha=False;, score=0.856 total time=   0.1s\n",
            "[CV 3/5] END alpha=0.5, fit_prior=False, force_alpha=False;, score=0.856 total time=   0.1s\n",
            "[CV 4/5] END alpha=0.5, fit_prior=False, force_alpha=False;, score=0.858 total time=   0.1s\n",
            "[CV 5/5] END alpha=0.5, fit_prior=False, force_alpha=False;, score=0.864 total time=   0.1s\n",
            "[CV 1/5] END alpha=0.6, fit_prior=True, force_alpha=True;, score=0.862 total time=   0.1s\n",
            "[CV 2/5] END alpha=0.6, fit_prior=True, force_alpha=True;, score=0.857 total time=   0.1s\n",
            "[CV 3/5] END alpha=0.6, fit_prior=True, force_alpha=True;, score=0.858 total time=   0.1s\n",
            "[CV 4/5] END alpha=0.6, fit_prior=True, force_alpha=True;, score=0.858 total time=   0.1s\n",
            "[CV 5/5] END alpha=0.6, fit_prior=True, force_alpha=True;, score=0.864 total time=   0.1s\n",
            "[CV 1/5] END alpha=0.6, fit_prior=True, force_alpha=False;, score=0.862 total time=   0.1s\n",
            "[CV 2/5] END alpha=0.6, fit_prior=True, force_alpha=False;, score=0.857 total time=   0.1s\n",
            "[CV 3/5] END alpha=0.6, fit_prior=True, force_alpha=False;, score=0.858 total time=   0.1s\n",
            "[CV 4/5] END alpha=0.6, fit_prior=True, force_alpha=False;, score=0.858 total time=   0.1s\n",
            "[CV 5/5] END alpha=0.6, fit_prior=True, force_alpha=False;, score=0.864 total time=   0.1s\n",
            "[CV 1/5] END alpha=0.6, fit_prior=False, force_alpha=True;, score=0.862 total time=   0.1s\n",
            "[CV 2/5] END alpha=0.6, fit_prior=False, force_alpha=True;, score=0.857 total time=   0.1s\n",
            "[CV 3/5] END alpha=0.6, fit_prior=False, force_alpha=True;, score=0.858 total time=   0.1s\n",
            "[CV 4/5] END alpha=0.6, fit_prior=False, force_alpha=True;, score=0.858 total time=   0.1s\n",
            "[CV 5/5] END alpha=0.6, fit_prior=False, force_alpha=True;, score=0.864 total time=   0.1s\n",
            "[CV 1/5] END alpha=0.6, fit_prior=False, force_alpha=False;, score=0.862 total time=   0.1s\n",
            "[CV 2/5] END alpha=0.6, fit_prior=False, force_alpha=False;, score=0.857 total time=   0.1s\n",
            "[CV 3/5] END alpha=0.6, fit_prior=False, force_alpha=False;, score=0.858 total time=   0.1s\n",
            "[CV 4/5] END alpha=0.6, fit_prior=False, force_alpha=False;, score=0.858 total time=   0.1s\n",
            "[CV 5/5] END alpha=0.6, fit_prior=False, force_alpha=False;, score=0.864 total time=   0.1s\n",
            "[CV 1/5] END alpha=0.7, fit_prior=True, force_alpha=True;, score=0.861 total time=   0.1s\n",
            "[CV 2/5] END alpha=0.7, fit_prior=True, force_alpha=True;, score=0.856 total time=   0.1s\n",
            "[CV 3/5] END alpha=0.7, fit_prior=True, force_alpha=True;, score=0.858 total time=   0.1s\n",
            "[CV 4/5] END alpha=0.7, fit_prior=True, force_alpha=True;, score=0.859 total time=   0.1s\n",
            "[CV 5/5] END alpha=0.7, fit_prior=True, force_alpha=True;, score=0.866 total time=   0.1s\n",
            "[CV 1/5] END alpha=0.7, fit_prior=True, force_alpha=False;, score=0.861 total time=   0.1s\n",
            "[CV 2/5] END alpha=0.7, fit_prior=True, force_alpha=False;, score=0.856 total time=   0.1s\n",
            "[CV 3/5] END alpha=0.7, fit_prior=True, force_alpha=False;, score=0.858 total time=   0.1s\n",
            "[CV 4/5] END alpha=0.7, fit_prior=True, force_alpha=False;, score=0.859 total time=   0.1s\n",
            "[CV 5/5] END alpha=0.7, fit_prior=True, force_alpha=False;, score=0.866 total time=   0.1s\n",
            "[CV 1/5] END alpha=0.7, fit_prior=False, force_alpha=True;, score=0.861 total time=   0.1s\n",
            "[CV 2/5] END alpha=0.7, fit_prior=False, force_alpha=True;, score=0.856 total time=   0.1s\n",
            "[CV 3/5] END alpha=0.7, fit_prior=False, force_alpha=True;, score=0.858 total time=   0.1s\n",
            "[CV 4/5] END alpha=0.7, fit_prior=False, force_alpha=True;, score=0.859 total time=   0.1s\n",
            "[CV 5/5] END alpha=0.7, fit_prior=False, force_alpha=True;, score=0.866 total time=   0.1s\n",
            "[CV 1/5] END alpha=0.7, fit_prior=False, force_alpha=False;, score=0.861 total time=   0.1s\n",
            "[CV 2/5] END alpha=0.7, fit_prior=False, force_alpha=False;, score=0.856 total time=   0.1s\n",
            "[CV 3/5] END alpha=0.7, fit_prior=False, force_alpha=False;, score=0.858 total time=   0.1s\n",
            "[CV 4/5] END alpha=0.7, fit_prior=False, force_alpha=False;, score=0.859 total time=   0.1s\n",
            "[CV 5/5] END alpha=0.7, fit_prior=False, force_alpha=False;, score=0.866 total time=   0.1s\n",
            "[CV 1/5] END alpha=0.8, fit_prior=True, force_alpha=True;, score=0.862 total time=   0.1s\n",
            "[CV 2/5] END alpha=0.8, fit_prior=True, force_alpha=True;, score=0.855 total time=   0.1s\n",
            "[CV 3/5] END alpha=0.8, fit_prior=True, force_alpha=True;, score=0.858 total time=   0.1s\n",
            "[CV 4/5] END alpha=0.8, fit_prior=True, force_alpha=True;, score=0.859 total time=   0.1s\n",
            "[CV 5/5] END alpha=0.8, fit_prior=True, force_alpha=True;, score=0.865 total time=   0.1s\n",
            "[CV 1/5] END alpha=0.8, fit_prior=True, force_alpha=False;, score=0.862 total time=   0.1s\n",
            "[CV 2/5] END alpha=0.8, fit_prior=True, force_alpha=False;, score=0.855 total time=   0.1s\n",
            "[CV 3/5] END alpha=0.8, fit_prior=True, force_alpha=False;, score=0.858 total time=   0.1s\n",
            "[CV 4/5] END alpha=0.8, fit_prior=True, force_alpha=False;, score=0.859 total time=   0.1s\n",
            "[CV 5/5] END alpha=0.8, fit_prior=True, force_alpha=False;, score=0.865 total time=   0.1s\n",
            "[CV 1/5] END alpha=0.8, fit_prior=False, force_alpha=True;, score=0.862 total time=   0.1s\n",
            "[CV 2/5] END alpha=0.8, fit_prior=False, force_alpha=True;, score=0.855 total time=   0.1s\n",
            "[CV 3/5] END alpha=0.8, fit_prior=False, force_alpha=True;, score=0.858 total time=   0.1s\n",
            "[CV 4/5] END alpha=0.8, fit_prior=False, force_alpha=True;, score=0.859 total time=   0.1s\n",
            "[CV 5/5] END alpha=0.8, fit_prior=False, force_alpha=True;, score=0.865 total time=   0.1s\n",
            "[CV 1/5] END alpha=0.8, fit_prior=False, force_alpha=False;, score=0.862 total time=   0.1s\n",
            "[CV 2/5] END alpha=0.8, fit_prior=False, force_alpha=False;, score=0.855 total time=   0.1s\n",
            "[CV 3/5] END alpha=0.8, fit_prior=False, force_alpha=False;, score=0.858 total time=   0.1s\n",
            "[CV 4/5] END alpha=0.8, fit_prior=False, force_alpha=False;, score=0.859 total time=   0.1s\n",
            "[CV 5/5] END alpha=0.8, fit_prior=False, force_alpha=False;, score=0.865 total time=   0.1s\n",
            "[CV 1/5] END alpha=0.9, fit_prior=True, force_alpha=True;, score=0.862 total time=   0.1s\n",
            "[CV 2/5] END alpha=0.9, fit_prior=True, force_alpha=True;, score=0.856 total time=   0.1s\n",
            "[CV 3/5] END alpha=0.9, fit_prior=True, force_alpha=True;, score=0.858 total time=   0.1s\n",
            "[CV 4/5] END alpha=0.9, fit_prior=True, force_alpha=True;, score=0.859 total time=   0.2s\n",
            "[CV 5/5] END alpha=0.9, fit_prior=True, force_alpha=True;, score=0.865 total time=   0.1s\n",
            "[CV 1/5] END alpha=0.9, fit_prior=True, force_alpha=False;, score=0.862 total time=   0.2s\n",
            "[CV 2/5] END alpha=0.9, fit_prior=True, force_alpha=False;, score=0.856 total time=   0.1s\n",
            "[CV 3/5] END alpha=0.9, fit_prior=True, force_alpha=False;, score=0.858 total time=   0.2s\n",
            "[CV 4/5] END alpha=0.9, fit_prior=True, force_alpha=False;, score=0.859 total time=   0.1s\n",
            "[CV 5/5] END alpha=0.9, fit_prior=True, force_alpha=False;, score=0.865 total time=   0.3s\n",
            "[CV 1/5] END alpha=0.9, fit_prior=False, force_alpha=True;, score=0.862 total time=   0.5s\n",
            "[CV 2/5] END alpha=0.9, fit_prior=False, force_alpha=True;, score=0.856 total time=   0.2s\n",
            "[CV 3/5] END alpha=0.9, fit_prior=False, force_alpha=True;, score=0.858 total time=   0.2s\n",
            "[CV 4/5] END alpha=0.9, fit_prior=False, force_alpha=True;, score=0.859 total time=   0.1s\n",
            "[CV 5/5] END alpha=0.9, fit_prior=False, force_alpha=True;, score=0.865 total time=   0.2s\n",
            "[CV 1/5] END alpha=0.9, fit_prior=False, force_alpha=False;, score=0.862 total time=   0.1s\n",
            "[CV 2/5] END alpha=0.9, fit_prior=False, force_alpha=False;, score=0.856 total time=   0.1s\n",
            "[CV 3/5] END alpha=0.9, fit_prior=False, force_alpha=False;, score=0.858 total time=   0.2s\n",
            "[CV 4/5] END alpha=0.9, fit_prior=False, force_alpha=False;, score=0.859 total time=   0.1s\n",
            "[CV 5/5] END alpha=0.9, fit_prior=False, force_alpha=False;, score=0.865 total time=   0.1s\n",
            "[CV 1/5] END alpha=1.0, fit_prior=True, force_alpha=True;, score=0.861 total time=   0.1s\n",
            "[CV 2/5] END alpha=1.0, fit_prior=True, force_alpha=True;, score=0.856 total time=   0.1s\n",
            "[CV 3/5] END alpha=1.0, fit_prior=True, force_alpha=True;, score=0.859 total time=   0.1s\n",
            "[CV 4/5] END alpha=1.0, fit_prior=True, force_alpha=True;, score=0.860 total time=   0.1s\n",
            "[CV 5/5] END alpha=1.0, fit_prior=True, force_alpha=True;, score=0.865 total time=   0.1s\n",
            "[CV 1/5] END alpha=1.0, fit_prior=True, force_alpha=False;, score=0.861 total time=   0.1s\n",
            "[CV 2/5] END alpha=1.0, fit_prior=True, force_alpha=False;, score=0.856 total time=   0.1s\n",
            "[CV 3/5] END alpha=1.0, fit_prior=True, force_alpha=False;, score=0.859 total time=   0.1s\n",
            "[CV 4/5] END alpha=1.0, fit_prior=True, force_alpha=False;, score=0.860 total time=   0.1s\n",
            "[CV 5/5] END alpha=1.0, fit_prior=True, force_alpha=False;, score=0.865 total time=   0.1s\n",
            "[CV 1/5] END alpha=1.0, fit_prior=False, force_alpha=True;, score=0.861 total time=   0.1s\n",
            "[CV 2/5] END alpha=1.0, fit_prior=False, force_alpha=True;, score=0.856 total time=   0.1s\n",
            "[CV 3/5] END alpha=1.0, fit_prior=False, force_alpha=True;, score=0.859 total time=   0.1s\n",
            "[CV 4/5] END alpha=1.0, fit_prior=False, force_alpha=True;, score=0.860 total time=   0.1s\n",
            "[CV 5/5] END alpha=1.0, fit_prior=False, force_alpha=True;, score=0.865 total time=   0.1s\n",
            "[CV 1/5] END alpha=1.0, fit_prior=False, force_alpha=False;, score=0.861 total time=   0.1s\n",
            "[CV 2/5] END alpha=1.0, fit_prior=False, force_alpha=False;, score=0.856 total time=   0.1s\n",
            "[CV 3/5] END alpha=1.0, fit_prior=False, force_alpha=False;, score=0.859 total time=   0.1s\n",
            "[CV 4/5] END alpha=1.0, fit_prior=False, force_alpha=False;, score=0.860 total time=   0.1s\n",
            "[CV 5/5] END alpha=1.0, fit_prior=False, force_alpha=False;, score=0.865 total time=   0.1s\n"
          ]
        }
      ]
    },
    {
      "cell_type": "code",
      "source": [
        "# best parameters\n",
        "best_clf.best_params_"
      ],
      "metadata": {
        "colab": {
          "base_uri": "https://localhost:8080/"
        },
        "id": "WAnnhni5vUpF",
        "outputId": "cb840ca0-cb6a-412a-90a5-90806a78746e"
      },
      "execution_count": 48,
      "outputs": [
        {
          "output_type": "execute_result",
          "data": {
            "text/plain": [
              "{'alpha': 1.0, 'fit_prior': True, 'force_alpha': True}"
            ]
          },
          "metadata": {},
          "execution_count": 48
        }
      ]
    },
    {
      "cell_type": "code",
      "source": [
        "# highest accuracy score\n",
        "best_clf.best_score_"
      ],
      "metadata": {
        "colab": {
          "base_uri": "https://localhost:8080/"
        },
        "id": "U6iYyU7ivbT-",
        "outputId": "c86bcccb-7634-422b-b861-e1fdcb12d929"
      },
      "execution_count": 49,
      "outputs": [
        {
          "output_type": "execute_result",
          "data": {
            "text/plain": [
              "0.859975"
            ]
          },
          "metadata": {},
          "execution_count": 49
        }
      ]
    },
    {
      "cell_type": "markdown",
      "source": [
        "Function to help us evaluate model performance"
      ],
      "metadata": {
        "id": "VMeW9HAmvpAF"
      }
    },
    {
      "cell_type": "code",
      "source": [
        "def train_and_eval(model, trainX, trainY, testX, testY):\n",
        "\n",
        "    # training the model\n",
        "    fitted_model = model.fit(trainX, trainY)\n",
        "\n",
        "    # getting predictions\n",
        "    y_preds_train = fitted_model.predict(trainX)\n",
        "    y_preds_test = fitted_model.predict(testX)\n",
        "\n",
        "    # evaluating the model\n",
        "    print()\n",
        "    print(model)\n",
        "    print(f\"Train accuracy score : {accuracy_score(trainY, y_preds_train)}\")\n",
        "    print(f\"Test accuracy score : {accuracy_score(testY, y_preds_test)}\")\n",
        "    print(classification_report(testY, y_preds_test))\n",
        "    print('\\n',40*'-')"
      ],
      "metadata": {
        "id": "fyhDavQpvjVd"
      },
      "execution_count": 50,
      "outputs": []
    },
    {
      "cell_type": "code",
      "source": [
        "best_nb = MultinomialNB(alpha = 1.0, fit_prior = False, force_alpha = True)"
      ],
      "metadata": {
        "id": "XFJcoFeGvrTu"
      },
      "execution_count": 51,
      "outputs": []
    },
    {
      "cell_type": "code",
      "source": [
        "train_and_eval(best_nb, class2_bow_X_train, class2_y_train, class2_bow_X_test, class2_y_test)"
      ],
      "metadata": {
        "colab": {
          "base_uri": "https://localhost:8080/"
        },
        "id": "VxTmOhVDv0SF",
        "outputId": "4eea25b7-32c3-4efd-9a00-c35693262e5c"
      },
      "execution_count": 52,
      "outputs": [
        {
          "output_type": "stream",
          "name": "stdout",
          "text": [
            "\n",
            "MultinomialNB(fit_prior=False, force_alpha=True)\n",
            "Train accuracy score : 0.916925\n",
            "Test accuracy score : 0.8603860386038604\n",
            "              precision    recall  f1-score   support\n",
            "\n",
            "           0       0.85      0.88      0.86      5000\n",
            "           1       0.87      0.84      0.86      4999\n",
            "\n",
            "    accuracy                           0.86      9999\n",
            "   macro avg       0.86      0.86      0.86      9999\n",
            "weighted avg       0.86      0.86      0.86      9999\n",
            "\n",
            "\n",
            " ----------------------------------------\n"
          ]
        }
      ]
    },
    {
      "cell_type": "markdown",
      "source": [
        "Best Naive Bayes model with BOW gave us 86.0% accuracy on test data"
      ],
      "metadata": {
        "id": "DKB8y4v4wHQO"
      }
    },
    {
      "cell_type": "markdown",
      "source": [
        "# Tuning Naive Bayes with TF-IDF"
      ],
      "metadata": {
        "id": "NCHvXbystQTt"
      }
    },
    {
      "cell_type": "code",
      "source": [
        "param_grid = {\n",
        "    'alpha': [0.0, 0.1, 0.2, 0.3, 0.4, 0.5, 0.6, 0.7, 0.8, 0.9, 1.0],\n",
        "    'force_alpha': [True, False],\n",
        "    'fit_prior': [True, False]\n",
        "}"
      ],
      "metadata": {
        "id": "Ya__XiQ6u_2N"
      },
      "execution_count": 53,
      "outputs": []
    },
    {
      "cell_type": "code",
      "source": [
        "nb_model = MultinomialNB()\n",
        "clf = GridSearchCV(nb_model, param_grid=param_grid, cv=5, verbose=4, scoring='accuracy')"
      ],
      "metadata": {
        "id": "gPpNCzG-u_2N"
      },
      "execution_count": 54,
      "outputs": []
    },
    {
      "cell_type": "code",
      "source": [
        "best_clf = clf.fit(class2_tfidf_X_train, class2_y_train)"
      ],
      "metadata": {
        "colab": {
          "base_uri": "https://localhost:8080/"
        },
        "id": "nYw27ZQPu_2O",
        "outputId": "42929024-998b-4acf-8dbc-52ee9cffeb0a"
      },
      "execution_count": 55,
      "outputs": [
        {
          "output_type": "stream",
          "name": "stdout",
          "text": [
            "Fitting 5 folds for each of 44 candidates, totalling 220 fits\n",
            "[CV 1/5] END alpha=0.0, fit_prior=True, force_alpha=True;, score=0.581 total time=   0.1s\n"
          ]
        },
        {
          "output_type": "stream",
          "name": "stderr",
          "text": [
            "/usr/local/lib/python3.10/dist-packages/sklearn/naive_bayes.py:907: RuntimeWarning: divide by zero encountered in log\n",
            "  self.feature_log_prob_ = np.log(smoothed_fc) - np.log(\n",
            "/usr/local/lib/python3.10/dist-packages/sklearn/naive_bayes.py:907: RuntimeWarning: divide by zero encountered in log\n",
            "  self.feature_log_prob_ = np.log(smoothed_fc) - np.log(\n",
            "/usr/local/lib/python3.10/dist-packages/sklearn/naive_bayes.py:907: RuntimeWarning: divide by zero encountered in log\n",
            "  self.feature_log_prob_ = np.log(smoothed_fc) - np.log(\n"
          ]
        },
        {
          "output_type": "stream",
          "name": "stdout",
          "text": [
            "[CV 2/5] END alpha=0.0, fit_prior=True, force_alpha=True;, score=0.583 total time=   0.1s\n",
            "[CV 3/5] END alpha=0.0, fit_prior=True, force_alpha=True;, score=0.582 total time=   0.1s\n",
            "[CV 4/5] END alpha=0.0, fit_prior=True, force_alpha=True;, score=0.578 total time=   0.1s\n"
          ]
        },
        {
          "output_type": "stream",
          "name": "stderr",
          "text": [
            "/usr/local/lib/python3.10/dist-packages/sklearn/naive_bayes.py:907: RuntimeWarning: divide by zero encountered in log\n",
            "  self.feature_log_prob_ = np.log(smoothed_fc) - np.log(\n",
            "/usr/local/lib/python3.10/dist-packages/sklearn/naive_bayes.py:907: RuntimeWarning: divide by zero encountered in log\n",
            "  self.feature_log_prob_ = np.log(smoothed_fc) - np.log(\n",
            "/usr/local/lib/python3.10/dist-packages/sklearn/naive_bayes.py:635: UserWarning: alpha too small will result in numeric errors, setting alpha = 1.0e-10. Use `force_alpha=True` to keep alpha unchanged.\n",
            "  warnings.warn(\n"
          ]
        },
        {
          "output_type": "stream",
          "name": "stdout",
          "text": [
            "[CV 5/5] END alpha=0.0, fit_prior=True, force_alpha=True;, score=0.585 total time=   0.1s\n",
            "[CV 1/5] END alpha=0.0, fit_prior=True, force_alpha=False;, score=0.778 total time=   0.1s\n"
          ]
        },
        {
          "output_type": "stream",
          "name": "stderr",
          "text": [
            "/usr/local/lib/python3.10/dist-packages/sklearn/naive_bayes.py:635: UserWarning: alpha too small will result in numeric errors, setting alpha = 1.0e-10. Use `force_alpha=True` to keep alpha unchanged.\n",
            "  warnings.warn(\n",
            "/usr/local/lib/python3.10/dist-packages/sklearn/naive_bayes.py:635: UserWarning: alpha too small will result in numeric errors, setting alpha = 1.0e-10. Use `force_alpha=True` to keep alpha unchanged.\n",
            "  warnings.warn(\n"
          ]
        },
        {
          "output_type": "stream",
          "name": "stdout",
          "text": [
            "[CV 2/5] END alpha=0.0, fit_prior=True, force_alpha=False;, score=0.768 total time=   0.1s\n",
            "[CV 3/5] END alpha=0.0, fit_prior=True, force_alpha=False;, score=0.773 total time=   0.1s\n"
          ]
        },
        {
          "output_type": "stream",
          "name": "stderr",
          "text": [
            "/usr/local/lib/python3.10/dist-packages/sklearn/naive_bayes.py:635: UserWarning: alpha too small will result in numeric errors, setting alpha = 1.0e-10. Use `force_alpha=True` to keep alpha unchanged.\n",
            "  warnings.warn(\n",
            "/usr/local/lib/python3.10/dist-packages/sklearn/naive_bayes.py:635: UserWarning: alpha too small will result in numeric errors, setting alpha = 1.0e-10. Use `force_alpha=True` to keep alpha unchanged.\n",
            "  warnings.warn(\n"
          ]
        },
        {
          "output_type": "stream",
          "name": "stdout",
          "text": [
            "[CV 4/5] END alpha=0.0, fit_prior=True, force_alpha=False;, score=0.772 total time=   0.1s\n",
            "[CV 5/5] END alpha=0.0, fit_prior=True, force_alpha=False;, score=0.777 total time=   0.1s\n"
          ]
        },
        {
          "output_type": "stream",
          "name": "stderr",
          "text": [
            "/usr/local/lib/python3.10/dist-packages/sklearn/naive_bayes.py:907: RuntimeWarning: divide by zero encountered in log\n",
            "  self.feature_log_prob_ = np.log(smoothed_fc) - np.log(\n",
            "/usr/local/lib/python3.10/dist-packages/sklearn/naive_bayes.py:907: RuntimeWarning: divide by zero encountered in log\n",
            "  self.feature_log_prob_ = np.log(smoothed_fc) - np.log(\n"
          ]
        },
        {
          "output_type": "stream",
          "name": "stdout",
          "text": [
            "[CV 1/5] END alpha=0.0, fit_prior=False, force_alpha=True;, score=0.581 total time=   0.1s\n",
            "[CV 2/5] END alpha=0.0, fit_prior=False, force_alpha=True;, score=0.583 total time=   0.1s\n"
          ]
        },
        {
          "output_type": "stream",
          "name": "stderr",
          "text": [
            "/usr/local/lib/python3.10/dist-packages/sklearn/naive_bayes.py:907: RuntimeWarning: divide by zero encountered in log\n",
            "  self.feature_log_prob_ = np.log(smoothed_fc) - np.log(\n",
            "/usr/local/lib/python3.10/dist-packages/sklearn/naive_bayes.py:907: RuntimeWarning: divide by zero encountered in log\n",
            "  self.feature_log_prob_ = np.log(smoothed_fc) - np.log(\n"
          ]
        },
        {
          "output_type": "stream",
          "name": "stdout",
          "text": [
            "[CV 3/5] END alpha=0.0, fit_prior=False, force_alpha=True;, score=0.582 total time=   0.1s\n",
            "[CV 4/5] END alpha=0.0, fit_prior=False, force_alpha=True;, score=0.578 total time=   0.1s\n"
          ]
        },
        {
          "output_type": "stream",
          "name": "stderr",
          "text": [
            "/usr/local/lib/python3.10/dist-packages/sklearn/naive_bayes.py:907: RuntimeWarning: divide by zero encountered in log\n",
            "  self.feature_log_prob_ = np.log(smoothed_fc) - np.log(\n",
            "/usr/local/lib/python3.10/dist-packages/sklearn/naive_bayes.py:635: UserWarning: alpha too small will result in numeric errors, setting alpha = 1.0e-10. Use `force_alpha=True` to keep alpha unchanged.\n",
            "  warnings.warn(\n"
          ]
        },
        {
          "output_type": "stream",
          "name": "stdout",
          "text": [
            "[CV 5/5] END alpha=0.0, fit_prior=False, force_alpha=True;, score=0.585 total time=   0.1s\n",
            "[CV 1/5] END alpha=0.0, fit_prior=False, force_alpha=False;, score=0.778 total time=   0.1s\n"
          ]
        },
        {
          "output_type": "stream",
          "name": "stderr",
          "text": [
            "/usr/local/lib/python3.10/dist-packages/sklearn/naive_bayes.py:635: UserWarning: alpha too small will result in numeric errors, setting alpha = 1.0e-10. Use `force_alpha=True` to keep alpha unchanged.\n",
            "  warnings.warn(\n",
            "/usr/local/lib/python3.10/dist-packages/sklearn/naive_bayes.py:635: UserWarning: alpha too small will result in numeric errors, setting alpha = 1.0e-10. Use `force_alpha=True` to keep alpha unchanged.\n",
            "  warnings.warn(\n"
          ]
        },
        {
          "output_type": "stream",
          "name": "stdout",
          "text": [
            "[CV 2/5] END alpha=0.0, fit_prior=False, force_alpha=False;, score=0.768 total time=   0.1s\n",
            "[CV 3/5] END alpha=0.0, fit_prior=False, force_alpha=False;, score=0.773 total time=   0.1s\n"
          ]
        },
        {
          "output_type": "stream",
          "name": "stderr",
          "text": [
            "/usr/local/lib/python3.10/dist-packages/sklearn/naive_bayes.py:635: UserWarning: alpha too small will result in numeric errors, setting alpha = 1.0e-10. Use `force_alpha=True` to keep alpha unchanged.\n",
            "  warnings.warn(\n",
            "/usr/local/lib/python3.10/dist-packages/sklearn/naive_bayes.py:635: UserWarning: alpha too small will result in numeric errors, setting alpha = 1.0e-10. Use `force_alpha=True` to keep alpha unchanged.\n",
            "  warnings.warn(\n"
          ]
        },
        {
          "output_type": "stream",
          "name": "stdout",
          "text": [
            "[CV 4/5] END alpha=0.0, fit_prior=False, force_alpha=False;, score=0.772 total time=   0.1s\n",
            "[CV 5/5] END alpha=0.0, fit_prior=False, force_alpha=False;, score=0.777 total time=   0.1s\n",
            "[CV 1/5] END alpha=0.1, fit_prior=True, force_alpha=True;, score=0.866 total time=   0.1s\n",
            "[CV 2/5] END alpha=0.1, fit_prior=True, force_alpha=True;, score=0.858 total time=   0.1s\n",
            "[CV 3/5] END alpha=0.1, fit_prior=True, force_alpha=True;, score=0.860 total time=   0.1s\n",
            "[CV 4/5] END alpha=0.1, fit_prior=True, force_alpha=True;, score=0.861 total time=   0.1s\n",
            "[CV 5/5] END alpha=0.1, fit_prior=True, force_alpha=True;, score=0.865 total time=   0.1s\n",
            "[CV 1/5] END alpha=0.1, fit_prior=True, force_alpha=False;, score=0.866 total time=   0.1s\n",
            "[CV 2/5] END alpha=0.1, fit_prior=True, force_alpha=False;, score=0.858 total time=   0.1s\n",
            "[CV 3/5] END alpha=0.1, fit_prior=True, force_alpha=False;, score=0.860 total time=   0.1s\n",
            "[CV 4/5] END alpha=0.1, fit_prior=True, force_alpha=False;, score=0.861 total time=   0.1s\n",
            "[CV 5/5] END alpha=0.1, fit_prior=True, force_alpha=False;, score=0.865 total time=   0.1s\n",
            "[CV 1/5] END alpha=0.1, fit_prior=False, force_alpha=True;, score=0.866 total time=   0.1s\n",
            "[CV 2/5] END alpha=0.1, fit_prior=False, force_alpha=True;, score=0.858 total time=   0.1s\n",
            "[CV 3/5] END alpha=0.1, fit_prior=False, force_alpha=True;, score=0.860 total time=   0.1s\n",
            "[CV 4/5] END alpha=0.1, fit_prior=False, force_alpha=True;, score=0.861 total time=   0.1s\n",
            "[CV 5/5] END alpha=0.1, fit_prior=False, force_alpha=True;, score=0.865 total time=   0.1s\n",
            "[CV 1/5] END alpha=0.1, fit_prior=False, force_alpha=False;, score=0.866 total time=   0.1s\n",
            "[CV 2/5] END alpha=0.1, fit_prior=False, force_alpha=False;, score=0.858 total time=   0.1s\n",
            "[CV 3/5] END alpha=0.1, fit_prior=False, force_alpha=False;, score=0.860 total time=   0.1s\n",
            "[CV 4/5] END alpha=0.1, fit_prior=False, force_alpha=False;, score=0.861 total time=   0.1s\n",
            "[CV 5/5] END alpha=0.1, fit_prior=False, force_alpha=False;, score=0.865 total time=   0.1s\n",
            "[CV 1/5] END alpha=0.2, fit_prior=True, force_alpha=True;, score=0.869 total time=   0.1s\n",
            "[CV 2/5] END alpha=0.2, fit_prior=True, force_alpha=True;, score=0.859 total time=   0.1s\n",
            "[CV 3/5] END alpha=0.2, fit_prior=True, force_alpha=True;, score=0.863 total time=   0.1s\n",
            "[CV 4/5] END alpha=0.2, fit_prior=True, force_alpha=True;, score=0.864 total time=   0.1s\n",
            "[CV 5/5] END alpha=0.2, fit_prior=True, force_alpha=True;, score=0.870 total time=   0.1s\n",
            "[CV 1/5] END alpha=0.2, fit_prior=True, force_alpha=False;, score=0.869 total time=   0.1s\n",
            "[CV 2/5] END alpha=0.2, fit_prior=True, force_alpha=False;, score=0.859 total time=   0.1s\n",
            "[CV 3/5] END alpha=0.2, fit_prior=True, force_alpha=False;, score=0.863 total time=   0.1s\n",
            "[CV 4/5] END alpha=0.2, fit_prior=True, force_alpha=False;, score=0.864 total time=   0.1s\n",
            "[CV 5/5] END alpha=0.2, fit_prior=True, force_alpha=False;, score=0.870 total time=   0.1s\n",
            "[CV 1/5] END alpha=0.2, fit_prior=False, force_alpha=True;, score=0.869 total time=   0.1s\n",
            "[CV 2/5] END alpha=0.2, fit_prior=False, force_alpha=True;, score=0.859 total time=   0.1s\n",
            "[CV 3/5] END alpha=0.2, fit_prior=False, force_alpha=True;, score=0.863 total time=   0.1s\n",
            "[CV 4/5] END alpha=0.2, fit_prior=False, force_alpha=True;, score=0.864 total time=   0.1s\n",
            "[CV 5/5] END alpha=0.2, fit_prior=False, force_alpha=True;, score=0.870 total time=   0.1s\n",
            "[CV 1/5] END alpha=0.2, fit_prior=False, force_alpha=False;, score=0.869 total time=   0.1s\n",
            "[CV 2/5] END alpha=0.2, fit_prior=False, force_alpha=False;, score=0.859 total time=   0.1s\n",
            "[CV 3/5] END alpha=0.2, fit_prior=False, force_alpha=False;, score=0.863 total time=   0.1s\n",
            "[CV 4/5] END alpha=0.2, fit_prior=False, force_alpha=False;, score=0.864 total time=   0.1s\n",
            "[CV 5/5] END alpha=0.2, fit_prior=False, force_alpha=False;, score=0.870 total time=   0.1s\n",
            "[CV 1/5] END alpha=0.3, fit_prior=True, force_alpha=True;, score=0.870 total time=   0.1s\n",
            "[CV 2/5] END alpha=0.3, fit_prior=True, force_alpha=True;, score=0.860 total time=   0.1s\n",
            "[CV 3/5] END alpha=0.3, fit_prior=True, force_alpha=True;, score=0.865 total time=   0.1s\n",
            "[CV 4/5] END alpha=0.3, fit_prior=True, force_alpha=True;, score=0.865 total time=   0.1s\n",
            "[CV 5/5] END alpha=0.3, fit_prior=True, force_alpha=True;, score=0.872 total time=   0.1s\n",
            "[CV 1/5] END alpha=0.3, fit_prior=True, force_alpha=False;, score=0.870 total time=   0.1s\n",
            "[CV 2/5] END alpha=0.3, fit_prior=True, force_alpha=False;, score=0.860 total time=   0.1s\n",
            "[CV 3/5] END alpha=0.3, fit_prior=True, force_alpha=False;, score=0.865 total time=   0.1s\n",
            "[CV 4/5] END alpha=0.3, fit_prior=True, force_alpha=False;, score=0.865 total time=   0.1s\n",
            "[CV 5/5] END alpha=0.3, fit_prior=True, force_alpha=False;, score=0.872 total time=   0.1s\n",
            "[CV 1/5] END alpha=0.3, fit_prior=False, force_alpha=True;, score=0.870 total time=   0.1s\n",
            "[CV 2/5] END alpha=0.3, fit_prior=False, force_alpha=True;, score=0.860 total time=   0.1s\n",
            "[CV 3/5] END alpha=0.3, fit_prior=False, force_alpha=True;, score=0.865 total time=   0.1s\n",
            "[CV 4/5] END alpha=0.3, fit_prior=False, force_alpha=True;, score=0.865 total time=   0.1s\n",
            "[CV 5/5] END alpha=0.3, fit_prior=False, force_alpha=True;, score=0.872 total time=   0.1s\n",
            "[CV 1/5] END alpha=0.3, fit_prior=False, force_alpha=False;, score=0.870 total time=   0.1s\n",
            "[CV 2/5] END alpha=0.3, fit_prior=False, force_alpha=False;, score=0.860 total time=   0.1s\n",
            "[CV 3/5] END alpha=0.3, fit_prior=False, force_alpha=False;, score=0.865 total time=   0.2s\n",
            "[CV 4/5] END alpha=0.3, fit_prior=False, force_alpha=False;, score=0.865 total time=   0.1s\n",
            "[CV 5/5] END alpha=0.3, fit_prior=False, force_alpha=False;, score=0.872 total time=   0.2s\n",
            "[CV 1/5] END alpha=0.4, fit_prior=True, force_alpha=True;, score=0.869 total time=   0.1s\n",
            "[CV 2/5] END alpha=0.4, fit_prior=True, force_alpha=True;, score=0.861 total time=   0.1s\n",
            "[CV 3/5] END alpha=0.4, fit_prior=True, force_alpha=True;, score=0.865 total time=   0.1s\n",
            "[CV 4/5] END alpha=0.4, fit_prior=True, force_alpha=True;, score=0.865 total time=   0.1s\n",
            "[CV 5/5] END alpha=0.4, fit_prior=True, force_alpha=True;, score=0.872 total time=   0.1s\n",
            "[CV 1/5] END alpha=0.4, fit_prior=True, force_alpha=False;, score=0.869 total time=   0.1s\n",
            "[CV 2/5] END alpha=0.4, fit_prior=True, force_alpha=False;, score=0.861 total time=   0.2s\n",
            "[CV 3/5] END alpha=0.4, fit_prior=True, force_alpha=False;, score=0.865 total time=   0.1s\n",
            "[CV 4/5] END alpha=0.4, fit_prior=True, force_alpha=False;, score=0.865 total time=   0.1s\n",
            "[CV 5/5] END alpha=0.4, fit_prior=True, force_alpha=False;, score=0.872 total time=   0.2s\n",
            "[CV 1/5] END alpha=0.4, fit_prior=False, force_alpha=True;, score=0.869 total time=   0.2s\n",
            "[CV 2/5] END alpha=0.4, fit_prior=False, force_alpha=True;, score=0.861 total time=   0.2s\n",
            "[CV 3/5] END alpha=0.4, fit_prior=False, force_alpha=True;, score=0.865 total time=   0.2s\n",
            "[CV 4/5] END alpha=0.4, fit_prior=False, force_alpha=True;, score=0.865 total time=   0.1s\n",
            "[CV 5/5] END alpha=0.4, fit_prior=False, force_alpha=True;, score=0.872 total time=   0.2s\n",
            "[CV 1/5] END alpha=0.4, fit_prior=False, force_alpha=False;, score=0.869 total time=   0.2s\n",
            "[CV 2/5] END alpha=0.4, fit_prior=False, force_alpha=False;, score=0.861 total time=   0.1s\n",
            "[CV 3/5] END alpha=0.4, fit_prior=False, force_alpha=False;, score=0.865 total time=   0.1s\n",
            "[CV 4/5] END alpha=0.4, fit_prior=False, force_alpha=False;, score=0.865 total time=   0.1s\n",
            "[CV 5/5] END alpha=0.4, fit_prior=False, force_alpha=False;, score=0.872 total time=   0.1s\n",
            "[CV 1/5] END alpha=0.5, fit_prior=True, force_alpha=True;, score=0.868 total time=   0.1s\n",
            "[CV 2/5] END alpha=0.5, fit_prior=True, force_alpha=True;, score=0.861 total time=   0.1s\n",
            "[CV 3/5] END alpha=0.5, fit_prior=True, force_alpha=True;, score=0.866 total time=   0.1s\n",
            "[CV 4/5] END alpha=0.5, fit_prior=True, force_alpha=True;, score=0.865 total time=   0.1s\n",
            "[CV 5/5] END alpha=0.5, fit_prior=True, force_alpha=True;, score=0.873 total time=   0.1s\n",
            "[CV 1/5] END alpha=0.5, fit_prior=True, force_alpha=False;, score=0.868 total time=   0.1s\n",
            "[CV 2/5] END alpha=0.5, fit_prior=True, force_alpha=False;, score=0.861 total time=   0.1s\n",
            "[CV 3/5] END alpha=0.5, fit_prior=True, force_alpha=False;, score=0.866 total time=   0.1s\n",
            "[CV 4/5] END alpha=0.5, fit_prior=True, force_alpha=False;, score=0.865 total time=   0.1s\n",
            "[CV 5/5] END alpha=0.5, fit_prior=True, force_alpha=False;, score=0.873 total time=   0.1s\n",
            "[CV 1/5] END alpha=0.5, fit_prior=False, force_alpha=True;, score=0.868 total time=   0.1s\n",
            "[CV 2/5] END alpha=0.5, fit_prior=False, force_alpha=True;, score=0.861 total time=   0.1s\n",
            "[CV 3/5] END alpha=0.5, fit_prior=False, force_alpha=True;, score=0.866 total time=   0.1s\n",
            "[CV 4/5] END alpha=0.5, fit_prior=False, force_alpha=True;, score=0.865 total time=   0.1s\n",
            "[CV 5/5] END alpha=0.5, fit_prior=False, force_alpha=True;, score=0.873 total time=   0.1s\n",
            "[CV 1/5] END alpha=0.5, fit_prior=False, force_alpha=False;, score=0.868 total time=   0.1s\n",
            "[CV 2/5] END alpha=0.5, fit_prior=False, force_alpha=False;, score=0.861 total time=   0.1s\n",
            "[CV 3/5] END alpha=0.5, fit_prior=False, force_alpha=False;, score=0.866 total time=   0.1s\n",
            "[CV 4/5] END alpha=0.5, fit_prior=False, force_alpha=False;, score=0.865 total time=   0.1s\n",
            "[CV 5/5] END alpha=0.5, fit_prior=False, force_alpha=False;, score=0.873 total time=   0.1s\n",
            "[CV 1/5] END alpha=0.6, fit_prior=True, force_alpha=True;, score=0.868 total time=   0.1s\n",
            "[CV 2/5] END alpha=0.6, fit_prior=True, force_alpha=True;, score=0.862 total time=   0.1s\n",
            "[CV 3/5] END alpha=0.6, fit_prior=True, force_alpha=True;, score=0.865 total time=   0.1s\n",
            "[CV 4/5] END alpha=0.6, fit_prior=True, force_alpha=True;, score=0.866 total time=   0.1s\n",
            "[CV 5/5] END alpha=0.6, fit_prior=True, force_alpha=True;, score=0.873 total time=   0.1s\n",
            "[CV 1/5] END alpha=0.6, fit_prior=True, force_alpha=False;, score=0.868 total time=   0.1s\n",
            "[CV 2/5] END alpha=0.6, fit_prior=True, force_alpha=False;, score=0.862 total time=   0.1s\n",
            "[CV 3/5] END alpha=0.6, fit_prior=True, force_alpha=False;, score=0.865 total time=   0.1s\n",
            "[CV 4/5] END alpha=0.6, fit_prior=True, force_alpha=False;, score=0.866 total time=   0.1s\n",
            "[CV 5/5] END alpha=0.6, fit_prior=True, force_alpha=False;, score=0.873 total time=   0.1s\n",
            "[CV 1/5] END alpha=0.6, fit_prior=False, force_alpha=True;, score=0.868 total time=   0.1s\n",
            "[CV 2/5] END alpha=0.6, fit_prior=False, force_alpha=True;, score=0.862 total time=   0.1s\n",
            "[CV 3/5] END alpha=0.6, fit_prior=False, force_alpha=True;, score=0.865 total time=   0.1s\n",
            "[CV 4/5] END alpha=0.6, fit_prior=False, force_alpha=True;, score=0.866 total time=   0.1s\n",
            "[CV 5/5] END alpha=0.6, fit_prior=False, force_alpha=True;, score=0.873 total time=   0.1s\n",
            "[CV 1/5] END alpha=0.6, fit_prior=False, force_alpha=False;, score=0.868 total time=   0.1s\n",
            "[CV 2/5] END alpha=0.6, fit_prior=False, force_alpha=False;, score=0.862 total time=   0.1s\n",
            "[CV 3/5] END alpha=0.6, fit_prior=False, force_alpha=False;, score=0.865 total time=   0.1s\n",
            "[CV 4/5] END alpha=0.6, fit_prior=False, force_alpha=False;, score=0.866 total time=   0.1s\n",
            "[CV 5/5] END alpha=0.6, fit_prior=False, force_alpha=False;, score=0.873 total time=   0.1s\n",
            "[CV 1/5] END alpha=0.7, fit_prior=True, force_alpha=True;, score=0.867 total time=   0.1s\n",
            "[CV 2/5] END alpha=0.7, fit_prior=True, force_alpha=True;, score=0.862 total time=   0.1s\n",
            "[CV 3/5] END alpha=0.7, fit_prior=True, force_alpha=True;, score=0.866 total time=   0.1s\n",
            "[CV 4/5] END alpha=0.7, fit_prior=True, force_alpha=True;, score=0.866 total time=   0.1s\n",
            "[CV 5/5] END alpha=0.7, fit_prior=True, force_alpha=True;, score=0.873 total time=   0.1s\n",
            "[CV 1/5] END alpha=0.7, fit_prior=True, force_alpha=False;, score=0.867 total time=   0.1s\n",
            "[CV 2/5] END alpha=0.7, fit_prior=True, force_alpha=False;, score=0.862 total time=   0.1s\n",
            "[CV 3/5] END alpha=0.7, fit_prior=True, force_alpha=False;, score=0.866 total time=   0.1s\n",
            "[CV 4/5] END alpha=0.7, fit_prior=True, force_alpha=False;, score=0.866 total time=   0.1s\n",
            "[CV 5/5] END alpha=0.7, fit_prior=True, force_alpha=False;, score=0.873 total time=   0.1s\n",
            "[CV 1/5] END alpha=0.7, fit_prior=False, force_alpha=True;, score=0.867 total time=   0.1s\n",
            "[CV 2/5] END alpha=0.7, fit_prior=False, force_alpha=True;, score=0.862 total time=   0.1s\n",
            "[CV 3/5] END alpha=0.7, fit_prior=False, force_alpha=True;, score=0.866 total time=   0.1s\n",
            "[CV 4/5] END alpha=0.7, fit_prior=False, force_alpha=True;, score=0.866 total time=   0.1s\n",
            "[CV 5/5] END alpha=0.7, fit_prior=False, force_alpha=True;, score=0.873 total time=   0.1s\n",
            "[CV 1/5] END alpha=0.7, fit_prior=False, force_alpha=False;, score=0.867 total time=   0.1s\n",
            "[CV 2/5] END alpha=0.7, fit_prior=False, force_alpha=False;, score=0.862 total time=   0.1s\n",
            "[CV 3/5] END alpha=0.7, fit_prior=False, force_alpha=False;, score=0.866 total time=   0.1s\n",
            "[CV 4/5] END alpha=0.7, fit_prior=False, force_alpha=False;, score=0.866 total time=   0.1s\n",
            "[CV 5/5] END alpha=0.7, fit_prior=False, force_alpha=False;, score=0.873 total time=   0.1s\n",
            "[CV 1/5] END alpha=0.8, fit_prior=True, force_alpha=True;, score=0.867 total time=   0.1s\n",
            "[CV 2/5] END alpha=0.8, fit_prior=True, force_alpha=True;, score=0.863 total time=   0.1s\n",
            "[CV 3/5] END alpha=0.8, fit_prior=True, force_alpha=True;, score=0.867 total time=   0.1s\n",
            "[CV 4/5] END alpha=0.8, fit_prior=True, force_alpha=True;, score=0.866 total time=   0.1s\n",
            "[CV 5/5] END alpha=0.8, fit_prior=True, force_alpha=True;, score=0.873 total time=   0.1s\n",
            "[CV 1/5] END alpha=0.8, fit_prior=True, force_alpha=False;, score=0.867 total time=   0.1s\n",
            "[CV 2/5] END alpha=0.8, fit_prior=True, force_alpha=False;, score=0.863 total time=   0.1s\n",
            "[CV 3/5] END alpha=0.8, fit_prior=True, force_alpha=False;, score=0.867 total time=   0.1s\n",
            "[CV 4/5] END alpha=0.8, fit_prior=True, force_alpha=False;, score=0.866 total time=   0.1s\n",
            "[CV 5/5] END alpha=0.8, fit_prior=True, force_alpha=False;, score=0.873 total time=   0.1s\n",
            "[CV 1/5] END alpha=0.8, fit_prior=False, force_alpha=True;, score=0.867 total time=   0.1s\n",
            "[CV 2/5] END alpha=0.8, fit_prior=False, force_alpha=True;, score=0.863 total time=   0.1s\n",
            "[CV 3/5] END alpha=0.8, fit_prior=False, force_alpha=True;, score=0.867 total time=   0.1s\n",
            "[CV 4/5] END alpha=0.8, fit_prior=False, force_alpha=True;, score=0.866 total time=   0.1s\n",
            "[CV 5/5] END alpha=0.8, fit_prior=False, force_alpha=True;, score=0.873 total time=   0.1s\n",
            "[CV 1/5] END alpha=0.8, fit_prior=False, force_alpha=False;, score=0.867 total time=   0.1s\n",
            "[CV 2/5] END alpha=0.8, fit_prior=False, force_alpha=False;, score=0.863 total time=   0.1s\n",
            "[CV 3/5] END alpha=0.8, fit_prior=False, force_alpha=False;, score=0.867 total time=   0.1s\n",
            "[CV 4/5] END alpha=0.8, fit_prior=False, force_alpha=False;, score=0.866 total time=   0.1s\n",
            "[CV 5/5] END alpha=0.8, fit_prior=False, force_alpha=False;, score=0.873 total time=   0.1s\n",
            "[CV 1/5] END alpha=0.9, fit_prior=True, force_alpha=True;, score=0.866 total time=   0.1s\n",
            "[CV 2/5] END alpha=0.9, fit_prior=True, force_alpha=True;, score=0.863 total time=   0.1s\n",
            "[CV 3/5] END alpha=0.9, fit_prior=True, force_alpha=True;, score=0.867 total time=   0.1s\n",
            "[CV 4/5] END alpha=0.9, fit_prior=True, force_alpha=True;, score=0.866 total time=   0.1s\n",
            "[CV 5/5] END alpha=0.9, fit_prior=True, force_alpha=True;, score=0.872 total time=   0.1s\n",
            "[CV 1/5] END alpha=0.9, fit_prior=True, force_alpha=False;, score=0.866 total time=   0.1s\n",
            "[CV 2/5] END alpha=0.9, fit_prior=True, force_alpha=False;, score=0.863 total time=   0.1s\n",
            "[CV 3/5] END alpha=0.9, fit_prior=True, force_alpha=False;, score=0.867 total time=   0.1s\n",
            "[CV 4/5] END alpha=0.9, fit_prior=True, force_alpha=False;, score=0.866 total time=   0.1s\n",
            "[CV 5/5] END alpha=0.9, fit_prior=True, force_alpha=False;, score=0.872 total time=   0.1s\n",
            "[CV 1/5] END alpha=0.9, fit_prior=False, force_alpha=True;, score=0.866 total time=   0.1s\n",
            "[CV 2/5] END alpha=0.9, fit_prior=False, force_alpha=True;, score=0.863 total time=   0.1s\n",
            "[CV 3/5] END alpha=0.9, fit_prior=False, force_alpha=True;, score=0.867 total time=   0.1s\n",
            "[CV 4/5] END alpha=0.9, fit_prior=False, force_alpha=True;, score=0.866 total time=   0.1s\n",
            "[CV 5/5] END alpha=0.9, fit_prior=False, force_alpha=True;, score=0.872 total time=   0.1s\n",
            "[CV 1/5] END alpha=0.9, fit_prior=False, force_alpha=False;, score=0.866 total time=   0.1s\n",
            "[CV 2/5] END alpha=0.9, fit_prior=False, force_alpha=False;, score=0.863 total time=   0.1s\n",
            "[CV 3/5] END alpha=0.9, fit_prior=False, force_alpha=False;, score=0.867 total time=   0.1s\n",
            "[CV 4/5] END alpha=0.9, fit_prior=False, force_alpha=False;, score=0.866 total time=   0.1s\n",
            "[CV 5/5] END alpha=0.9, fit_prior=False, force_alpha=False;, score=0.872 total time=   0.1s\n",
            "[CV 1/5] END alpha=1.0, fit_prior=True, force_alpha=True;, score=0.866 total time=   0.1s\n",
            "[CV 2/5] END alpha=1.0, fit_prior=True, force_alpha=True;, score=0.863 total time=   0.1s\n",
            "[CV 3/5] END alpha=1.0, fit_prior=True, force_alpha=True;, score=0.867 total time=   0.1s\n",
            "[CV 4/5] END alpha=1.0, fit_prior=True, force_alpha=True;, score=0.866 total time=   0.1s\n",
            "[CV 5/5] END alpha=1.0, fit_prior=True, force_alpha=True;, score=0.872 total time=   0.1s\n",
            "[CV 1/5] END alpha=1.0, fit_prior=True, force_alpha=False;, score=0.866 total time=   0.1s\n",
            "[CV 2/5] END alpha=1.0, fit_prior=True, force_alpha=False;, score=0.863 total time=   0.1s\n",
            "[CV 3/5] END alpha=1.0, fit_prior=True, force_alpha=False;, score=0.867 total time=   0.1s\n",
            "[CV 4/5] END alpha=1.0, fit_prior=True, force_alpha=False;, score=0.866 total time=   0.1s\n",
            "[CV 5/5] END alpha=1.0, fit_prior=True, force_alpha=False;, score=0.872 total time=   0.2s\n",
            "[CV 1/5] END alpha=1.0, fit_prior=False, force_alpha=True;, score=0.866 total time=   0.2s\n",
            "[CV 2/5] END alpha=1.0, fit_prior=False, force_alpha=True;, score=0.863 total time=   0.2s\n",
            "[CV 3/5] END alpha=1.0, fit_prior=False, force_alpha=True;, score=0.867 total time=   0.1s\n",
            "[CV 4/5] END alpha=1.0, fit_prior=False, force_alpha=True;, score=0.866 total time=   0.2s\n",
            "[CV 5/5] END alpha=1.0, fit_prior=False, force_alpha=True;, score=0.872 total time=   0.2s\n",
            "[CV 1/5] END alpha=1.0, fit_prior=False, force_alpha=False;, score=0.866 total time=   0.2s\n",
            "[CV 2/5] END alpha=1.0, fit_prior=False, force_alpha=False;, score=0.863 total time=   0.1s\n",
            "[CV 3/5] END alpha=1.0, fit_prior=False, force_alpha=False;, score=0.867 total time=   0.1s\n",
            "[CV 4/5] END alpha=1.0, fit_prior=False, force_alpha=False;, score=0.866 total time=   0.1s\n",
            "[CV 5/5] END alpha=1.0, fit_prior=False, force_alpha=False;, score=0.872 total time=   0.2s\n"
          ]
        }
      ]
    },
    {
      "cell_type": "code",
      "source": [
        "# best parameters\n",
        "best_clf.best_params_"
      ],
      "metadata": {
        "colab": {
          "base_uri": "https://localhost:8080/"
        },
        "outputId": "d5506b95-9af2-4103-fc6b-f47591b04c95",
        "id": "Z-zQhETGwaA4"
      },
      "execution_count": 56,
      "outputs": [
        {
          "output_type": "execute_result",
          "data": {
            "text/plain": [
              "{'alpha': 0.8, 'fit_prior': True, 'force_alpha': True}"
            ]
          },
          "metadata": {},
          "execution_count": 56
        }
      ]
    },
    {
      "cell_type": "code",
      "source": [
        "# highest accuracy score\n",
        "best_clf.best_score_"
      ],
      "metadata": {
        "colab": {
          "base_uri": "https://localhost:8080/"
        },
        "outputId": "c347f29a-a738-4ca0-b03a-f51afa41c592",
        "id": "HSTSgzTxwaA4"
      },
      "execution_count": 57,
      "outputs": [
        {
          "output_type": "execute_result",
          "data": {
            "text/plain": [
              "0.8670500000000001"
            ]
          },
          "metadata": {},
          "execution_count": 57
        }
      ]
    },
    {
      "cell_type": "code",
      "source": [
        "best_nb = MultinomialNB(alpha = 0.8, fit_prior = True, force_alpha = True)"
      ],
      "metadata": {
        "id": "CNfl_43jwmb3"
      },
      "execution_count": 58,
      "outputs": []
    },
    {
      "cell_type": "code",
      "source": [
        "train_and_eval(best_nb, class2_tfidf_X_train, class2_y_train, class2_tfidf_X_test, class2_y_test)"
      ],
      "metadata": {
        "colab": {
          "base_uri": "https://localhost:8080/"
        },
        "id": "--ctDXx7wuOm",
        "outputId": "98cac220-3dcb-4c04-f6a7-d34401f3d976"
      },
      "execution_count": 59,
      "outputs": [
        {
          "output_type": "stream",
          "name": "stdout",
          "text": [
            "\n",
            "MultinomialNB(alpha=0.8, force_alpha=True)\n",
            "Train accuracy score : 0.921475\n",
            "Test accuracy score : 0.8678867886788679\n",
            "              precision    recall  f1-score   support\n",
            "\n",
            "           0       0.86      0.88      0.87      5000\n",
            "           1       0.88      0.86      0.87      4999\n",
            "\n",
            "    accuracy                           0.87      9999\n",
            "   macro avg       0.87      0.87      0.87      9999\n",
            "weighted avg       0.87      0.87      0.87      9999\n",
            "\n",
            "\n",
            " ----------------------------------------\n"
          ]
        }
      ]
    },
    {
      "cell_type": "markdown",
      "source": [
        "Best Multinomial Naive Bayes with TF-IDF gives us 86.8% accuracy on test data"
      ],
      "metadata": {
        "id": "Bu_5xpCzxT10"
      }
    },
    {
      "cell_type": "markdown",
      "source": [
        "# Tuning Naive Bayes and changing TF-IDF parameters"
      ],
      "metadata": {
        "id": "tcSCrH1EQSg6"
      }
    },
    {
      "cell_type": "code",
      "source": [
        "# ngram_range=(1, 3): This tells the vectorizer to consider unigrams, bigrams, and trigrams\n",
        "# min_df=2: This means an n-gram must appear in at least two documents to be considered. This helps in removing very rare n-grams that might not be useful for modeling.\n",
        "# max_df=0.85: This means an n-gram appearing in more than 85% of the documents will be ignored, helping in filtering out too common n-grams.\n",
        "tfidf_vectorizer = TfidfVectorizer(ngram_range=(1, 3), min_df=2, max_df=0.85)\n",
        "tfidf_vectorizer.fit(class2_X_train)\n",
        "\n",
        "class2_tfidf_X_train = tfidf_vectorizer.transform(class2_X_train)\n",
        "class2_tfidf_X_test = tfidf_vectorizer.transform(class2_X_test)"
      ],
      "metadata": {
        "id": "K6LOD-a7QXqk"
      },
      "execution_count": null,
      "outputs": []
    },
    {
      "cell_type": "code",
      "source": [
        "param_grid = {\n",
        "    'alpha': [0.0, 0.1, 0.2, 0.3, 0.4, 0.5, 0.6, 0.7, 0.8, 0.9, 1.0],\n",
        "    'force_alpha': [True, False],\n",
        "    'fit_prior': [True, False]\n",
        "}"
      ],
      "metadata": {
        "id": "PQ38qmDtQ4gT"
      },
      "execution_count": 28,
      "outputs": []
    },
    {
      "cell_type": "code",
      "source": [
        "nb_model = MultinomialNB()\n",
        "clf = GridSearchCV(nb_model, param_grid=param_grid, cv=5, verbose=4, scoring='accuracy')"
      ],
      "metadata": {
        "id": "609VKV4VQ_HM"
      },
      "execution_count": 29,
      "outputs": []
    },
    {
      "cell_type": "code",
      "source": [
        "best_clf = clf.fit(class2_tfidf_X_train, class2_y_train)"
      ],
      "metadata": {
        "colab": {
          "base_uri": "https://localhost:8080/"
        },
        "outputId": "e2ae3aaa-2eb6-44be-d25f-1d4a7ad9ad0e",
        "id": "7QSqn2_XQ_HM"
      },
      "execution_count": 30,
      "outputs": [
        {
          "output_type": "stream",
          "name": "stdout",
          "text": [
            "Fitting 5 folds for each of 44 candidates, totalling 220 fits\n"
          ]
        },
        {
          "output_type": "stream",
          "name": "stderr",
          "text": [
            "/usr/local/lib/python3.10/dist-packages/sklearn/naive_bayes.py:907: RuntimeWarning: divide by zero encountered in log\n",
            "  self.feature_log_prob_ = np.log(smoothed_fc) - np.log(\n"
          ]
        },
        {
          "output_type": "stream",
          "name": "stdout",
          "text": [
            "[CV 1/5] END alpha=0.0, fit_prior=True, force_alpha=True;, score=0.504 total time=   0.4s\n"
          ]
        },
        {
          "output_type": "stream",
          "name": "stderr",
          "text": [
            "/usr/local/lib/python3.10/dist-packages/sklearn/naive_bayes.py:907: RuntimeWarning: divide by zero encountered in log\n",
            "  self.feature_log_prob_ = np.log(smoothed_fc) - np.log(\n"
          ]
        },
        {
          "output_type": "stream",
          "name": "stdout",
          "text": [
            "[CV 2/5] END alpha=0.0, fit_prior=True, force_alpha=True;, score=0.505 total time=   0.3s\n"
          ]
        },
        {
          "output_type": "stream",
          "name": "stderr",
          "text": [
            "/usr/local/lib/python3.10/dist-packages/sklearn/naive_bayes.py:907: RuntimeWarning: divide by zero encountered in log\n",
            "  self.feature_log_prob_ = np.log(smoothed_fc) - np.log(\n"
          ]
        },
        {
          "output_type": "stream",
          "name": "stdout",
          "text": [
            "[CV 3/5] END alpha=0.0, fit_prior=True, force_alpha=True;, score=0.505 total time=   0.3s\n"
          ]
        },
        {
          "output_type": "stream",
          "name": "stderr",
          "text": [
            "/usr/local/lib/python3.10/dist-packages/sklearn/naive_bayes.py:907: RuntimeWarning: divide by zero encountered in log\n",
            "  self.feature_log_prob_ = np.log(smoothed_fc) - np.log(\n"
          ]
        },
        {
          "output_type": "stream",
          "name": "stdout",
          "text": [
            "[CV 4/5] END alpha=0.0, fit_prior=True, force_alpha=True;, score=0.505 total time=   0.3s\n"
          ]
        },
        {
          "output_type": "stream",
          "name": "stderr",
          "text": [
            "/usr/local/lib/python3.10/dist-packages/sklearn/naive_bayes.py:907: RuntimeWarning: divide by zero encountered in log\n",
            "  self.feature_log_prob_ = np.log(smoothed_fc) - np.log(\n"
          ]
        },
        {
          "output_type": "stream",
          "name": "stdout",
          "text": [
            "[CV 5/5] END alpha=0.0, fit_prior=True, force_alpha=True;, score=0.508 total time=   0.3s\n"
          ]
        },
        {
          "output_type": "stream",
          "name": "stderr",
          "text": [
            "/usr/local/lib/python3.10/dist-packages/sklearn/naive_bayes.py:635: UserWarning: alpha too small will result in numeric errors, setting alpha = 1.0e-10. Use `force_alpha=True` to keep alpha unchanged.\n",
            "  warnings.warn(\n"
          ]
        },
        {
          "output_type": "stream",
          "name": "stdout",
          "text": [
            "[CV 1/5] END alpha=0.0, fit_prior=True, force_alpha=False;, score=0.841 total time=   0.3s\n"
          ]
        },
        {
          "output_type": "stream",
          "name": "stderr",
          "text": [
            "/usr/local/lib/python3.10/dist-packages/sklearn/naive_bayes.py:635: UserWarning: alpha too small will result in numeric errors, setting alpha = 1.0e-10. Use `force_alpha=True` to keep alpha unchanged.\n",
            "  warnings.warn(\n"
          ]
        },
        {
          "output_type": "stream",
          "name": "stdout",
          "text": [
            "[CV 2/5] END alpha=0.0, fit_prior=True, force_alpha=False;, score=0.842 total time=   0.3s\n"
          ]
        },
        {
          "output_type": "stream",
          "name": "stderr",
          "text": [
            "/usr/local/lib/python3.10/dist-packages/sklearn/naive_bayes.py:635: UserWarning: alpha too small will result in numeric errors, setting alpha = 1.0e-10. Use `force_alpha=True` to keep alpha unchanged.\n",
            "  warnings.warn(\n"
          ]
        },
        {
          "output_type": "stream",
          "name": "stdout",
          "text": [
            "[CV 3/5] END alpha=0.0, fit_prior=True, force_alpha=False;, score=0.848 total time=   0.3s\n"
          ]
        },
        {
          "output_type": "stream",
          "name": "stderr",
          "text": [
            "/usr/local/lib/python3.10/dist-packages/sklearn/naive_bayes.py:635: UserWarning: alpha too small will result in numeric errors, setting alpha = 1.0e-10. Use `force_alpha=True` to keep alpha unchanged.\n",
            "  warnings.warn(\n"
          ]
        },
        {
          "output_type": "stream",
          "name": "stdout",
          "text": [
            "[CV 4/5] END alpha=0.0, fit_prior=True, force_alpha=False;, score=0.843 total time=   0.3s\n"
          ]
        },
        {
          "output_type": "stream",
          "name": "stderr",
          "text": [
            "/usr/local/lib/python3.10/dist-packages/sklearn/naive_bayes.py:635: UserWarning: alpha too small will result in numeric errors, setting alpha = 1.0e-10. Use `force_alpha=True` to keep alpha unchanged.\n",
            "  warnings.warn(\n"
          ]
        },
        {
          "output_type": "stream",
          "name": "stdout",
          "text": [
            "[CV 5/5] END alpha=0.0, fit_prior=True, force_alpha=False;, score=0.846 total time=   0.3s\n"
          ]
        },
        {
          "output_type": "stream",
          "name": "stderr",
          "text": [
            "/usr/local/lib/python3.10/dist-packages/sklearn/naive_bayes.py:907: RuntimeWarning: divide by zero encountered in log\n",
            "  self.feature_log_prob_ = np.log(smoothed_fc) - np.log(\n"
          ]
        },
        {
          "output_type": "stream",
          "name": "stdout",
          "text": [
            "[CV 1/5] END alpha=0.0, fit_prior=False, force_alpha=True;, score=0.504 total time=   0.3s\n"
          ]
        },
        {
          "output_type": "stream",
          "name": "stderr",
          "text": [
            "/usr/local/lib/python3.10/dist-packages/sklearn/naive_bayes.py:907: RuntimeWarning: divide by zero encountered in log\n",
            "  self.feature_log_prob_ = np.log(smoothed_fc) - np.log(\n"
          ]
        },
        {
          "output_type": "stream",
          "name": "stdout",
          "text": [
            "[CV 2/5] END alpha=0.0, fit_prior=False, force_alpha=True;, score=0.505 total time=   0.3s\n"
          ]
        },
        {
          "output_type": "stream",
          "name": "stderr",
          "text": [
            "/usr/local/lib/python3.10/dist-packages/sklearn/naive_bayes.py:907: RuntimeWarning: divide by zero encountered in log\n",
            "  self.feature_log_prob_ = np.log(smoothed_fc) - np.log(\n"
          ]
        },
        {
          "output_type": "stream",
          "name": "stdout",
          "text": [
            "[CV 3/5] END alpha=0.0, fit_prior=False, force_alpha=True;, score=0.505 total time=   0.4s\n"
          ]
        },
        {
          "output_type": "stream",
          "name": "stderr",
          "text": [
            "/usr/local/lib/python3.10/dist-packages/sklearn/naive_bayes.py:907: RuntimeWarning: divide by zero encountered in log\n",
            "  self.feature_log_prob_ = np.log(smoothed_fc) - np.log(\n"
          ]
        },
        {
          "output_type": "stream",
          "name": "stdout",
          "text": [
            "[CV 4/5] END alpha=0.0, fit_prior=False, force_alpha=True;, score=0.505 total time=   0.3s\n"
          ]
        },
        {
          "output_type": "stream",
          "name": "stderr",
          "text": [
            "/usr/local/lib/python3.10/dist-packages/sklearn/naive_bayes.py:907: RuntimeWarning: divide by zero encountered in log\n",
            "  self.feature_log_prob_ = np.log(smoothed_fc) - np.log(\n"
          ]
        },
        {
          "output_type": "stream",
          "name": "stdout",
          "text": [
            "[CV 5/5] END alpha=0.0, fit_prior=False, force_alpha=True;, score=0.508 total time=   0.3s\n"
          ]
        },
        {
          "output_type": "stream",
          "name": "stderr",
          "text": [
            "/usr/local/lib/python3.10/dist-packages/sklearn/naive_bayes.py:635: UserWarning: alpha too small will result in numeric errors, setting alpha = 1.0e-10. Use `force_alpha=True` to keep alpha unchanged.\n",
            "  warnings.warn(\n"
          ]
        },
        {
          "output_type": "stream",
          "name": "stdout",
          "text": [
            "[CV 1/5] END alpha=0.0, fit_prior=False, force_alpha=False;, score=0.841 total time=   0.3s\n"
          ]
        },
        {
          "output_type": "stream",
          "name": "stderr",
          "text": [
            "/usr/local/lib/python3.10/dist-packages/sklearn/naive_bayes.py:635: UserWarning: alpha too small will result in numeric errors, setting alpha = 1.0e-10. Use `force_alpha=True` to keep alpha unchanged.\n",
            "  warnings.warn(\n"
          ]
        },
        {
          "output_type": "stream",
          "name": "stdout",
          "text": [
            "[CV 2/5] END alpha=0.0, fit_prior=False, force_alpha=False;, score=0.842 total time=   0.3s\n"
          ]
        },
        {
          "output_type": "stream",
          "name": "stderr",
          "text": [
            "/usr/local/lib/python3.10/dist-packages/sklearn/naive_bayes.py:635: UserWarning: alpha too small will result in numeric errors, setting alpha = 1.0e-10. Use `force_alpha=True` to keep alpha unchanged.\n",
            "  warnings.warn(\n"
          ]
        },
        {
          "output_type": "stream",
          "name": "stdout",
          "text": [
            "[CV 3/5] END alpha=0.0, fit_prior=False, force_alpha=False;, score=0.848 total time=   0.3s\n"
          ]
        },
        {
          "output_type": "stream",
          "name": "stderr",
          "text": [
            "/usr/local/lib/python3.10/dist-packages/sklearn/naive_bayes.py:635: UserWarning: alpha too small will result in numeric errors, setting alpha = 1.0e-10. Use `force_alpha=True` to keep alpha unchanged.\n",
            "  warnings.warn(\n"
          ]
        },
        {
          "output_type": "stream",
          "name": "stdout",
          "text": [
            "[CV 4/5] END alpha=0.0, fit_prior=False, force_alpha=False;, score=0.843 total time=   0.3s\n"
          ]
        },
        {
          "output_type": "stream",
          "name": "stderr",
          "text": [
            "/usr/local/lib/python3.10/dist-packages/sklearn/naive_bayes.py:635: UserWarning: alpha too small will result in numeric errors, setting alpha = 1.0e-10. Use `force_alpha=True` to keep alpha unchanged.\n",
            "  warnings.warn(\n"
          ]
        },
        {
          "output_type": "stream",
          "name": "stdout",
          "text": [
            "[CV 5/5] END alpha=0.0, fit_prior=False, force_alpha=False;, score=0.846 total time=   0.3s\n",
            "[CV 1/5] END alpha=0.1, fit_prior=True, force_alpha=True;, score=0.902 total time=   0.3s\n",
            "[CV 2/5] END alpha=0.1, fit_prior=True, force_alpha=True;, score=0.895 total time=   0.3s\n",
            "[CV 3/5] END alpha=0.1, fit_prior=True, force_alpha=True;, score=0.899 total time=   0.3s\n",
            "[CV 4/5] END alpha=0.1, fit_prior=True, force_alpha=True;, score=0.896 total time=   0.4s\n",
            "[CV 5/5] END alpha=0.1, fit_prior=True, force_alpha=True;, score=0.902 total time=   0.5s\n",
            "[CV 1/5] END alpha=0.1, fit_prior=True, force_alpha=False;, score=0.902 total time=   0.5s\n",
            "[CV 2/5] END alpha=0.1, fit_prior=True, force_alpha=False;, score=0.895 total time=   0.5s\n",
            "[CV 3/5] END alpha=0.1, fit_prior=True, force_alpha=False;, score=0.899 total time=   0.5s\n",
            "[CV 4/5] END alpha=0.1, fit_prior=True, force_alpha=False;, score=0.896 total time=   0.5s\n",
            "[CV 5/5] END alpha=0.1, fit_prior=True, force_alpha=False;, score=0.902 total time=   0.3s\n",
            "[CV 1/5] END alpha=0.1, fit_prior=False, force_alpha=True;, score=0.902 total time=   0.3s\n",
            "[CV 2/5] END alpha=0.1, fit_prior=False, force_alpha=True;, score=0.895 total time=   0.3s\n",
            "[CV 3/5] END alpha=0.1, fit_prior=False, force_alpha=True;, score=0.899 total time=   0.3s\n",
            "[CV 4/5] END alpha=0.1, fit_prior=False, force_alpha=True;, score=0.896 total time=   0.3s\n",
            "[CV 5/5] END alpha=0.1, fit_prior=False, force_alpha=True;, score=0.902 total time=   0.3s\n",
            "[CV 1/5] END alpha=0.1, fit_prior=False, force_alpha=False;, score=0.902 total time=   0.3s\n",
            "[CV 2/5] END alpha=0.1, fit_prior=False, force_alpha=False;, score=0.895 total time=   0.3s\n",
            "[CV 3/5] END alpha=0.1, fit_prior=False, force_alpha=False;, score=0.899 total time=   0.3s\n",
            "[CV 4/5] END alpha=0.1, fit_prior=False, force_alpha=False;, score=0.896 total time=   0.3s\n",
            "[CV 5/5] END alpha=0.1, fit_prior=False, force_alpha=False;, score=0.902 total time=   0.3s\n",
            "[CV 1/5] END alpha=0.2, fit_prior=True, force_alpha=True;, score=0.902 total time=   0.3s\n",
            "[CV 2/5] END alpha=0.2, fit_prior=True, force_alpha=True;, score=0.894 total time=   0.3s\n",
            "[CV 3/5] END alpha=0.2, fit_prior=True, force_alpha=True;, score=0.898 total time=   0.3s\n",
            "[CV 4/5] END alpha=0.2, fit_prior=True, force_alpha=True;, score=0.898 total time=   0.3s\n",
            "[CV 5/5] END alpha=0.2, fit_prior=True, force_alpha=True;, score=0.904 total time=   0.3s\n",
            "[CV 1/5] END alpha=0.2, fit_prior=True, force_alpha=False;, score=0.902 total time=   0.3s\n",
            "[CV 2/5] END alpha=0.2, fit_prior=True, force_alpha=False;, score=0.894 total time=   0.3s\n",
            "[CV 3/5] END alpha=0.2, fit_prior=True, force_alpha=False;, score=0.898 total time=   0.3s\n",
            "[CV 4/5] END alpha=0.2, fit_prior=True, force_alpha=False;, score=0.898 total time=   0.3s\n",
            "[CV 5/5] END alpha=0.2, fit_prior=True, force_alpha=False;, score=0.904 total time=   0.3s\n",
            "[CV 1/5] END alpha=0.2, fit_prior=False, force_alpha=True;, score=0.902 total time=   0.3s\n",
            "[CV 2/5] END alpha=0.2, fit_prior=False, force_alpha=True;, score=0.894 total time=   0.3s\n",
            "[CV 3/5] END alpha=0.2, fit_prior=False, force_alpha=True;, score=0.898 total time=   0.3s\n",
            "[CV 4/5] END alpha=0.2, fit_prior=False, force_alpha=True;, score=0.898 total time=   0.3s\n",
            "[CV 5/5] END alpha=0.2, fit_prior=False, force_alpha=True;, score=0.904 total time=   0.7s\n",
            "[CV 1/5] END alpha=0.2, fit_prior=False, force_alpha=False;, score=0.902 total time=   0.3s\n",
            "[CV 2/5] END alpha=0.2, fit_prior=False, force_alpha=False;, score=0.894 total time=   0.3s\n",
            "[CV 3/5] END alpha=0.2, fit_prior=False, force_alpha=False;, score=0.898 total time=   0.3s\n",
            "[CV 4/5] END alpha=0.2, fit_prior=False, force_alpha=False;, score=0.898 total time=   0.3s\n",
            "[CV 5/5] END alpha=0.2, fit_prior=False, force_alpha=False;, score=0.904 total time=   0.5s\n",
            "[CV 1/5] END alpha=0.3, fit_prior=True, force_alpha=True;, score=0.901 total time=   0.5s\n",
            "[CV 2/5] END alpha=0.3, fit_prior=True, force_alpha=True;, score=0.892 total time=   0.5s\n",
            "[CV 3/5] END alpha=0.3, fit_prior=True, force_alpha=True;, score=0.898 total time=   0.5s\n",
            "[CV 4/5] END alpha=0.3, fit_prior=True, force_alpha=True;, score=0.896 total time=   0.5s\n",
            "[CV 5/5] END alpha=0.3, fit_prior=True, force_alpha=True;, score=0.904 total time=   0.4s\n",
            "[CV 1/5] END alpha=0.3, fit_prior=True, force_alpha=False;, score=0.901 total time=   0.3s\n",
            "[CV 2/5] END alpha=0.3, fit_prior=True, force_alpha=False;, score=0.892 total time=   0.3s\n",
            "[CV 3/5] END alpha=0.3, fit_prior=True, force_alpha=False;, score=0.898 total time=   0.3s\n",
            "[CV 4/5] END alpha=0.3, fit_prior=True, force_alpha=False;, score=0.896 total time=   0.3s\n",
            "[CV 5/5] END alpha=0.3, fit_prior=True, force_alpha=False;, score=0.904 total time=   0.3s\n",
            "[CV 1/5] END alpha=0.3, fit_prior=False, force_alpha=True;, score=0.901 total time=   0.3s\n",
            "[CV 2/5] END alpha=0.3, fit_prior=False, force_alpha=True;, score=0.892 total time=   0.3s\n",
            "[CV 3/5] END alpha=0.3, fit_prior=False, force_alpha=True;, score=0.898 total time=   0.3s\n",
            "[CV 4/5] END alpha=0.3, fit_prior=False, force_alpha=True;, score=0.896 total time=   0.3s\n",
            "[CV 5/5] END alpha=0.3, fit_prior=False, force_alpha=True;, score=0.904 total time=   0.3s\n",
            "[CV 1/5] END alpha=0.3, fit_prior=False, force_alpha=False;, score=0.901 total time=   0.3s\n",
            "[CV 2/5] END alpha=0.3, fit_prior=False, force_alpha=False;, score=0.892 total time=   0.3s\n",
            "[CV 3/5] END alpha=0.3, fit_prior=False, force_alpha=False;, score=0.898 total time=   0.3s\n",
            "[CV 4/5] END alpha=0.3, fit_prior=False, force_alpha=False;, score=0.896 total time=   0.3s\n",
            "[CV 5/5] END alpha=0.3, fit_prior=False, force_alpha=False;, score=0.904 total time=   0.3s\n",
            "[CV 1/5] END alpha=0.4, fit_prior=True, force_alpha=True;, score=0.900 total time=   0.3s\n",
            "[CV 2/5] END alpha=0.4, fit_prior=True, force_alpha=True;, score=0.892 total time=   0.3s\n",
            "[CV 3/5] END alpha=0.4, fit_prior=True, force_alpha=True;, score=0.898 total time=   0.3s\n",
            "[CV 4/5] END alpha=0.4, fit_prior=True, force_alpha=True;, score=0.895 total time=   0.3s\n",
            "[CV 5/5] END alpha=0.4, fit_prior=True, force_alpha=True;, score=0.904 total time=   0.3s\n",
            "[CV 1/5] END alpha=0.4, fit_prior=True, force_alpha=False;, score=0.900 total time=   0.3s\n",
            "[CV 2/5] END alpha=0.4, fit_prior=True, force_alpha=False;, score=0.892 total time=   0.3s\n",
            "[CV 3/5] END alpha=0.4, fit_prior=True, force_alpha=False;, score=0.898 total time=   0.3s\n",
            "[CV 4/5] END alpha=0.4, fit_prior=True, force_alpha=False;, score=0.895 total time=   0.3s\n",
            "[CV 5/5] END alpha=0.4, fit_prior=True, force_alpha=False;, score=0.904 total time=   0.3s\n",
            "[CV 1/5] END alpha=0.4, fit_prior=False, force_alpha=True;, score=0.900 total time=   0.3s\n",
            "[CV 2/5] END alpha=0.4, fit_prior=False, force_alpha=True;, score=0.892 total time=   0.3s\n",
            "[CV 3/5] END alpha=0.4, fit_prior=False, force_alpha=True;, score=0.898 total time=   0.3s\n",
            "[CV 4/5] END alpha=0.4, fit_prior=False, force_alpha=True;, score=0.895 total time=   0.3s\n",
            "[CV 5/5] END alpha=0.4, fit_prior=False, force_alpha=True;, score=0.904 total time=   0.3s\n",
            "[CV 1/5] END alpha=0.4, fit_prior=False, force_alpha=False;, score=0.900 total time=   0.3s\n",
            "[CV 2/5] END alpha=0.4, fit_prior=False, force_alpha=False;, score=0.892 total time=   0.5s\n",
            "[CV 3/5] END alpha=0.4, fit_prior=False, force_alpha=False;, score=0.898 total time=   0.5s\n",
            "[CV 4/5] END alpha=0.4, fit_prior=False, force_alpha=False;, score=0.895 total time=   0.6s\n",
            "[CV 5/5] END alpha=0.4, fit_prior=False, force_alpha=False;, score=0.904 total time=   0.5s\n",
            "[CV 1/5] END alpha=0.5, fit_prior=True, force_alpha=True;, score=0.898 total time=   0.6s\n",
            "[CV 2/5] END alpha=0.5, fit_prior=True, force_alpha=True;, score=0.892 total time=   0.6s\n",
            "[CV 3/5] END alpha=0.5, fit_prior=True, force_alpha=True;, score=0.897 total time=   0.5s\n",
            "[CV 4/5] END alpha=0.5, fit_prior=True, force_alpha=True;, score=0.895 total time=   1.3s\n",
            "[CV 5/5] END alpha=0.5, fit_prior=True, force_alpha=True;, score=0.903 total time=   0.5s\n",
            "[CV 1/5] END alpha=0.5, fit_prior=True, force_alpha=False;, score=0.898 total time=   0.5s\n",
            "[CV 2/5] END alpha=0.5, fit_prior=True, force_alpha=False;, score=0.892 total time=   0.3s\n",
            "[CV 3/5] END alpha=0.5, fit_prior=True, force_alpha=False;, score=0.897 total time=   0.3s\n",
            "[CV 4/5] END alpha=0.5, fit_prior=True, force_alpha=False;, score=0.895 total time=   0.3s\n",
            "[CV 5/5] END alpha=0.5, fit_prior=True, force_alpha=False;, score=0.903 total time=   0.3s\n",
            "[CV 1/5] END alpha=0.5, fit_prior=False, force_alpha=True;, score=0.898 total time=   0.3s\n",
            "[CV 2/5] END alpha=0.5, fit_prior=False, force_alpha=True;, score=0.892 total time=   0.3s\n",
            "[CV 3/5] END alpha=0.5, fit_prior=False, force_alpha=True;, score=0.897 total time=   0.3s\n",
            "[CV 4/5] END alpha=0.5, fit_prior=False, force_alpha=True;, score=0.895 total time=   0.3s\n",
            "[CV 5/5] END alpha=0.5, fit_prior=False, force_alpha=True;, score=0.903 total time=   0.3s\n",
            "[CV 1/5] END alpha=0.5, fit_prior=False, force_alpha=False;, score=0.898 total time=   0.3s\n",
            "[CV 2/5] END alpha=0.5, fit_prior=False, force_alpha=False;, score=0.892 total time=   0.3s\n",
            "[CV 3/5] END alpha=0.5, fit_prior=False, force_alpha=False;, score=0.897 total time=   0.3s\n",
            "[CV 4/5] END alpha=0.5, fit_prior=False, force_alpha=False;, score=0.895 total time=   0.3s\n",
            "[CV 5/5] END alpha=0.5, fit_prior=False, force_alpha=False;, score=0.903 total time=   0.3s\n",
            "[CV 1/5] END alpha=0.6, fit_prior=True, force_alpha=True;, score=0.897 total time=   0.3s\n",
            "[CV 2/5] END alpha=0.6, fit_prior=True, force_alpha=True;, score=0.891 total time=   0.3s\n",
            "[CV 3/5] END alpha=0.6, fit_prior=True, force_alpha=True;, score=0.897 total time=   0.3s\n",
            "[CV 4/5] END alpha=0.6, fit_prior=True, force_alpha=True;, score=0.895 total time=   0.3s\n",
            "[CV 5/5] END alpha=0.6, fit_prior=True, force_alpha=True;, score=0.902 total time=   0.3s\n",
            "[CV 1/5] END alpha=0.6, fit_prior=True, force_alpha=False;, score=0.897 total time=   0.3s\n",
            "[CV 2/5] END alpha=0.6, fit_prior=True, force_alpha=False;, score=0.891 total time=   0.3s\n",
            "[CV 3/5] END alpha=0.6, fit_prior=True, force_alpha=False;, score=0.897 total time=   0.4s\n",
            "[CV 4/5] END alpha=0.6, fit_prior=True, force_alpha=False;, score=0.895 total time=   0.5s\n",
            "[CV 5/5] END alpha=0.6, fit_prior=True, force_alpha=False;, score=0.902 total time=   0.5s\n",
            "[CV 1/5] END alpha=0.6, fit_prior=False, force_alpha=True;, score=0.897 total time=   0.5s\n",
            "[CV 2/5] END alpha=0.6, fit_prior=False, force_alpha=True;, score=0.891 total time=   0.5s\n",
            "[CV 3/5] END alpha=0.6, fit_prior=False, force_alpha=True;, score=0.897 total time=   0.5s\n",
            "[CV 4/5] END alpha=0.6, fit_prior=False, force_alpha=True;, score=0.895 total time=   0.3s\n",
            "[CV 5/5] END alpha=0.6, fit_prior=False, force_alpha=True;, score=0.902 total time=   0.3s\n",
            "[CV 1/5] END alpha=0.6, fit_prior=False, force_alpha=False;, score=0.897 total time=   0.3s\n",
            "[CV 2/5] END alpha=0.6, fit_prior=False, force_alpha=False;, score=0.891 total time=   0.3s\n",
            "[CV 3/5] END alpha=0.6, fit_prior=False, force_alpha=False;, score=0.897 total time=   0.3s\n",
            "[CV 4/5] END alpha=0.6, fit_prior=False, force_alpha=False;, score=0.895 total time=   0.3s\n",
            "[CV 5/5] END alpha=0.6, fit_prior=False, force_alpha=False;, score=0.902 total time=   0.3s\n",
            "[CV 1/5] END alpha=0.7, fit_prior=True, force_alpha=True;, score=0.897 total time=   0.3s\n",
            "[CV 2/5] END alpha=0.7, fit_prior=True, force_alpha=True;, score=0.889 total time=   0.3s\n",
            "[CV 3/5] END alpha=0.7, fit_prior=True, force_alpha=True;, score=0.897 total time=   0.3s\n",
            "[CV 4/5] END alpha=0.7, fit_prior=True, force_alpha=True;, score=0.895 total time=   0.3s\n",
            "[CV 5/5] END alpha=0.7, fit_prior=True, force_alpha=True;, score=0.902 total time=   0.3s\n",
            "[CV 1/5] END alpha=0.7, fit_prior=True, force_alpha=False;, score=0.897 total time=   0.3s\n",
            "[CV 2/5] END alpha=0.7, fit_prior=True, force_alpha=False;, score=0.889 total time=   0.3s\n",
            "[CV 3/5] END alpha=0.7, fit_prior=True, force_alpha=False;, score=0.897 total time=   0.3s\n",
            "[CV 4/5] END alpha=0.7, fit_prior=True, force_alpha=False;, score=0.895 total time=   0.3s\n",
            "[CV 5/5] END alpha=0.7, fit_prior=True, force_alpha=False;, score=0.902 total time=   0.3s\n",
            "[CV 1/5] END alpha=0.7, fit_prior=False, force_alpha=True;, score=0.897 total time=   0.3s\n",
            "[CV 2/5] END alpha=0.7, fit_prior=False, force_alpha=True;, score=0.889 total time=   0.3s\n",
            "[CV 3/5] END alpha=0.7, fit_prior=False, force_alpha=True;, score=0.897 total time=   0.3s\n",
            "[CV 4/5] END alpha=0.7, fit_prior=False, force_alpha=True;, score=0.895 total time=   0.3s\n",
            "[CV 5/5] END alpha=0.7, fit_prior=False, force_alpha=True;, score=0.902 total time=   0.3s\n",
            "[CV 1/5] END alpha=0.7, fit_prior=False, force_alpha=False;, score=0.897 total time=   0.3s\n",
            "[CV 2/5] END alpha=0.7, fit_prior=False, force_alpha=False;, score=0.889 total time=   0.3s\n",
            "[CV 3/5] END alpha=0.7, fit_prior=False, force_alpha=False;, score=0.897 total time=   0.3s\n",
            "[CV 4/5] END alpha=0.7, fit_prior=False, force_alpha=False;, score=0.895 total time=   0.3s\n",
            "[CV 5/5] END alpha=0.7, fit_prior=False, force_alpha=False;, score=0.902 total time=   0.3s\n",
            "[CV 1/5] END alpha=0.8, fit_prior=True, force_alpha=True;, score=0.897 total time=   0.3s\n",
            "[CV 2/5] END alpha=0.8, fit_prior=True, force_alpha=True;, score=0.889 total time=   0.3s\n",
            "[CV 3/5] END alpha=0.8, fit_prior=True, force_alpha=True;, score=0.896 total time=   0.3s\n",
            "[CV 4/5] END alpha=0.8, fit_prior=True, force_alpha=True;, score=0.894 total time=   0.4s\n",
            "[CV 5/5] END alpha=0.8, fit_prior=True, force_alpha=True;, score=0.901 total time=   0.6s\n",
            "[CV 1/5] END alpha=0.8, fit_prior=True, force_alpha=False;, score=0.897 total time=   0.6s\n",
            "[CV 2/5] END alpha=0.8, fit_prior=True, force_alpha=False;, score=0.889 total time=   0.5s\n",
            "[CV 3/5] END alpha=0.8, fit_prior=True, force_alpha=False;, score=0.896 total time=   0.6s\n",
            "[CV 4/5] END alpha=0.8, fit_prior=True, force_alpha=False;, score=0.894 total time=   0.5s\n",
            "[CV 5/5] END alpha=0.8, fit_prior=True, force_alpha=False;, score=0.901 total time=   0.3s\n",
            "[CV 1/5] END alpha=0.8, fit_prior=False, force_alpha=True;, score=0.897 total time=   0.3s\n",
            "[CV 2/5] END alpha=0.8, fit_prior=False, force_alpha=True;, score=0.889 total time=   0.3s\n",
            "[CV 3/5] END alpha=0.8, fit_prior=False, force_alpha=True;, score=0.896 total time=   0.3s\n",
            "[CV 4/5] END alpha=0.8, fit_prior=False, force_alpha=True;, score=0.894 total time=   0.3s\n",
            "[CV 5/5] END alpha=0.8, fit_prior=False, force_alpha=True;, score=0.901 total time=   0.3s\n",
            "[CV 1/5] END alpha=0.8, fit_prior=False, force_alpha=False;, score=0.897 total time=   0.3s\n",
            "[CV 2/5] END alpha=0.8, fit_prior=False, force_alpha=False;, score=0.889 total time=   0.4s\n",
            "[CV 3/5] END alpha=0.8, fit_prior=False, force_alpha=False;, score=0.896 total time=   0.4s\n",
            "[CV 4/5] END alpha=0.8, fit_prior=False, force_alpha=False;, score=0.894 total time=   0.8s\n",
            "[CV 5/5] END alpha=0.8, fit_prior=False, force_alpha=False;, score=0.901 total time=   0.9s\n",
            "[CV 1/5] END alpha=0.9, fit_prior=True, force_alpha=True;, score=0.897 total time=   0.8s\n",
            "[CV 2/5] END alpha=0.9, fit_prior=True, force_alpha=True;, score=0.888 total time=   0.7s\n",
            "[CV 3/5] END alpha=0.9, fit_prior=True, force_alpha=True;, score=0.896 total time=   0.9s\n",
            "[CV 4/5] END alpha=0.9, fit_prior=True, force_alpha=True;, score=0.893 total time=   0.8s\n",
            "[CV 5/5] END alpha=0.9, fit_prior=True, force_alpha=True;, score=0.902 total time=   0.8s\n",
            "[CV 1/5] END alpha=0.9, fit_prior=True, force_alpha=False;, score=0.897 total time=   0.6s\n",
            "[CV 2/5] END alpha=0.9, fit_prior=True, force_alpha=False;, score=0.888 total time=   0.7s\n",
            "[CV 3/5] END alpha=0.9, fit_prior=True, force_alpha=False;, score=0.896 total time=   1.2s\n",
            "[CV 4/5] END alpha=0.9, fit_prior=True, force_alpha=False;, score=0.893 total time=   1.4s\n",
            "[CV 5/5] END alpha=0.9, fit_prior=True, force_alpha=False;, score=0.902 total time=   1.1s\n",
            "[CV 1/5] END alpha=0.9, fit_prior=False, force_alpha=True;, score=0.897 total time=   0.9s\n",
            "[CV 2/5] END alpha=0.9, fit_prior=False, force_alpha=True;, score=0.888 total time=   0.6s\n",
            "[CV 3/5] END alpha=0.9, fit_prior=False, force_alpha=True;, score=0.896 total time=   0.6s\n",
            "[CV 4/5] END alpha=0.9, fit_prior=False, force_alpha=True;, score=0.893 total time=   0.5s\n",
            "[CV 5/5] END alpha=0.9, fit_prior=False, force_alpha=True;, score=0.902 total time=   0.6s\n",
            "[CV 1/5] END alpha=0.9, fit_prior=False, force_alpha=False;, score=0.897 total time=   0.6s\n",
            "[CV 2/5] END alpha=0.9, fit_prior=False, force_alpha=False;, score=0.888 total time=   0.6s\n",
            "[CV 3/5] END alpha=0.9, fit_prior=False, force_alpha=False;, score=0.896 total time=   0.7s\n",
            "[CV 4/5] END alpha=0.9, fit_prior=False, force_alpha=False;, score=0.893 total time=   0.6s\n",
            "[CV 5/5] END alpha=0.9, fit_prior=False, force_alpha=False;, score=0.902 total time=   0.7s\n",
            "[CV 1/5] END alpha=1.0, fit_prior=True, force_alpha=True;, score=0.896 total time=   0.3s\n",
            "[CV 2/5] END alpha=1.0, fit_prior=True, force_alpha=True;, score=0.888 total time=   0.3s\n",
            "[CV 3/5] END alpha=1.0, fit_prior=True, force_alpha=True;, score=0.895 total time=   0.3s\n",
            "[CV 4/5] END alpha=1.0, fit_prior=True, force_alpha=True;, score=0.893 total time=   0.4s\n",
            "[CV 5/5] END alpha=1.0, fit_prior=True, force_alpha=True;, score=0.902 total time=   0.7s\n",
            "[CV 1/5] END alpha=1.0, fit_prior=True, force_alpha=False;, score=0.896 total time=   0.5s\n",
            "[CV 2/5] END alpha=1.0, fit_prior=True, force_alpha=False;, score=0.888 total time=   0.5s\n",
            "[CV 3/5] END alpha=1.0, fit_prior=True, force_alpha=False;, score=0.895 total time=   0.8s\n",
            "[CV 4/5] END alpha=1.0, fit_prior=True, force_alpha=False;, score=0.893 total time=   1.9s\n",
            "[CV 5/5] END alpha=1.0, fit_prior=True, force_alpha=False;, score=0.902 total time=   1.7s\n",
            "[CV 1/5] END alpha=1.0, fit_prior=False, force_alpha=True;, score=0.896 total time=   1.2s\n",
            "[CV 2/5] END alpha=1.0, fit_prior=False, force_alpha=True;, score=0.888 total time=   1.3s\n",
            "[CV 3/5] END alpha=1.0, fit_prior=False, force_alpha=True;, score=0.895 total time=   1.0s\n",
            "[CV 4/5] END alpha=1.0, fit_prior=False, force_alpha=True;, score=0.893 total time=   1.1s\n",
            "[CV 5/5] END alpha=1.0, fit_prior=False, force_alpha=True;, score=0.902 total time=   1.2s\n",
            "[CV 1/5] END alpha=1.0, fit_prior=False, force_alpha=False;, score=0.896 total time=   1.1s\n",
            "[CV 2/5] END alpha=1.0, fit_prior=False, force_alpha=False;, score=0.888 total time=   1.0s\n",
            "[CV 3/5] END alpha=1.0, fit_prior=False, force_alpha=False;, score=0.895 total time=   0.8s\n",
            "[CV 4/5] END alpha=1.0, fit_prior=False, force_alpha=False;, score=0.893 total time=   0.8s\n",
            "[CV 5/5] END alpha=1.0, fit_prior=False, force_alpha=False;, score=0.902 total time=   0.7s\n"
          ]
        }
      ]
    },
    {
      "cell_type": "code",
      "source": [
        "# best parameters\n",
        "best_clf.best_params_"
      ],
      "metadata": {
        "colab": {
          "base_uri": "https://localhost:8080/"
        },
        "outputId": "65605527-bbcd-4eb7-a459-f138176ec46a",
        "id": "OR-6UptLRl9j"
      },
      "execution_count": 31,
      "outputs": [
        {
          "output_type": "execute_result",
          "data": {
            "text/plain": [
              "{'alpha': 0.2, 'fit_prior': True, 'force_alpha': True}"
            ]
          },
          "metadata": {},
          "execution_count": 31
        }
      ]
    },
    {
      "cell_type": "code",
      "source": [
        "# highest accuracy score\n",
        "best_clf.best_score_"
      ],
      "metadata": {
        "colab": {
          "base_uri": "https://localhost:8080/"
        },
        "outputId": "a4107df8-0b33-498f-fc18-01b04956b943",
        "id": "PApJtr4tRl9k"
      },
      "execution_count": 32,
      "outputs": [
        {
          "output_type": "execute_result",
          "data": {
            "text/plain": [
              "0.8991750000000002"
            ]
          },
          "metadata": {},
          "execution_count": 32
        }
      ]
    },
    {
      "cell_type": "code",
      "source": [
        "best_nb = MultinomialNB(alpha = 0.2, fit_prior = True, force_alpha = True)"
      ],
      "metadata": {
        "id": "9LN8FvtxRl9k"
      },
      "execution_count": 33,
      "outputs": []
    },
    {
      "cell_type": "code",
      "source": [
        "train_and_eval(best_nb, class2_tfidf_X_train, class2_y_train, class2_tfidf_X_test, class2_y_test)"
      ],
      "metadata": {
        "colab": {
          "base_uri": "https://localhost:8080/"
        },
        "id": "9Vojc59-Rvcr",
        "outputId": "6a1a524d-87ac-4629-9557-f0bb225dbed8"
      },
      "execution_count": 34,
      "outputs": [
        {
          "output_type": "stream",
          "name": "stdout",
          "text": [
            "\n",
            "MultinomialNB(alpha=0.2, force_alpha=True)\n",
            "Train accuracy score : 0.988425\n",
            "Test accuracy score : 0.8928892889288929\n",
            "              precision    recall  f1-score   support\n",
            "\n",
            "           0       0.90      0.88      0.89      5000\n",
            "           1       0.88      0.90      0.89      4999\n",
            "\n",
            "    accuracy                           0.89      9999\n",
            "   macro avg       0.89      0.89      0.89      9999\n",
            "weighted avg       0.89      0.89      0.89      9999\n",
            "\n",
            "\n",
            " ----------------------------------------\n"
          ]
        }
      ]
    },
    {
      "cell_type": "markdown",
      "source": [
        "Naive Bayes while changing TF-IDF parameters gives us an accuracy of 89.2% on test data"
      ],
      "metadata": {
        "id": "Vw16QtYmRyIz"
      }
    }
  ]
}