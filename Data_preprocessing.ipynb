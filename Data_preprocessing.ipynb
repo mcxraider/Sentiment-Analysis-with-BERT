{
 "cells": [
  {
   "cell_type": "markdown",
   "metadata": {},
   "source": [
    "## Importing and downloading Libraries"
   ]
  },
  {
   "cell_type": "code",
   "execution_count": 1,
   "metadata": {},
   "outputs": [
    {
     "name": "stderr",
     "output_type": "stream",
     "text": [
      "/Users/jerry/opt/anaconda3/lib/python3.9/site-packages/pandas/core/arrays/masked.py:60: UserWarning: Pandas requires version '1.3.6' or newer of 'bottleneck' (version '1.3.5' currently installed).\n",
      "  from pandas.core import (\n"
     ]
    }
   ],
   "source": [
    "import os\n",
    "import glob\n",
    "import pandas as pd\n",
    "from numpy import *\n",
    "\n",
    "import warnings\n",
    "warnings.filterwarnings('ignore')"
   ]
  },
  {
   "cell_type": "markdown",
   "metadata": {},
   "source": [
    "## Loading in dataset"
   ]
  },
  {
   "cell_type": "code",
   "execution_count": 2,
   "metadata": {},
   "outputs": [],
   "source": [
    "pos_file_path = 'data/Raw/pos/*.txt'  \n",
    "neg_file_path = 'data/Raw/neg/*.txt'\n",
    "\n",
    "def get_data(file_path):\n",
    "    files = glob.glob(file_path)\n",
    "    df = pd.DataFrame(columns=['FileName', 'Content'])\n",
    "    for file in files:\n",
    "        # Extract file name\n",
    "        file_name = os.path.basename(file)\n",
    "        # Read in file content\n",
    "        with open(file, 'r', encoding='utf-8') as file_open:\n",
    "            content = file_open.read()\n",
    "        file_to_add = pd.DataFrame({'FileName': [file_name], 'Content': [content]})\n",
    "        df = pd.concat([df, file_to_add], ignore_index=True)\n",
    "    return df"
   ]
  },
  {
   "cell_type": "code",
   "execution_count": 3,
   "metadata": {},
   "outputs": [],
   "source": [
    "pos_unclean_df = get_data(pos_file_path)\n",
    "neg_unclean_df = get_data(neg_file_path)"
   ]
  },
  {
   "cell_type": "code",
   "execution_count": 4,
   "metadata": {},
   "outputs": [
    {
     "data": {
      "text/html": [
       "<div>\n",
       "<style scoped>\n",
       "    .dataframe tbody tr th:only-of-type {\n",
       "        vertical-align: middle;\n",
       "    }\n",
       "\n",
       "    .dataframe tbody tr th {\n",
       "        vertical-align: top;\n",
       "    }\n",
       "\n",
       "    .dataframe thead th {\n",
       "        text-align: right;\n",
       "    }\n",
       "</style>\n",
       "<table border=\"1\" class=\"dataframe\">\n",
       "  <thead>\n",
       "    <tr style=\"text-align: right;\">\n",
       "      <th></th>\n",
       "      <th>FileName</th>\n",
       "      <th>Content</th>\n",
       "    </tr>\n",
       "  </thead>\n",
       "  <tbody>\n",
       "    <tr>\n",
       "      <th>0</th>\n",
       "      <td>20935_9.txt</td>\n",
       "      <td>I just watched \"return from lonesome dove\" and...</td>\n",
       "    </tr>\n",
       "    <tr>\n",
       "      <th>1</th>\n",
       "      <td>12390_8.txt</td>\n",
       "      <td>This movie looked like a classic in the cheesy...</td>\n",
       "    </tr>\n",
       "    <tr>\n",
       "      <th>2</th>\n",
       "      <td>9820_8.txt</td>\n",
       "      <td>Jay Chou plays an orphan raised in a kung fu s...</td>\n",
       "    </tr>\n",
       "    <tr>\n",
       "      <th>3</th>\n",
       "      <td>883_7.txt</td>\n",
       "      <td>Ooverall, the movie was fairly good, a good ac...</td>\n",
       "    </tr>\n",
       "    <tr>\n",
       "      <th>4</th>\n",
       "      <td>9063_8.txt</td>\n",
       "      <td>This movie is fun to watch. If you liked \"Dave...</td>\n",
       "    </tr>\n",
       "  </tbody>\n",
       "</table>\n",
       "</div>"
      ],
      "text/plain": [
       "      FileName                                            Content\n",
       "0  20935_9.txt  I just watched \"return from lonesome dove\" and...\n",
       "1  12390_8.txt  This movie looked like a classic in the cheesy...\n",
       "2   9820_8.txt  Jay Chou plays an orphan raised in a kung fu s...\n",
       "3    883_7.txt  Ooverall, the movie was fairly good, a good ac...\n",
       "4   9063_8.txt  This movie is fun to watch. If you liked \"Dave..."
      ]
     },
     "execution_count": 4,
     "metadata": {},
     "output_type": "execute_result"
    }
   ],
   "source": [
    "pos_unclean_df.head()"
   ]
  },
  {
   "cell_type": "code",
   "execution_count": 5,
   "metadata": {},
   "outputs": [
    {
     "data": {
      "text/html": [
       "<div>\n",
       "<style scoped>\n",
       "    .dataframe tbody tr th:only-of-type {\n",
       "        vertical-align: middle;\n",
       "    }\n",
       "\n",
       "    .dataframe tbody tr th {\n",
       "        vertical-align: top;\n",
       "    }\n",
       "\n",
       "    .dataframe thead th {\n",
       "        text-align: right;\n",
       "    }\n",
       "</style>\n",
       "<table border=\"1\" class=\"dataframe\">\n",
       "  <thead>\n",
       "    <tr style=\"text-align: right;\">\n",
       "      <th></th>\n",
       "      <th>FileName</th>\n",
       "      <th>Content</th>\n",
       "    </tr>\n",
       "  </thead>\n",
       "  <tbody>\n",
       "    <tr>\n",
       "      <th>0</th>\n",
       "      <td>3314_4.txt</td>\n",
       "      <td>Stan Laurel and Oliver Hardy are the most famo...</td>\n",
       "    </tr>\n",
       "    <tr>\n",
       "      <th>1</th>\n",
       "      <td>17112_1.txt</td>\n",
       "      <td>I saw this movie a few years ago, and man I ne...</td>\n",
       "    </tr>\n",
       "    <tr>\n",
       "      <th>2</th>\n",
       "      <td>3008_1.txt</td>\n",
       "      <td>I watched this film few times and all i can sa...</td>\n",
       "    </tr>\n",
       "    <tr>\n",
       "      <th>3</th>\n",
       "      <td>17951_1.txt</td>\n",
       "      <td>From reading the back of the box my first thou...</td>\n",
       "    </tr>\n",
       "    <tr>\n",
       "      <th>4</th>\n",
       "      <td>9487_1.txt</td>\n",
       "      <td>This is a film of immense appeal to a relative...</td>\n",
       "    </tr>\n",
       "  </tbody>\n",
       "</table>\n",
       "</div>"
      ],
      "text/plain": [
       "      FileName                                            Content\n",
       "0   3314_4.txt  Stan Laurel and Oliver Hardy are the most famo...\n",
       "1  17112_1.txt  I saw this movie a few years ago, and man I ne...\n",
       "2   3008_1.txt  I watched this film few times and all i can sa...\n",
       "3  17951_1.txt  From reading the back of the box my first thou...\n",
       "4   9487_1.txt  This is a film of immense appeal to a relative..."
      ]
     },
     "execution_count": 5,
     "metadata": {},
     "output_type": "execute_result"
    }
   ],
   "source": [
    "neg_unclean_df.head()"
   ]
  },
  {
   "cell_type": "code",
   "execution_count": 6,
   "metadata": {},
   "outputs": [],
   "source": [
    "def extract_rating_from_filename(filename):\n",
    "    parts = filename.split(\"_\")\n",
    "    rating = parts[1].split(\".\")[0]\n",
    "    return int(rating)"
   ]
  },
  {
   "cell_type": "code",
   "execution_count": 7,
   "metadata": {},
   "outputs": [
    {
     "data": {
      "text/html": [
       "<div>\n",
       "<style scoped>\n",
       "    .dataframe tbody tr th:only-of-type {\n",
       "        vertical-align: middle;\n",
       "    }\n",
       "\n",
       "    .dataframe tbody tr th {\n",
       "        vertical-align: top;\n",
       "    }\n",
       "\n",
       "    .dataframe thead th {\n",
       "        text-align: right;\n",
       "    }\n",
       "</style>\n",
       "<table border=\"1\" class=\"dataframe\">\n",
       "  <thead>\n",
       "    <tr style=\"text-align: right;\">\n",
       "      <th></th>\n",
       "      <th>FileName</th>\n",
       "      <th>Content</th>\n",
       "      <th>rating</th>\n",
       "    </tr>\n",
       "  </thead>\n",
       "  <tbody>\n",
       "    <tr>\n",
       "      <th>0</th>\n",
       "      <td>20935_9.txt</td>\n",
       "      <td>I just watched \"return from lonesome dove\" and...</td>\n",
       "      <td>9</td>\n",
       "    </tr>\n",
       "    <tr>\n",
       "      <th>1</th>\n",
       "      <td>12390_8.txt</td>\n",
       "      <td>This movie looked like a classic in the cheesy...</td>\n",
       "      <td>8</td>\n",
       "    </tr>\n",
       "    <tr>\n",
       "      <th>2</th>\n",
       "      <td>9820_8.txt</td>\n",
       "      <td>Jay Chou plays an orphan raised in a kung fu s...</td>\n",
       "      <td>8</td>\n",
       "    </tr>\n",
       "    <tr>\n",
       "      <th>3</th>\n",
       "      <td>883_7.txt</td>\n",
       "      <td>Ooverall, the movie was fairly good, a good ac...</td>\n",
       "      <td>7</td>\n",
       "    </tr>\n",
       "    <tr>\n",
       "      <th>4</th>\n",
       "      <td>9063_8.txt</td>\n",
       "      <td>This movie is fun to watch. If you liked \"Dave...</td>\n",
       "      <td>8</td>\n",
       "    </tr>\n",
       "  </tbody>\n",
       "</table>\n",
       "</div>"
      ],
      "text/plain": [
       "      FileName                                            Content  rating\n",
       "0  20935_9.txt  I just watched \"return from lonesome dove\" and...       9\n",
       "1  12390_8.txt  This movie looked like a classic in the cheesy...       8\n",
       "2   9820_8.txt  Jay Chou plays an orphan raised in a kung fu s...       8\n",
       "3    883_7.txt  Ooverall, the movie was fairly good, a good ac...       7\n",
       "4   9063_8.txt  This movie is fun to watch. If you liked \"Dave...       8"
      ]
     },
     "execution_count": 7,
     "metadata": {},
     "output_type": "execute_result"
    }
   ],
   "source": [
    "pos_unclean_df['rating'] = pos_unclean_df['FileName'].apply(lambda z: extract_rating_from_filename(z))\n",
    "pos_unclean_df.head()"
   ]
  },
  {
   "cell_type": "code",
   "execution_count": 8,
   "metadata": {},
   "outputs": [
    {
     "name": "stdout",
     "output_type": "stream",
     "text": [
      "[ 9  8  7 10]\n"
     ]
    }
   ],
   "source": [
    "#Check unique positive ratings\n",
    "pos_ratings = pos_unclean_df['rating'].unique()\n",
    "print(pos_ratings)"
   ]
  },
  {
   "cell_type": "code",
   "execution_count": 9,
   "metadata": {},
   "outputs": [
    {
     "data": {
      "text/html": [
       "<div>\n",
       "<style scoped>\n",
       "    .dataframe tbody tr th:only-of-type {\n",
       "        vertical-align: middle;\n",
       "    }\n",
       "\n",
       "    .dataframe tbody tr th {\n",
       "        vertical-align: top;\n",
       "    }\n",
       "\n",
       "    .dataframe thead th {\n",
       "        text-align: right;\n",
       "    }\n",
       "</style>\n",
       "<table border=\"1\" class=\"dataframe\">\n",
       "  <thead>\n",
       "    <tr style=\"text-align: right;\">\n",
       "      <th></th>\n",
       "      <th>FileName</th>\n",
       "      <th>Content</th>\n",
       "      <th>rating</th>\n",
       "    </tr>\n",
       "  </thead>\n",
       "  <tbody>\n",
       "    <tr>\n",
       "      <th>0</th>\n",
       "      <td>3314_4.txt</td>\n",
       "      <td>Stan Laurel and Oliver Hardy are the most famo...</td>\n",
       "      <td>4</td>\n",
       "    </tr>\n",
       "    <tr>\n",
       "      <th>1</th>\n",
       "      <td>17112_1.txt</td>\n",
       "      <td>I saw this movie a few years ago, and man I ne...</td>\n",
       "      <td>1</td>\n",
       "    </tr>\n",
       "    <tr>\n",
       "      <th>2</th>\n",
       "      <td>3008_1.txt</td>\n",
       "      <td>I watched this film few times and all i can sa...</td>\n",
       "      <td>1</td>\n",
       "    </tr>\n",
       "    <tr>\n",
       "      <th>3</th>\n",
       "      <td>17951_1.txt</td>\n",
       "      <td>From reading the back of the box my first thou...</td>\n",
       "      <td>1</td>\n",
       "    </tr>\n",
       "    <tr>\n",
       "      <th>4</th>\n",
       "      <td>9487_1.txt</td>\n",
       "      <td>This is a film of immense appeal to a relative...</td>\n",
       "      <td>1</td>\n",
       "    </tr>\n",
       "  </tbody>\n",
       "</table>\n",
       "</div>"
      ],
      "text/plain": [
       "      FileName                                            Content  rating\n",
       "0   3314_4.txt  Stan Laurel and Oliver Hardy are the most famo...       4\n",
       "1  17112_1.txt  I saw this movie a few years ago, and man I ne...       1\n",
       "2   3008_1.txt  I watched this film few times and all i can sa...       1\n",
       "3  17951_1.txt  From reading the back of the box my first thou...       1\n",
       "4   9487_1.txt  This is a film of immense appeal to a relative...       1"
      ]
     },
     "execution_count": 9,
     "metadata": {},
     "output_type": "execute_result"
    }
   ],
   "source": [
    "neg_unclean_df['rating'] = neg_unclean_df['FileName'].apply(lambda z: extract_rating_from_filename(z))\n",
    "neg_unclean_df.head()"
   ]
  },
  {
   "cell_type": "code",
   "execution_count": 10,
   "metadata": {},
   "outputs": [
    {
     "name": "stdout",
     "output_type": "stream",
     "text": [
      "[4 1 3 2]\n"
     ]
    }
   ],
   "source": [
    "#Check unique negative ratings\n",
    "neg_ratings = neg_unclean_df['rating'].unique()\n",
    "print(neg_ratings)"
   ]
  },
  {
   "cell_type": "code",
   "execution_count": 11,
   "metadata": {},
   "outputs": [
    {
     "data": {
      "text/html": [
       "<div>\n",
       "<style scoped>\n",
       "    .dataframe tbody tr th:only-of-type {\n",
       "        vertical-align: middle;\n",
       "    }\n",
       "\n",
       "    .dataframe tbody tr th {\n",
       "        vertical-align: top;\n",
       "    }\n",
       "\n",
       "    .dataframe thead th {\n",
       "        text-align: right;\n",
       "    }\n",
       "</style>\n",
       "<table border=\"1\" class=\"dataframe\">\n",
       "  <thead>\n",
       "    <tr style=\"text-align: right;\">\n",
       "      <th></th>\n",
       "      <th>FileName</th>\n",
       "      <th>Content</th>\n",
       "      <th>rating</th>\n",
       "    </tr>\n",
       "  </thead>\n",
       "  <tbody>\n",
       "    <tr>\n",
       "      <th>0</th>\n",
       "      <td>20935_9.txt</td>\n",
       "      <td>I just watched \"return from lonesome dove\" and...</td>\n",
       "      <td>9</td>\n",
       "    </tr>\n",
       "    <tr>\n",
       "      <th>1</th>\n",
       "      <td>12390_8.txt</td>\n",
       "      <td>This movie looked like a classic in the cheesy...</td>\n",
       "      <td>8</td>\n",
       "    </tr>\n",
       "    <tr>\n",
       "      <th>2</th>\n",
       "      <td>9820_8.txt</td>\n",
       "      <td>Jay Chou plays an orphan raised in a kung fu s...</td>\n",
       "      <td>8</td>\n",
       "    </tr>\n",
       "    <tr>\n",
       "      <th>3</th>\n",
       "      <td>883_7.txt</td>\n",
       "      <td>Ooverall, the movie was fairly good, a good ac...</td>\n",
       "      <td>7</td>\n",
       "    </tr>\n",
       "    <tr>\n",
       "      <th>4</th>\n",
       "      <td>9063_8.txt</td>\n",
       "      <td>This movie is fun to watch. If you liked \"Dave...</td>\n",
       "      <td>8</td>\n",
       "    </tr>\n",
       "    <tr>\n",
       "      <th>5</th>\n",
       "      <td>10186_10.txt</td>\n",
       "      <td>I loved this movie. In fact I loved being an a...</td>\n",
       "      <td>10</td>\n",
       "    </tr>\n",
       "    <tr>\n",
       "      <th>6</th>\n",
       "      <td>22540_10.txt</td>\n",
       "      <td>Andaz Apna Apna is my favorite comedy movie of...</td>\n",
       "      <td>10</td>\n",
       "    </tr>\n",
       "    <tr>\n",
       "      <th>7</th>\n",
       "      <td>147_10.txt</td>\n",
       "      <td>In the very first episode of Friends, which ai...</td>\n",
       "      <td>10</td>\n",
       "    </tr>\n",
       "    <tr>\n",
       "      <th>8</th>\n",
       "      <td>3092_10.txt</td>\n",
       "      <td>This, like Murder She Wrote, is one of those s...</td>\n",
       "      <td>10</td>\n",
       "    </tr>\n",
       "    <tr>\n",
       "      <th>9</th>\n",
       "      <td>15251_8.txt</td>\n",
       "      <td>Pretty good movie about a man and his wife who...</td>\n",
       "      <td>8</td>\n",
       "    </tr>\n",
       "  </tbody>\n",
       "</table>\n",
       "</div>"
      ],
      "text/plain": [
       "       FileName                                            Content  rating\n",
       "0   20935_9.txt  I just watched \"return from lonesome dove\" and...       9\n",
       "1   12390_8.txt  This movie looked like a classic in the cheesy...       8\n",
       "2    9820_8.txt  Jay Chou plays an orphan raised in a kung fu s...       8\n",
       "3     883_7.txt  Ooverall, the movie was fairly good, a good ac...       7\n",
       "4    9063_8.txt  This movie is fun to watch. If you liked \"Dave...       8\n",
       "5  10186_10.txt  I loved this movie. In fact I loved being an a...      10\n",
       "6  22540_10.txt  Andaz Apna Apna is my favorite comedy movie of...      10\n",
       "7    147_10.txt  In the very first episode of Friends, which ai...      10\n",
       "8   3092_10.txt  This, like Murder She Wrote, is one of those s...      10\n",
       "9   15251_8.txt  Pretty good movie about a man and his wife who...       8"
      ]
     },
     "execution_count": 11,
     "metadata": {},
     "output_type": "execute_result"
    }
   ],
   "source": [
    "pos_unclean_df.head(10)"
   ]
  },
  {
   "cell_type": "code",
   "execution_count": 12,
   "metadata": {},
   "outputs": [
    {
     "data": {
      "text/html": [
       "<div>\n",
       "<style scoped>\n",
       "    .dataframe tbody tr th:only-of-type {\n",
       "        vertical-align: middle;\n",
       "    }\n",
       "\n",
       "    .dataframe tbody tr th {\n",
       "        vertical-align: top;\n",
       "    }\n",
       "\n",
       "    .dataframe thead th {\n",
       "        text-align: right;\n",
       "    }\n",
       "</style>\n",
       "<table border=\"1\" class=\"dataframe\">\n",
       "  <thead>\n",
       "    <tr style=\"text-align: right;\">\n",
       "      <th></th>\n",
       "      <th>FileName</th>\n",
       "      <th>Content</th>\n",
       "      <th>rating</th>\n",
       "    </tr>\n",
       "  </thead>\n",
       "  <tbody>\n",
       "    <tr>\n",
       "      <th>0</th>\n",
       "      <td>3314_4.txt</td>\n",
       "      <td>Stan Laurel and Oliver Hardy are the most famo...</td>\n",
       "      <td>4</td>\n",
       "    </tr>\n",
       "    <tr>\n",
       "      <th>1</th>\n",
       "      <td>17112_1.txt</td>\n",
       "      <td>I saw this movie a few years ago, and man I ne...</td>\n",
       "      <td>1</td>\n",
       "    </tr>\n",
       "    <tr>\n",
       "      <th>2</th>\n",
       "      <td>3008_1.txt</td>\n",
       "      <td>I watched this film few times and all i can sa...</td>\n",
       "      <td>1</td>\n",
       "    </tr>\n",
       "    <tr>\n",
       "      <th>3</th>\n",
       "      <td>17951_1.txt</td>\n",
       "      <td>From reading the back of the box my first thou...</td>\n",
       "      <td>1</td>\n",
       "    </tr>\n",
       "    <tr>\n",
       "      <th>4</th>\n",
       "      <td>9487_1.txt</td>\n",
       "      <td>This is a film of immense appeal to a relative...</td>\n",
       "      <td>1</td>\n",
       "    </tr>\n",
       "    <tr>\n",
       "      <th>5</th>\n",
       "      <td>4518_1.txt</td>\n",
       "      <td>This is one of those movies you see in the vid...</td>\n",
       "      <td>1</td>\n",
       "    </tr>\n",
       "    <tr>\n",
       "      <th>6</th>\n",
       "      <td>4604_4.txt</td>\n",
       "      <td>I admit the problem I have with the much-celeb...</td>\n",
       "      <td>4</td>\n",
       "    </tr>\n",
       "    <tr>\n",
       "      <th>7</th>\n",
       "      <td>5743_3.txt</td>\n",
       "      <td>This movie is not as good as all think. the ac...</td>\n",
       "      <td>3</td>\n",
       "    </tr>\n",
       "    <tr>\n",
       "      <th>8</th>\n",
       "      <td>9056_1.txt</td>\n",
       "      <td>I just sat in the theater bored as hell, i wan...</td>\n",
       "      <td>1</td>\n",
       "    </tr>\n",
       "    <tr>\n",
       "      <th>9</th>\n",
       "      <td>23687_3.txt</td>\n",
       "      <td>This early film from director Bob Clark (\"Pork...</td>\n",
       "      <td>3</td>\n",
       "    </tr>\n",
       "  </tbody>\n",
       "</table>\n",
       "</div>"
      ],
      "text/plain": [
       "      FileName                                            Content  rating\n",
       "0   3314_4.txt  Stan Laurel and Oliver Hardy are the most famo...       4\n",
       "1  17112_1.txt  I saw this movie a few years ago, and man I ne...       1\n",
       "2   3008_1.txt  I watched this film few times and all i can sa...       1\n",
       "3  17951_1.txt  From reading the back of the box my first thou...       1\n",
       "4   9487_1.txt  This is a film of immense appeal to a relative...       1\n",
       "5   4518_1.txt  This is one of those movies you see in the vid...       1\n",
       "6   4604_4.txt  I admit the problem I have with the much-celeb...       4\n",
       "7   5743_3.txt  This movie is not as good as all think. the ac...       3\n",
       "8   9056_1.txt  I just sat in the theater bored as hell, i wan...       1\n",
       "9  23687_3.txt  This early film from director Bob Clark (\"Pork...       3"
      ]
     },
     "execution_count": 12,
     "metadata": {},
     "output_type": "execute_result"
    }
   ],
   "source": [
    "neg_unclean_df.head(10)"
   ]
  },
  {
   "cell_type": "markdown",
   "metadata": {},
   "source": [
    "## Convert Files to CSVs"
   ]
  },
  {
   "cell_type": "code",
   "execution_count": 13,
   "metadata": {},
   "outputs": [],
   "source": [
    "pos_unclean_df.to_csv(\"pos.csv\")\n",
    "neg_unclean_df.to_csv(\"neg.csv\")"
   ]
  },
  {
   "cell_type": "code",
   "execution_count": null,
   "metadata": {},
   "outputs": [],
   "source": []
  }
 ],
 "metadata": {
  "kernelspec": {
   "display_name": "base",
   "language": "python",
   "name": "python3"
  },
  "language_info": {
   "codemirror_mode": {
    "name": "ipython",
    "version": 3
   },
   "file_extension": ".py",
   "mimetype": "text/x-python",
   "name": "python",
   "nbconvert_exporter": "python",
   "pygments_lexer": "ipython3",
   "version": "3.9.18"
  }
 },
 "nbformat": 4,
 "nbformat_minor": 2
}
