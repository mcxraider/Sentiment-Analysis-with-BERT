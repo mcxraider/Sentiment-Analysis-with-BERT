{
  "nbformat": 4,
  "nbformat_minor": 0,
  "metadata": {
    "colab": {
      "provenance": [],
      "gpuType": "T4"
    },
    "kernelspec": {
      "name": "python3",
      "display_name": "Python 3"
    },
    "language_info": {
      "name": "python"
    },
    "accelerator": "GPU"
  },
  "cells": [
    {
      "cell_type": "code",
      "execution_count": null,
      "metadata": {
        "id": "TbyxtzUoM0eW"
      },
      "outputs": [],
      "source": [
        "import re\n",
        "\n",
        "# Import necessary libraries\n",
        "import numpy as np\n",
        "import pandas as pd\n",
        "import seaborn as sns\n",
        "from pylab import rcParams\n",
        "import matplotlib.pyplot as plt\n",
        "from matplotlib import rc\n",
        "from sklearn.model_selection import train_test_split\n",
        "from sklearn.metrics import confusion_matrix, classification_report\n",
        "from collections import defaultdict\n",
        "from textwrap import wrap\n",
        "\n",
        "from imblearn.over_sampling import RandomOverSampler\n",
        "\n",
        "# Torch ML libraries\n",
        "import transformers\n",
        "from transformers import BertModel, BertTokenizer, AdamW, get_linear_schedule_with_warmup\n",
        "import torch\n",
        "from torch import nn, optim\n",
        "from torch.utils.data import Dataset, DataLoader\n",
        "\n",
        "# Misc.\n",
        "import warnings\n",
        "warnings.filterwarnings('ignore')"
      ]
    },
    {
      "cell_type": "markdown",
      "source": [
        "Try out 2 categories\n"
      ],
      "metadata": {
        "id": "YOYl-pw3JwQj"
      }
    },
    {
      "cell_type": "code",
      "source": [
        "train_split = pd.read_csv('/content/drive/MyDrive/IT1244 final project/DL_train.csv')\n",
        "test_split = pd.read_csv('/content/drive/MyDrive/IT1244 final project/DL_test.csv')"
      ],
      "metadata": {
        "id": "FZguQQcVJv-5"
      },
      "execution_count": null,
      "outputs": []
    },
    {
      "cell_type": "code",
      "source": [
        "train_split = train_split[['Content','rating']]\n",
        "test_split = test_split[['Content','rating']]"
      ],
      "metadata": {
        "id": "RO_tJ6EDJv85"
      },
      "execution_count": null,
      "outputs": []
    },
    {
      "cell_type": "code",
      "source": [
        "def good_bad(row):\n",
        "  if row > 4:\n",
        "    return 1\n",
        "  else:\n",
        "    return 0"
      ],
      "metadata": {
        "id": "OUUXnoQUKeE9"
      },
      "execution_count": null,
      "outputs": []
    },
    {
      "cell_type": "code",
      "source": [
        "train_split['rating'] = train_split['rating'].apply(good_bad)\n",
        "test_split['rating'] = test_split['rating'].apply(good_bad)\n"
      ],
      "metadata": {
        "id": "8jxngELVKj2d"
      },
      "execution_count": null,
      "outputs": []
    },
    {
      "cell_type": "code",
      "source": [
        "train_split.head()"
      ],
      "metadata": {
        "colab": {
          "base_uri": "https://localhost:8080/",
          "height": 206
        },
        "id": "Wtc5c3QNK_ef",
        "outputId": "a1337e20-af97-484d-e689-0c692772c840"
      },
      "execution_count": null,
      "outputs": [
        {
          "output_type": "execute_result",
          "data": {
            "text/plain": [
              "                                             Content  rating\n",
              "0  This movie is funny and suitable for any age. ...       1\n",
              "1  In the old commercial for blank audio cassette...       1\n",
              "2  The CinemaScope color cinematography of Leon S...       0\n",
              "3  Get this film if at all possible. You will fin...       1\n",
              "4  While the soundtrack is a bit dated, this stor...       1"
            ],
            "text/html": [
              "\n",
              "  <div id=\"df-92f5db40-806e-4628-a995-5efa6813feaa\" class=\"colab-df-container\">\n",
              "    <div>\n",
              "<style scoped>\n",
              "    .dataframe tbody tr th:only-of-type {\n",
              "        vertical-align: middle;\n",
              "    }\n",
              "\n",
              "    .dataframe tbody tr th {\n",
              "        vertical-align: top;\n",
              "    }\n",
              "\n",
              "    .dataframe thead th {\n",
              "        text-align: right;\n",
              "    }\n",
              "</style>\n",
              "<table border=\"1\" class=\"dataframe\">\n",
              "  <thead>\n",
              "    <tr style=\"text-align: right;\">\n",
              "      <th></th>\n",
              "      <th>Content</th>\n",
              "      <th>rating</th>\n",
              "    </tr>\n",
              "  </thead>\n",
              "  <tbody>\n",
              "    <tr>\n",
              "      <th>0</th>\n",
              "      <td>This movie is funny and suitable for any age. ...</td>\n",
              "      <td>1</td>\n",
              "    </tr>\n",
              "    <tr>\n",
              "      <th>1</th>\n",
              "      <td>In the old commercial for blank audio cassette...</td>\n",
              "      <td>1</td>\n",
              "    </tr>\n",
              "    <tr>\n",
              "      <th>2</th>\n",
              "      <td>The CinemaScope color cinematography of Leon S...</td>\n",
              "      <td>0</td>\n",
              "    </tr>\n",
              "    <tr>\n",
              "      <th>3</th>\n",
              "      <td>Get this film if at all possible. You will fin...</td>\n",
              "      <td>1</td>\n",
              "    </tr>\n",
              "    <tr>\n",
              "      <th>4</th>\n",
              "      <td>While the soundtrack is a bit dated, this stor...</td>\n",
              "      <td>1</td>\n",
              "    </tr>\n",
              "  </tbody>\n",
              "</table>\n",
              "</div>\n",
              "    <div class=\"colab-df-buttons\">\n",
              "\n",
              "  <div class=\"colab-df-container\">\n",
              "    <button class=\"colab-df-convert\" onclick=\"convertToInteractive('df-92f5db40-806e-4628-a995-5efa6813feaa')\"\n",
              "            title=\"Convert this dataframe to an interactive table.\"\n",
              "            style=\"display:none;\">\n",
              "\n",
              "  <svg xmlns=\"http://www.w3.org/2000/svg\" height=\"24px\" viewBox=\"0 -960 960 960\">\n",
              "    <path d=\"M120-120v-720h720v720H120Zm60-500h600v-160H180v160Zm220 220h160v-160H400v160Zm0 220h160v-160H400v160ZM180-400h160v-160H180v160Zm440 0h160v-160H620v160ZM180-180h160v-160H180v160Zm440 0h160v-160H620v160Z\"/>\n",
              "  </svg>\n",
              "    </button>\n",
              "\n",
              "  <style>\n",
              "    .colab-df-container {\n",
              "      display:flex;\n",
              "      gap: 12px;\n",
              "    }\n",
              "\n",
              "    .colab-df-convert {\n",
              "      background-color: #E8F0FE;\n",
              "      border: none;\n",
              "      border-radius: 50%;\n",
              "      cursor: pointer;\n",
              "      display: none;\n",
              "      fill: #1967D2;\n",
              "      height: 32px;\n",
              "      padding: 0 0 0 0;\n",
              "      width: 32px;\n",
              "    }\n",
              "\n",
              "    .colab-df-convert:hover {\n",
              "      background-color: #E2EBFA;\n",
              "      box-shadow: 0px 1px 2px rgba(60, 64, 67, 0.3), 0px 1px 3px 1px rgba(60, 64, 67, 0.15);\n",
              "      fill: #174EA6;\n",
              "    }\n",
              "\n",
              "    .colab-df-buttons div {\n",
              "      margin-bottom: 4px;\n",
              "    }\n",
              "\n",
              "    [theme=dark] .colab-df-convert {\n",
              "      background-color: #3B4455;\n",
              "      fill: #D2E3FC;\n",
              "    }\n",
              "\n",
              "    [theme=dark] .colab-df-convert:hover {\n",
              "      background-color: #434B5C;\n",
              "      box-shadow: 0px 1px 3px 1px rgba(0, 0, 0, 0.15);\n",
              "      filter: drop-shadow(0px 1px 2px rgba(0, 0, 0, 0.3));\n",
              "      fill: #FFFFFF;\n",
              "    }\n",
              "  </style>\n",
              "\n",
              "    <script>\n",
              "      const buttonEl =\n",
              "        document.querySelector('#df-92f5db40-806e-4628-a995-5efa6813feaa button.colab-df-convert');\n",
              "      buttonEl.style.display =\n",
              "        google.colab.kernel.accessAllowed ? 'block' : 'none';\n",
              "\n",
              "      async function convertToInteractive(key) {\n",
              "        const element = document.querySelector('#df-92f5db40-806e-4628-a995-5efa6813feaa');\n",
              "        const dataTable =\n",
              "          await google.colab.kernel.invokeFunction('convertToInteractive',\n",
              "                                                    [key], {});\n",
              "        if (!dataTable) return;\n",
              "\n",
              "        const docLinkHtml = 'Like what you see? Visit the ' +\n",
              "          '<a target=\"_blank\" href=https://colab.research.google.com/notebooks/data_table.ipynb>data table notebook</a>'\n",
              "          + ' to learn more about interactive tables.';\n",
              "        element.innerHTML = '';\n",
              "        dataTable['output_type'] = 'display_data';\n",
              "        await google.colab.output.renderOutput(dataTable, element);\n",
              "        const docLink = document.createElement('div');\n",
              "        docLink.innerHTML = docLinkHtml;\n",
              "        element.appendChild(docLink);\n",
              "      }\n",
              "    </script>\n",
              "  </div>\n",
              "\n",
              "\n",
              "<div id=\"df-37224756-9b6e-4499-a4a4-4ed12fbc948b\">\n",
              "  <button class=\"colab-df-quickchart\" onclick=\"quickchart('df-37224756-9b6e-4499-a4a4-4ed12fbc948b')\"\n",
              "            title=\"Suggest charts\"\n",
              "            style=\"display:none;\">\n",
              "\n",
              "<svg xmlns=\"http://www.w3.org/2000/svg\" height=\"24px\"viewBox=\"0 0 24 24\"\n",
              "     width=\"24px\">\n",
              "    <g>\n",
              "        <path d=\"M19 3H5c-1.1 0-2 .9-2 2v14c0 1.1.9 2 2 2h14c1.1 0 2-.9 2-2V5c0-1.1-.9-2-2-2zM9 17H7v-7h2v7zm4 0h-2V7h2v10zm4 0h-2v-4h2v4z\"/>\n",
              "    </g>\n",
              "</svg>\n",
              "  </button>\n",
              "\n",
              "<style>\n",
              "  .colab-df-quickchart {\n",
              "      --bg-color: #E8F0FE;\n",
              "      --fill-color: #1967D2;\n",
              "      --hover-bg-color: #E2EBFA;\n",
              "      --hover-fill-color: #174EA6;\n",
              "      --disabled-fill-color: #AAA;\n",
              "      --disabled-bg-color: #DDD;\n",
              "  }\n",
              "\n",
              "  [theme=dark] .colab-df-quickchart {\n",
              "      --bg-color: #3B4455;\n",
              "      --fill-color: #D2E3FC;\n",
              "      --hover-bg-color: #434B5C;\n",
              "      --hover-fill-color: #FFFFFF;\n",
              "      --disabled-bg-color: #3B4455;\n",
              "      --disabled-fill-color: #666;\n",
              "  }\n",
              "\n",
              "  .colab-df-quickchart {\n",
              "    background-color: var(--bg-color);\n",
              "    border: none;\n",
              "    border-radius: 50%;\n",
              "    cursor: pointer;\n",
              "    display: none;\n",
              "    fill: var(--fill-color);\n",
              "    height: 32px;\n",
              "    padding: 0;\n",
              "    width: 32px;\n",
              "  }\n",
              "\n",
              "  .colab-df-quickchart:hover {\n",
              "    background-color: var(--hover-bg-color);\n",
              "    box-shadow: 0 1px 2px rgba(60, 64, 67, 0.3), 0 1px 3px 1px rgba(60, 64, 67, 0.15);\n",
              "    fill: var(--button-hover-fill-color);\n",
              "  }\n",
              "\n",
              "  .colab-df-quickchart-complete:disabled,\n",
              "  .colab-df-quickchart-complete:disabled:hover {\n",
              "    background-color: var(--disabled-bg-color);\n",
              "    fill: var(--disabled-fill-color);\n",
              "    box-shadow: none;\n",
              "  }\n",
              "\n",
              "  .colab-df-spinner {\n",
              "    border: 2px solid var(--fill-color);\n",
              "    border-color: transparent;\n",
              "    border-bottom-color: var(--fill-color);\n",
              "    animation:\n",
              "      spin 1s steps(1) infinite;\n",
              "  }\n",
              "\n",
              "  @keyframes spin {\n",
              "    0% {\n",
              "      border-color: transparent;\n",
              "      border-bottom-color: var(--fill-color);\n",
              "      border-left-color: var(--fill-color);\n",
              "    }\n",
              "    20% {\n",
              "      border-color: transparent;\n",
              "      border-left-color: var(--fill-color);\n",
              "      border-top-color: var(--fill-color);\n",
              "    }\n",
              "    30% {\n",
              "      border-color: transparent;\n",
              "      border-left-color: var(--fill-color);\n",
              "      border-top-color: var(--fill-color);\n",
              "      border-right-color: var(--fill-color);\n",
              "    }\n",
              "    40% {\n",
              "      border-color: transparent;\n",
              "      border-right-color: var(--fill-color);\n",
              "      border-top-color: var(--fill-color);\n",
              "    }\n",
              "    60% {\n",
              "      border-color: transparent;\n",
              "      border-right-color: var(--fill-color);\n",
              "    }\n",
              "    80% {\n",
              "      border-color: transparent;\n",
              "      border-right-color: var(--fill-color);\n",
              "      border-bottom-color: var(--fill-color);\n",
              "    }\n",
              "    90% {\n",
              "      border-color: transparent;\n",
              "      border-bottom-color: var(--fill-color);\n",
              "    }\n",
              "  }\n",
              "</style>\n",
              "\n",
              "  <script>\n",
              "    async function quickchart(key) {\n",
              "      const quickchartButtonEl =\n",
              "        document.querySelector('#' + key + ' button');\n",
              "      quickchartButtonEl.disabled = true;  // To prevent multiple clicks.\n",
              "      quickchartButtonEl.classList.add('colab-df-spinner');\n",
              "      try {\n",
              "        const charts = await google.colab.kernel.invokeFunction(\n",
              "            'suggestCharts', [key], {});\n",
              "      } catch (error) {\n",
              "        console.error('Error during call to suggestCharts:', error);\n",
              "      }\n",
              "      quickchartButtonEl.classList.remove('colab-df-spinner');\n",
              "      quickchartButtonEl.classList.add('colab-df-quickchart-complete');\n",
              "    }\n",
              "    (() => {\n",
              "      let quickchartButtonEl =\n",
              "        document.querySelector('#df-37224756-9b6e-4499-a4a4-4ed12fbc948b button');\n",
              "      quickchartButtonEl.style.display =\n",
              "        google.colab.kernel.accessAllowed ? 'block' : 'none';\n",
              "    })();\n",
              "  </script>\n",
              "</div>\n",
              "\n",
              "    </div>\n",
              "  </div>\n"
            ],
            "application/vnd.google.colaboratory.intrinsic+json": {
              "type": "dataframe",
              "variable_name": "train_split",
              "summary": "{\n  \"name\": \"train_split\",\n  \"rows\": 40000,\n  \"fields\": [\n    {\n      \"column\": \"Content\",\n      \"properties\": {\n        \"dtype\": \"string\",\n        \"num_unique_values\": 39726,\n        \"samples\": [\n          \"This movie was bizarre, completely inexplicable, and hysterical to watch with friends while drinking in a big empty house. I really love the opening stuff with Lisa wandering about lost in a gorgeous city. I want to be a beautiful stranger lost in some exotic European locale, though maybe not in a low budget horror flick. Definitely get the ending where there are the strangely non-sexual sex scenes that were cut out (in my DVD copy anyway). Don't attempt to understand it, just go along and watch out for the weird bits...which is everything. Don't watch this if you actually want plot or characterization or anything at all to make sense. Pretty beautiful, though you may just give up on this and decide to watch an actual horror movie, like say, Dead Alive.\",\n          \"WARNING: REVIEW CONTAINS MILD SPOILERS<br /><br />A couple of years back I managed to see the first five films in this franchise, and was planning to do an overview of the whole Elm St. series. However, just two years on and I find I can't remember enough about them in order to do it \\u0096 I guess they couldn't have made much of an impression. From what I do recall, some of the sequels \\u0096 Dream Warriors in particular \\u0096 weren't as bad as is often made out, though even the original was no classic. Generally, the predictability of the premise (if people fall asleep they get murdered in their dreams) doesn't lend itself to narrative tension. But while I cannot recall much of the first five films, I do know they never plumbed the depths of Freddy's Dead.<br /><br />An indication of how sick of Freddy the public was at this point can be judged by the fact that the film was promoted solely on the character's demise. The fact that the movie's conclusion is not even hidden, but in fact the entire purpose for the film's being goes to illustrate how vacant, soulless and cynical this venture was.<br /><br />Taking the morally questionable idea of having a child molester as the charismatic villain, Robert Englund's in-no-way-scary interpretation booms with laughter. I always thought Freddy's mockery of the teenage victims was less aimed at the characters than at the teenage audience that could ever watch this tripe. It's like Englund's crying out \\\"we know this is garbage \\u0096 but you're paying to see it, so who's the one laughing?\\\" And I'm sure victims of child abuse would be disheartened to see such an insensitive depiction of their plight. Was Freddy's appearance in the films always so rudimentary? All he gets to do here is a few \\\"haaaaaaaaaaaaaarr \\u0096 har \\u0096 har \\u0096 hars\\\" and that's it. If this was the only Elm St. film you'd ever seen you wouldn't get to know the character at all. Even as the character pre-death in a flashback Englund plays him as a boo-hiss pantomime villain with a slop of Transatlantic (ie. overstated, misplaced and not at all funny) irony.<br /><br />Acting is almost universally poor. Just look at how many times Breckin Meyer overacts with his hand gestures and body language. Only Kananga himself, Yaphet Kotto, keeps his dignity. And when Roseanne, Tom Arnold and Alice Cooper show up, you can almost visibly see the film sinking further into the mire. The script, too, is absolutely lousy, almost wholly without merit. Carlos (Ricky Dean Logan) opens a road map, upon which the Noel Coward-like Freddy has wittily written \\\"you're f**ked\\\". When prompted for the map, Carlos responds \\\"well the map says we're f**ked\\\". Who wrote the screenplay, Oscar Wilde?<br /><br />Or how about the scene where Carlos is tortured by Freddy, his hearing enhanced to painful levels? So Freddy torments him by threatening to drop a pin \\u0096 a potentially fatal sound, given that all sounds are magnified. Oddly, the fact that Carlos shouts at the top of his voice for him not to drop it seems to have no effect. \\\"Nice hearing from you, Carlos\\\", quips Freddy, hoping some better lines will come along. It's also worth noting that dream sleep doesn't occur instaneously, so being knocked unconscious wouldn't allow instant access into Freddy's world. Though as part of the narrative contains a human computer game and a 3-D finale plot logic isn't that high on the list of requirements.<br /><br />The teenagers heading the cast this time are really the most obnoxious, dislikeable group in the whole series. Tracy (Lezlie Deane) is the only one who gets to greet Freddy with \\\"shut the f**k up, man\\\" and a kick in the scallops. And was incongruous pop music always part of the ingredients? Freddy's Dead. No laughs. No scares. No interest. No fun.<br /><br />\",\n          \"The quality of this movie is simply unmatched by any baseball title of its time. Pam Dixon branches out in the film industry to recruit blue-chip prospects and make this work of art a must-see. Academy Award winners Brenda Fricker (Home Alone: Lost in New York, A Time to Kill), Ben Johnson (The Last Picture Show, Red Dawn), and Adrien Brody (The Pianist, The Village) amplify the atmosphere of the movie, drawing in an anxious audience. However, the dramatic performances are neutralized by quirky radio broadcaster Jay O. Sanders (JFK, The Day After Tomorrow).<br /><br />The story is centralized around a foster child, up-and-coming actor Joseph Gordon-Levitt (Brick, The Lookout). Sidekick Milton Davis Jr. delivers a tear-jerking performance as the longtime friend who never knew his parents. The two don't have much, but what they do have: Angels' baseball, and what they are seeking: identity. That's when 4-time Emmy Nominee Danny Glover (Lethal Weapon, Predator 2) comes in to save the day as frustrated Angels Manager, George Knox. In relation, all characters in the story seem to have the same mission: search within themselves to find out who they really are.<br /><br />Depressed over the fact that Roger (JGL) is separated from his father, he wishes to God for reunification if the Angels can take the pennant. Odds are astronomical, but 3-time Emmy winner Christopher Lloyd (Back to the Future, My Favorite Martian) comes in as the omniscient overseer to work a little magic (pun). Before you know it, Al (Lloyd) is sitting with Roger in the stands, snacking on cracker jacks, and causing some of baseball's biggest boners! Dorothy Kingsley and George Wells' (DK Oscar Nominee GW Oscar Winner) 1951 screenplay is done justice under the finger of mastermind William Dear (nominated in Directors Guild of America). He includes a touching side story centered around pitcher Mel Clark, played by Tony Danza (4-time Golden Globe nominee, Emmy nominee), who in relation to all other cast members is just trying to find his place in a confused Anaheim. Clark has been dubbed a wash-up, a once big-name in Cinci, but he has something to prove to Manager Knox.<br /><br />Spoiling this nail-biting plot would simply be the equivalent to committing adultery in the 18th century. This one is a diamond in the rough, and it will keep you on the edge of the seat until all come to peace. Did I mention a cameo by Matthew McConaughey (A Time to Kill, We Are Marshall) for all you ladies out there?\"\n        ],\n        \"semantic_type\": \"\",\n        \"description\": \"\"\n      }\n    },\n    {\n      \"column\": \"rating\",\n      \"properties\": {\n        \"dtype\": \"number\",\n        \"std\": 0,\n        \"min\": 0,\n        \"max\": 1,\n        \"num_unique_values\": 2,\n        \"samples\": [\n          0,\n          1\n        ],\n        \"semantic_type\": \"\",\n        \"description\": \"\"\n      }\n    }\n  ]\n}"
            }
          },
          "metadata": {},
          "execution_count": 41
        }
      ]
    },
    {
      "cell_type": "code",
      "execution_count": null,
      "metadata": {
        "colab": {
          "base_uri": "https://localhost:8080/",
          "height": 145,
          "referenced_widgets": [
            "939b0472629b4f60b6edfd6b395f0810",
            "1dcdb88e0572432da0038e2716481218",
            "9d47a44c74d84cb099ca65b58893f613",
            "28fd7e364c884e339652d1289d43a17d",
            "1c6b835d16064e96ab0cc9528611c896",
            "bacbc3adb2f34b869b3a095a23435f87",
            "21b43069b68b47969a734e294a721410",
            "b6894eb2ed8a4a08aeb5cb7289092569",
            "c0bee62be0074c7fb9f33058649cdcee",
            "b14f69f815884316ae5e22631fa02e41",
            "479a2de10c9d45a2a3acc3894435c35c",
            "a3678f1ed1dd4f598319f26529c35464",
            "f5b393093ec0481abac0e13c1fbd0154",
            "cc23746fb2f34e9ebf59a2a71c837d44",
            "91b6fe9df5344eca8bd0277bb9543904",
            "a7fdf1d6499149b6b5f911d1ad328c60",
            "b9afa55d08ba4c08bd8271f9cccd9520",
            "b95c28af6eab4e84a80218abd219d83c",
            "1e2d0b846d19485887347ac1cfa40f89",
            "53d0a52788e44601be7e33b31d652d5b",
            "c3886643a81d449eb036cca139502bd5",
            "7826d0101f24417bb5d30f8c866d5748",
            "0e782e081f4842f4ae1ba4fbf009f3d1",
            "146b4f44c6a74d67bd50e6560b390bc7",
            "cdc1cbf0498e4744a6efda61def38dd6",
            "f72bfaef44c0442e8e613afb6e725336",
            "c310d640e0114913a5d9379ac77cd3cf",
            "834b0e537ce746d988c314282f75c05d",
            "dce3422ca1f049a09b50191e69491f19",
            "e44247cafe56476283fd6075c1d4b53e",
            "8d2fa354307d449fba0b29abb78b3fe2",
            "b378eb6ad3014b0ca0c93c6c495094fc",
            "32ae83c929f049cebd4bbc30d1538615",
            "d51cf1449bbc492f994345bbd538a526",
            "5fbeb58adbed41fcb3dd11389f51f939",
            "fc13277995474fc4884af1592ed6ee79",
            "3e9a3c64d7b142adba32412d85e13408",
            "7879759532734dcd81b9bef94bac3f9e",
            "edc09d4f5f2c429792a3b6443afbbf72",
            "c800df3a0932419489ba267377146f0a",
            "f149e941a89141aab00c4db0f5d12731",
            "a433e66127be4e1a81b887c461669b5c",
            "ac2ec668b60d4f33b2c6d001e9a366ce",
            "d53c96c7472e4c3f8cd7cbaa2b532d0c"
          ]
        },
        "outputId": "1663b7af-5ba2-405d-8df1-4723f8a4147f",
        "id": "dr-4_e7pNm8N"
      },
      "outputs": [
        {
          "output_type": "display_data",
          "data": {
            "text/plain": [
              "tokenizer_config.json:   0%|          | 0.00/49.0 [00:00<?, ?B/s]"
            ],
            "application/vnd.jupyter.widget-view+json": {
              "version_major": 2,
              "version_minor": 0,
              "model_id": "939b0472629b4f60b6edfd6b395f0810"
            }
          },
          "metadata": {}
        },
        {
          "output_type": "display_data",
          "data": {
            "text/plain": [
              "vocab.txt:   0%|          | 0.00/213k [00:00<?, ?B/s]"
            ],
            "application/vnd.jupyter.widget-view+json": {
              "version_major": 2,
              "version_minor": 0,
              "model_id": "a3678f1ed1dd4f598319f26529c35464"
            }
          },
          "metadata": {}
        },
        {
          "output_type": "display_data",
          "data": {
            "text/plain": [
              "tokenizer.json:   0%|          | 0.00/436k [00:00<?, ?B/s]"
            ],
            "application/vnd.jupyter.widget-view+json": {
              "version_major": 2,
              "version_minor": 0,
              "model_id": "0e782e081f4842f4ae1ba4fbf009f3d1"
            }
          },
          "metadata": {}
        },
        {
          "output_type": "display_data",
          "data": {
            "text/plain": [
              "config.json:   0%|          | 0.00/570 [00:00<?, ?B/s]"
            ],
            "application/vnd.jupyter.widget-view+json": {
              "version_major": 2,
              "version_minor": 0,
              "model_id": "d51cf1449bbc492f994345bbd538a526"
            }
          },
          "metadata": {}
        }
      ],
      "source": [
        "MODEL_NAME = 'bert-base-cased'\n",
        "\n",
        "# Build a BERT based tokenizer\n",
        "tokenizer = BertTokenizer.from_pretrained(MODEL_NAME)"
      ]
    },
    {
      "cell_type": "code",
      "execution_count": null,
      "metadata": {
        "id": "Z5_3OL7_Nm8N"
      },
      "outputs": [],
      "source": [
        "class GPReviewDataset(Dataset):\n",
        "    # Constructor Function\n",
        "    def __init__(self, reviews, targets, tokenizer, max_len):\n",
        "        self.reviews = reviews\n",
        "        self.targets = targets\n",
        "        self.tokenizer = tokenizer\n",
        "        self.max_len = max_len\n",
        "\n",
        "    # Length magic method\n",
        "    def __len__(self):\n",
        "        return len(self.reviews)\n",
        "\n",
        "    # get item magic method\n",
        "    def __getitem__(self, item):\n",
        "        reviews = str(self.reviews[item]).lower()\n",
        "        reviews = re.sub(r'<[^>]+>', '', reviews)\n",
        "        reviews = re.sub(r'https://\\S+|www\\.\\S+', '', reviews)\n",
        "        reviews = \" \".join(reviews.split())\n",
        "        target = self.targets[item]\n",
        "\n",
        "        # Encoded format to be returned\n",
        "        encoding = self.tokenizer.encode_plus(\n",
        "            reviews,\n",
        "            add_special_tokens=True,\n",
        "            max_length=self.max_len,\n",
        "            return_token_type_ids=False,\n",
        "            pad_to_max_length=True,\n",
        "            return_attention_mask=True,\n",
        "            return_tensors='pt',\n",
        "        )\n",
        "\n",
        "        return {\n",
        "            'review_text': reviews,\n",
        "            'input_ids': encoding['input_ids'].flatten(),\n",
        "            'attention_mask': encoding['attention_mask'].flatten(),\n",
        "            'targets': torch.tensor(target, dtype=torch.long)\n",
        "        }"
      ]
    },
    {
      "cell_type": "code",
      "source": [
        "df_train = train_split\n",
        "df_val, df_test = train_test_split(test_split, test_size=0.5)\n",
        "\n",
        "print(df_train.shape, df_val.shape, df_test.shape)"
      ],
      "metadata": {
        "colab": {
          "base_uri": "https://localhost:8080/"
        },
        "id": "Tj11nOKHLZO5",
        "outputId": "329da3d3-05c1-4bb5-e01d-945266f490f2"
      },
      "execution_count": null,
      "outputs": [
        {
          "output_type": "stream",
          "name": "stdout",
          "text": [
            "(40000, 2) (5000, 2) (5000, 2)\n"
          ]
        }
      ]
    },
    {
      "cell_type": "code",
      "source": [
        "def create_data_loader(df, tokenizer, max_len, batch_size):\n",
        "    ds = GPReviewDataset(\n",
        "        reviews=df.Content.to_numpy(),\n",
        "        targets=df.rating.to_numpy(),\n",
        "        tokenizer=tokenizer,\n",
        "        max_len=max_len\n",
        "    )\n",
        "\n",
        "    return DataLoader(\n",
        "        ds,\n",
        "        batch_size=batch_size,\n",
        "        num_workers=0\n",
        "    )"
      ],
      "metadata": {
        "id": "O-IoloQkNs3L"
      },
      "execution_count": null,
      "outputs": []
    },
    {
      "cell_type": "code",
      "execution_count": null,
      "metadata": {
        "id": "i6lt7Os10j2r"
      },
      "outputs": [],
      "source": [
        "BATCH_SIZE = 26\n",
        "train_data_loader = create_data_loader(df_train, tokenizer, MAX_LEN, BATCH_SIZE)\n",
        "val_data_loader = create_data_loader(df_val, tokenizer, MAX_LEN, BATCH_SIZE)\n",
        "test_data_loader = create_data_loader(df_test, tokenizer, MAX_LEN, BATCH_SIZE)"
      ]
    },
    {
      "cell_type": "code",
      "execution_count": null,
      "metadata": {
        "colab": {
          "base_uri": "https://localhost:8080/"
        },
        "id": "nbcUuF4H0j2r",
        "outputId": "54c77de9-cd79-4526-c4b8-d1873f2952cf"
      },
      "outputs": [
        {
          "output_type": "stream",
          "name": "stdout",
          "text": [
            "dict_keys(['review_text', 'input_ids', 'attention_mask', 'targets'])\n",
            "torch.Size([26, 512])\n",
            "torch.Size([26, 512])\n",
            "torch.Size([26])\n"
          ]
        }
      ],
      "source": [
        "data = next(iter(train_data_loader))\n",
        "print(data.keys())\n",
        "\n",
        "print(data['input_ids'].shape)\n",
        "print(data['attention_mask'].shape)\n",
        "print(data['targets'].shape)"
      ]
    },
    {
      "cell_type": "code",
      "execution_count": null,
      "metadata": {
        "colab": {
          "base_uri": "https://localhost:8080/"
        },
        "id": "SSnArtYu0j2r",
        "outputId": "cae5376f-9f83-4b8b-80f4-72e2f5c4388e"
      },
      "outputs": [
        {
          "output_type": "stream",
          "name": "stdout",
          "text": [
            "torch.Size([26, 512])\n",
            "torch.Size([26, 512])\n"
          ]
        }
      ],
      "source": [
        "input_ids = data['input_ids'].to(device)\n",
        "attention_mask = data['attention_mask'].to(device)\n",
        "print(input_ids.shape) # batch size x seq length\n",
        "print(attention_mask.shape) # batch size x seq length"
      ]
    },
    {
      "cell_type": "code",
      "source": [
        "bert_model = BertModel.from_pretrained(MODEL_NAME)"
      ],
      "metadata": {
        "id": "twZGhglxNxPu"
      },
      "execution_count": null,
      "outputs": []
    },
    {
      "cell_type": "code",
      "execution_count": null,
      "metadata": {
        "id": "VNFbfzjk0j2r"
      },
      "outputs": [],
      "source": [
        "class SentimentClassifier(nn.Module):\n",
        "\n",
        "    # Constructor class\n",
        "    def __init__(self, n_classes):\n",
        "        super(SentimentClassifier, self).__init__()\n",
        "        self.bert = BertModel.from_pretrained(MODEL_NAME)\n",
        "        self.drop = nn.Dropout(p=0.3)\n",
        "        self.out = nn.Linear(self.bert.config.hidden_size, n_classes)\n",
        "\n",
        "    # Forward propagaion class\n",
        "    def forward(self, input_ids, attention_mask):\n",
        "      outputs = self.bert(input_ids=input_ids, attention_mask=attention_mask)\n",
        "      pooled_output = outputs[1]\n",
        "      output_after_dropout = self.drop(pooled_output)\n",
        "      return self.out(output_after_dropout)"
      ]
    },
    {
      "cell_type": "code",
      "source": [
        "levels = len(df_train['rating'].unique())\n",
        "model = SentimentClassifier(levels)\n",
        "model = model.to(device)\n",
        "\n",
        "#If OutOfMemory Error, batch size = 16 works. But will be slower.\n",
        "#I think 32 doesnt work too\n"
      ],
      "metadata": {
        "id": "MZeeuJ9LLqws"
      },
      "execution_count": null,
      "outputs": []
    },
    {
      "cell_type": "code",
      "source": [
        "EPOCHS = 2\n",
        "optimizer = AdamW(model.parameters(), lr=2e-5, correct_bias=False)\n",
        "total_steps = len(train_data_loader) * EPOCHS\n",
        "\n",
        "scheduler = get_linear_schedule_with_warmup(\n",
        "  optimizer,\n",
        "  num_warmup_steps=0,\n",
        "  num_training_steps=total_steps\n",
        ")\n",
        "\n",
        "loss_fn = nn.CrossEntropyLoss().to(device)"
      ],
      "metadata": {
        "id": "JrtUXb9LLqu8"
      },
      "execution_count": null,
      "outputs": []
    },
    {
      "cell_type": "code",
      "source": [
        "def train_epoch(\n",
        "  model,\n",
        "  data_loader,\n",
        "  loss_fn,\n",
        "  optimizer,\n",
        "  device,\n",
        "  scheduler,\n",
        "  n_examples\n",
        "):\n",
        "  model = model.train()\n",
        "\n",
        "  losses = []\n",
        "  correct_predictions = 0\n",
        "\n",
        "  for d in data_loader:\n",
        "    input_ids = d[\"input_ids\"].to(device)\n",
        "    attention_mask = d[\"attention_mask\"].to(device)\n",
        "    targets = d[\"targets\"].to(device)\n",
        "\n",
        "    outputs = model(\n",
        "      input_ids=input_ids,\n",
        "      attention_mask=attention_mask\n",
        "    )\n",
        "\n",
        "    _, preds = torch.max(outputs, dim=1)\n",
        "    loss = loss_fn(outputs, targets)\n",
        "\n",
        "    correct_predictions += torch.sum(preds == targets)\n",
        "    losses.append(loss.item())\n",
        "\n",
        "    loss.backward()\n",
        "    nn.utils.clip_grad_norm_(model.parameters(), max_norm=1.0)\n",
        "    optimizer.step()\n",
        "    scheduler.step()\n",
        "    optimizer.zero_grad()\n",
        "\n",
        "  return correct_predictions.double() / n_examples, np.mean(losses)"
      ],
      "metadata": {
        "id": "4flYkKLgN1mH"
      },
      "execution_count": null,
      "outputs": []
    },
    {
      "cell_type": "code",
      "source": [
        "def eval_model(model, data_loader, loss_fn, device, n_examples):\n",
        "  model = model.eval()\n",
        "\n",
        "  losses = []\n",
        "  correct_predictions = 0\n",
        "\n",
        "  with torch.no_grad():\n",
        "    for d in data_loader:\n",
        "      input_ids = d[\"input_ids\"].to(device)\n",
        "      attention_mask = d[\"attention_mask\"].to(device)\n",
        "      targets = d[\"targets\"].to(device)\n",
        "\n",
        "      outputs = model(\n",
        "        input_ids=input_ids,\n",
        "        attention_mask=attention_mask\n",
        "      )\n",
        "      _, preds = torch.max(outputs, dim=1)\n",
        "\n",
        "      loss = loss_fn(outputs, targets)\n",
        "\n",
        "      correct_predictions += torch.sum(preds == targets)\n",
        "      losses.append(loss.item())\n",
        "\n",
        "  return correct_predictions.double() / n_examples, np.mean(losses)"
      ],
      "metadata": {
        "id": "rVVSyuLdN2Km"
      },
      "execution_count": null,
      "outputs": []
    },
    {
      "cell_type": "code",
      "source": [
        "%%time\n",
        "\n",
        "history = defaultdict(list)\n",
        "best_accuracy = 0\n",
        "\n",
        "for epoch in range(EPOCHS):\n",
        "\n",
        "  print(f'Epoch {epoch + 1}/{EPOCHS}')\n",
        "  print('-' * 10)\n",
        "\n",
        "  train_acc, train_loss = train_epoch(\n",
        "    model,\n",
        "    train_data_loader,\n",
        "    loss_fn,\n",
        "    optimizer,\n",
        "    device,\n",
        "    scheduler,\n",
        "    len(df_train)\n",
        "  )\n",
        "\n",
        "  print(f'Train loss {train_loss} accuracy {train_acc}')\n",
        "\n",
        "  val_acc, val_loss = eval_model(\n",
        "    model,\n",
        "    val_data_loader,\n",
        "    loss_fn,\n",
        "    device,\n",
        "    len(df_val)\n",
        "  )\n",
        "\n",
        "  print(f'Val   loss {val_loss} accuracy {val_acc}')\n",
        "  print()\n",
        "\n",
        "  history['train_acc'].append(train_acc)\n",
        "  history['train_loss'].append(train_loss)\n",
        "  history['val_acc'].append(val_acc)\n",
        "  history['val_loss'].append(val_loss)\n",
        "\n",
        "  if val_acc > best_accuracy:\n",
        "    torch.save(model.state_dict(), 'best_model_state.bin')\n",
        "    best_accuracy = val_acc"
      ],
      "metadata": {
        "id": "xx8_w-WDLqtF"
      },
      "execution_count": null,
      "outputs": []
    },
    {
      "cell_type": "code",
      "source": [],
      "metadata": {
        "id": "dbG6gtAbLqrR"
      },
      "execution_count": null,
      "outputs": []
    }
  ]
}